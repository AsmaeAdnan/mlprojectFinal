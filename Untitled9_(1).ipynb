{
  "nbformat": 4,
  "nbformat_minor": 0,
  "metadata": {
    "colab": {
      "provenance": [],
      "gpuType": "T4"
    },
    "kernelspec": {
      "name": "python3",
      "display_name": "Python 3"
    },
    "language_info": {
      "name": "python"
    },
    "accelerator": "GPU"
  },
  "cells": [
    {
      "cell_type": "code",
      "source": [
        "import pandas as pd\n",
        "import ast\n",
        "from matplotlib import pyplot as plt\n",
        "import seaborn as sns\n",
        "import numpy as np\n",
        "import math"
      ],
      "metadata": {
        "id": "oAhEDAKKy9Cj"
      },
      "execution_count": null,
      "outputs": []
    },
    {
      "cell_type": "code",
      "execution_count": null,
      "metadata": {
        "id": "C6fzEYEnyyft"
      },
      "outputs": [],
      "source": [
        "data2016 = pd.read_csv('/content/2016_Building_Energy_Benchmarking.csv', sep=',',index_col=0)"
      ]
    },
    {
      "cell_type": "code",
      "source": [
        "data2016.head()"
      ],
      "metadata": {
        "colab": {
          "base_uri": "https://localhost:8080/",
          "height": 452
        },
        "id": "g7_1QSSDzD-d",
        "outputId": "13f4fc7c-1ddd-49bc-c426-63418cc068d3"
      },
      "execution_count": null,
      "outputs": [
        {
          "output_type": "execute_result",
          "data": {
            "text/plain": [
              "               DataYear    BuildingType PrimaryPropertyType  \\\n",
              "OSEBuildingID                                                 \n",
              "1                  2016  NonResidential               Hotel   \n",
              "2                  2016  NonResidential               Hotel   \n",
              "3                  2016  NonResidential               Hotel   \n",
              "5                  2016  NonResidential               Hotel   \n",
              "8                  2016  NonResidential               Hotel   \n",
              "\n",
              "                              PropertyName          Address     City State  \\\n",
              "OSEBuildingID                                                                \n",
              "1                     Mayflower park hotel    405 Olive way  Seattle    WA   \n",
              "2                          Paramount Hotel  724 Pine street  Seattle    WA   \n",
              "3                  5673-The Westin Seattle  1900 5th Avenue  Seattle    WA   \n",
              "5                                HOTEL MAX   620 STEWART ST  Seattle    WA   \n",
              "8              WARWICK SEATTLE HOTEL (ID8)    401 LENORA ST  Seattle    WA   \n",
              "\n",
              "               ZipCode TaxParcelIdentificationNumber  CouncilDistrictCode  \\\n",
              "OSEBuildingID                                                               \n",
              "1              98101.0                    0659000030                    7   \n",
              "2              98101.0                    0659000220                    7   \n",
              "3              98101.0                    0659000475                    7   \n",
              "5              98101.0                    0659000640                    7   \n",
              "8              98121.0                    0659000970                    7   \n",
              "\n",
              "               ... Electricity(kWh)  Electricity(kBtu)  NaturalGas(therms)  \\\n",
              "OSEBuildingID  ...                                                           \n",
              "1              ...     1.156514e+06          3946027.0         12764.52930   \n",
              "2              ...     9.504252e+05          3242851.0         51450.81641   \n",
              "3              ...     1.451544e+07         49526664.0         14938.00000   \n",
              "5              ...     8.115253e+05          2768924.0         18112.13086   \n",
              "8              ...     1.573449e+06          5368607.0         88039.98438   \n",
              "\n",
              "               NaturalGas(kBtu)  DefaultData  Comments  ComplianceStatus  \\\n",
              "OSEBuildingID                                                              \n",
              "1                     1276453.0        False       NaN         Compliant   \n",
              "2                     5145082.0        False       NaN         Compliant   \n",
              "3                     1493800.0        False       NaN         Compliant   \n",
              "5                     1811213.0        False       NaN         Compliant   \n",
              "8                     8803998.0        False       NaN         Compliant   \n",
              "\n",
              "               Outlier  TotalGHGEmissions GHGEmissionsIntensity  \n",
              "OSEBuildingID                                                    \n",
              "1                  NaN             249.98                  2.83  \n",
              "2                  NaN             295.86                  2.86  \n",
              "3                  NaN            2089.28                  2.19  \n",
              "5                  NaN             286.43                  4.67  \n",
              "8                  NaN             505.01                  2.88  \n",
              "\n",
              "[5 rows x 45 columns]"
            ],
            "text/html": [
              "\n",
              "  <div id=\"df-790e328b-38c3-46c0-abaa-5151c55f7cd4\">\n",
              "    <div class=\"colab-df-container\">\n",
              "      <div>\n",
              "<style scoped>\n",
              "    .dataframe tbody tr th:only-of-type {\n",
              "        vertical-align: middle;\n",
              "    }\n",
              "\n",
              "    .dataframe tbody tr th {\n",
              "        vertical-align: top;\n",
              "    }\n",
              "\n",
              "    .dataframe thead th {\n",
              "        text-align: right;\n",
              "    }\n",
              "</style>\n",
              "<table border=\"1\" class=\"dataframe\">\n",
              "  <thead>\n",
              "    <tr style=\"text-align: right;\">\n",
              "      <th></th>\n",
              "      <th>DataYear</th>\n",
              "      <th>BuildingType</th>\n",
              "      <th>PrimaryPropertyType</th>\n",
              "      <th>PropertyName</th>\n",
              "      <th>Address</th>\n",
              "      <th>City</th>\n",
              "      <th>State</th>\n",
              "      <th>ZipCode</th>\n",
              "      <th>TaxParcelIdentificationNumber</th>\n",
              "      <th>CouncilDistrictCode</th>\n",
              "      <th>...</th>\n",
              "      <th>Electricity(kWh)</th>\n",
              "      <th>Electricity(kBtu)</th>\n",
              "      <th>NaturalGas(therms)</th>\n",
              "      <th>NaturalGas(kBtu)</th>\n",
              "      <th>DefaultData</th>\n",
              "      <th>Comments</th>\n",
              "      <th>ComplianceStatus</th>\n",
              "      <th>Outlier</th>\n",
              "      <th>TotalGHGEmissions</th>\n",
              "      <th>GHGEmissionsIntensity</th>\n",
              "    </tr>\n",
              "    <tr>\n",
              "      <th>OSEBuildingID</th>\n",
              "      <th></th>\n",
              "      <th></th>\n",
              "      <th></th>\n",
              "      <th></th>\n",
              "      <th></th>\n",
              "      <th></th>\n",
              "      <th></th>\n",
              "      <th></th>\n",
              "      <th></th>\n",
              "      <th></th>\n",
              "      <th></th>\n",
              "      <th></th>\n",
              "      <th></th>\n",
              "      <th></th>\n",
              "      <th></th>\n",
              "      <th></th>\n",
              "      <th></th>\n",
              "      <th></th>\n",
              "      <th></th>\n",
              "      <th></th>\n",
              "      <th></th>\n",
              "    </tr>\n",
              "  </thead>\n",
              "  <tbody>\n",
              "    <tr>\n",
              "      <th>1</th>\n",
              "      <td>2016</td>\n",
              "      <td>NonResidential</td>\n",
              "      <td>Hotel</td>\n",
              "      <td>Mayflower park hotel</td>\n",
              "      <td>405 Olive way</td>\n",
              "      <td>Seattle</td>\n",
              "      <td>WA</td>\n",
              "      <td>98101.0</td>\n",
              "      <td>0659000030</td>\n",
              "      <td>7</td>\n",
              "      <td>...</td>\n",
              "      <td>1.156514e+06</td>\n",
              "      <td>3946027.0</td>\n",
              "      <td>12764.52930</td>\n",
              "      <td>1276453.0</td>\n",
              "      <td>False</td>\n",
              "      <td>NaN</td>\n",
              "      <td>Compliant</td>\n",
              "      <td>NaN</td>\n",
              "      <td>249.98</td>\n",
              "      <td>2.83</td>\n",
              "    </tr>\n",
              "    <tr>\n",
              "      <th>2</th>\n",
              "      <td>2016</td>\n",
              "      <td>NonResidential</td>\n",
              "      <td>Hotel</td>\n",
              "      <td>Paramount Hotel</td>\n",
              "      <td>724 Pine street</td>\n",
              "      <td>Seattle</td>\n",
              "      <td>WA</td>\n",
              "      <td>98101.0</td>\n",
              "      <td>0659000220</td>\n",
              "      <td>7</td>\n",
              "      <td>...</td>\n",
              "      <td>9.504252e+05</td>\n",
              "      <td>3242851.0</td>\n",
              "      <td>51450.81641</td>\n",
              "      <td>5145082.0</td>\n",
              "      <td>False</td>\n",
              "      <td>NaN</td>\n",
              "      <td>Compliant</td>\n",
              "      <td>NaN</td>\n",
              "      <td>295.86</td>\n",
              "      <td>2.86</td>\n",
              "    </tr>\n",
              "    <tr>\n",
              "      <th>3</th>\n",
              "      <td>2016</td>\n",
              "      <td>NonResidential</td>\n",
              "      <td>Hotel</td>\n",
              "      <td>5673-The Westin Seattle</td>\n",
              "      <td>1900 5th Avenue</td>\n",
              "      <td>Seattle</td>\n",
              "      <td>WA</td>\n",
              "      <td>98101.0</td>\n",
              "      <td>0659000475</td>\n",
              "      <td>7</td>\n",
              "      <td>...</td>\n",
              "      <td>1.451544e+07</td>\n",
              "      <td>49526664.0</td>\n",
              "      <td>14938.00000</td>\n",
              "      <td>1493800.0</td>\n",
              "      <td>False</td>\n",
              "      <td>NaN</td>\n",
              "      <td>Compliant</td>\n",
              "      <td>NaN</td>\n",
              "      <td>2089.28</td>\n",
              "      <td>2.19</td>\n",
              "    </tr>\n",
              "    <tr>\n",
              "      <th>5</th>\n",
              "      <td>2016</td>\n",
              "      <td>NonResidential</td>\n",
              "      <td>Hotel</td>\n",
              "      <td>HOTEL MAX</td>\n",
              "      <td>620 STEWART ST</td>\n",
              "      <td>Seattle</td>\n",
              "      <td>WA</td>\n",
              "      <td>98101.0</td>\n",
              "      <td>0659000640</td>\n",
              "      <td>7</td>\n",
              "      <td>...</td>\n",
              "      <td>8.115253e+05</td>\n",
              "      <td>2768924.0</td>\n",
              "      <td>18112.13086</td>\n",
              "      <td>1811213.0</td>\n",
              "      <td>False</td>\n",
              "      <td>NaN</td>\n",
              "      <td>Compliant</td>\n",
              "      <td>NaN</td>\n",
              "      <td>286.43</td>\n",
              "      <td>4.67</td>\n",
              "    </tr>\n",
              "    <tr>\n",
              "      <th>8</th>\n",
              "      <td>2016</td>\n",
              "      <td>NonResidential</td>\n",
              "      <td>Hotel</td>\n",
              "      <td>WARWICK SEATTLE HOTEL (ID8)</td>\n",
              "      <td>401 LENORA ST</td>\n",
              "      <td>Seattle</td>\n",
              "      <td>WA</td>\n",
              "      <td>98121.0</td>\n",
              "      <td>0659000970</td>\n",
              "      <td>7</td>\n",
              "      <td>...</td>\n",
              "      <td>1.573449e+06</td>\n",
              "      <td>5368607.0</td>\n",
              "      <td>88039.98438</td>\n",
              "      <td>8803998.0</td>\n",
              "      <td>False</td>\n",
              "      <td>NaN</td>\n",
              "      <td>Compliant</td>\n",
              "      <td>NaN</td>\n",
              "      <td>505.01</td>\n",
              "      <td>2.88</td>\n",
              "    </tr>\n",
              "  </tbody>\n",
              "</table>\n",
              "<p>5 rows × 45 columns</p>\n",
              "</div>\n",
              "      <button class=\"colab-df-convert\" onclick=\"convertToInteractive('df-790e328b-38c3-46c0-abaa-5151c55f7cd4')\"\n",
              "              title=\"Convert this dataframe to an interactive table.\"\n",
              "              style=\"display:none;\">\n",
              "        \n",
              "  <svg xmlns=\"http://www.w3.org/2000/svg\" height=\"24px\"viewBox=\"0 0 24 24\"\n",
              "       width=\"24px\">\n",
              "    <path d=\"M0 0h24v24H0V0z\" fill=\"none\"/>\n",
              "    <path d=\"M18.56 5.44l.94 2.06.94-2.06 2.06-.94-2.06-.94-.94-2.06-.94 2.06-2.06.94zm-11 1L8.5 8.5l.94-2.06 2.06-.94-2.06-.94L8.5 2.5l-.94 2.06-2.06.94zm10 10l.94 2.06.94-2.06 2.06-.94-2.06-.94-.94-2.06-.94 2.06-2.06.94z\"/><path d=\"M17.41 7.96l-1.37-1.37c-.4-.4-.92-.59-1.43-.59-.52 0-1.04.2-1.43.59L10.3 9.45l-7.72 7.72c-.78.78-.78 2.05 0 2.83L4 21.41c.39.39.9.59 1.41.59.51 0 1.02-.2 1.41-.59l7.78-7.78 2.81-2.81c.8-.78.8-2.07 0-2.86zM5.41 20L4 18.59l7.72-7.72 1.47 1.35L5.41 20z\"/>\n",
              "  </svg>\n",
              "      </button>\n",
              "      \n",
              "  <style>\n",
              "    .colab-df-container {\n",
              "      display:flex;\n",
              "      flex-wrap:wrap;\n",
              "      gap: 12px;\n",
              "    }\n",
              "\n",
              "    .colab-df-convert {\n",
              "      background-color: #E8F0FE;\n",
              "      border: none;\n",
              "      border-radius: 50%;\n",
              "      cursor: pointer;\n",
              "      display: none;\n",
              "      fill: #1967D2;\n",
              "      height: 32px;\n",
              "      padding: 0 0 0 0;\n",
              "      width: 32px;\n",
              "    }\n",
              "\n",
              "    .colab-df-convert:hover {\n",
              "      background-color: #E2EBFA;\n",
              "      box-shadow: 0px 1px 2px rgba(60, 64, 67, 0.3), 0px 1px 3px 1px rgba(60, 64, 67, 0.15);\n",
              "      fill: #174EA6;\n",
              "    }\n",
              "\n",
              "    [theme=dark] .colab-df-convert {\n",
              "      background-color: #3B4455;\n",
              "      fill: #D2E3FC;\n",
              "    }\n",
              "\n",
              "    [theme=dark] .colab-df-convert:hover {\n",
              "      background-color: #434B5C;\n",
              "      box-shadow: 0px 1px 3px 1px rgba(0, 0, 0, 0.15);\n",
              "      filter: drop-shadow(0px 1px 2px rgba(0, 0, 0, 0.3));\n",
              "      fill: #FFFFFF;\n",
              "    }\n",
              "  </style>\n",
              "\n",
              "      <script>\n",
              "        const buttonEl =\n",
              "          document.querySelector('#df-790e328b-38c3-46c0-abaa-5151c55f7cd4 button.colab-df-convert');\n",
              "        buttonEl.style.display =\n",
              "          google.colab.kernel.accessAllowed ? 'block' : 'none';\n",
              "\n",
              "        async function convertToInteractive(key) {\n",
              "          const element = document.querySelector('#df-790e328b-38c3-46c0-abaa-5151c55f7cd4');\n",
              "          const dataTable =\n",
              "            await google.colab.kernel.invokeFunction('convertToInteractive',\n",
              "                                                     [key], {});\n",
              "          if (!dataTable) return;\n",
              "\n",
              "          const docLinkHtml = 'Like what you see? Visit the ' +\n",
              "            '<a target=\"_blank\" href=https://colab.research.google.com/notebooks/data_table.ipynb>data table notebook</a>'\n",
              "            + ' to learn more about interactive tables.';\n",
              "          element.innerHTML = '';\n",
              "          dataTable['output_type'] = 'display_data';\n",
              "          await google.colab.output.renderOutput(dataTable, element);\n",
              "          const docLink = document.createElement('div');\n",
              "          docLink.innerHTML = docLinkHtml;\n",
              "          element.appendChild(docLink);\n",
              "        }\n",
              "      </script>\n",
              "    </div>\n",
              "  </div>\n",
              "  "
            ]
          },
          "metadata": {},
          "execution_count": 30
        }
      ]
    },
    {
      "cell_type": "code",
      "source": [
        "data2016.drop(['Comments'], axis='columns', inplace=True)"
      ],
      "metadata": {
        "id": "fLrFmNqSzWCa"
      },
      "execution_count": null,
      "outputs": []
    },
    {
      "cell_type": "code",
      "source": [
        "for key in list(data2016.keys()):\n",
        "    if data2016[key].nunique()<20:\n",
        "        print(key,'------->', data2016[key].unique())\n",
        "    else:\n",
        "        print(key, '------->',data2016[key].nunique())"
      ],
      "metadata": {
        "colab": {
          "base_uri": "https://localhost:8080/"
        },
        "id": "LoEf_d4oziKl",
        "outputId": "d00a7117-1e73-4315-8776-7e2e83a3caed"
      },
      "execution_count": null,
      "outputs": [
        {
          "output_type": "stream",
          "name": "stdout",
          "text": [
            "DataYear -------> [2016]\n",
            "BuildingType -------> ['NonResidential' 'Nonresidential COS' 'Multifamily MR (5-9)'\n",
            " 'SPS-District K-12' 'Campus' 'Multifamily LR (1-4)'\n",
            " 'Multifamily HR (10+)' 'Nonresidential WA']\n",
            "PrimaryPropertyType -------> 24\n",
            "PropertyName -------> 3362\n",
            "Address -------> 3354\n",
            "City -------> ['Seattle']\n",
            "State -------> ['WA']\n",
            "ZipCode -------> 55\n",
            "TaxParcelIdentificationNumber -------> 3268\n",
            "CouncilDistrictCode -------> [7 3 2 4 5 6 1]\n",
            "Neighborhood -------> ['DOWNTOWN' 'SOUTHEAST' 'NORTHEAST' 'EAST' 'Central' 'NORTH'\n",
            " 'MAGNOLIA / QUEEN ANNE' 'LAKE UNION' 'GREATER DUWAMISH' 'BALLARD'\n",
            " 'NORTHWEST' 'CENTRAL' 'SOUTHWEST' 'DELRIDGE' 'Ballard' 'North' 'Delridge'\n",
            " 'Northwest' 'DELRIDGE NEIGHBORHOODS']\n",
            "Latitude -------> 2876\n",
            "Longitude -------> 2656\n",
            "YearBuilt -------> 113\n",
            "NumberofBuildings -------> [  1.   3.   0.   2.   4.  27.   6.  11.  14.   9.   5.  nan   7.   8.\n",
            "  16.  23.  10. 111.]\n",
            "NumberofFloors -------> 50\n",
            "PropertyGFATotal -------> 3195\n",
            "PropertyGFAParking -------> 496\n",
            "PropertyGFABuilding(s) -------> 3193\n",
            "ListOfAllPropertyUseTypes -------> 466\n",
            "LargestPropertyUseType -------> 56\n",
            "LargestPropertyUseTypeGFA -------> 3122\n",
            "SecondLargestPropertyUseType -------> 50\n",
            "SecondLargestPropertyUseTypeGFA -------> 1352\n",
            "ThirdLargestPropertyUseType -------> 44\n",
            "ThirdLargestPropertyUseTypeGFA -------> 501\n",
            "YearsENERGYSTARCertified -------> 65\n",
            "ENERGYSTARScore -------> 100\n",
            "SiteEUI(kBtu/sf) -------> 1085\n",
            "SiteEUIWN(kBtu/sf) -------> 1105\n",
            "SourceEUI(kBtu/sf) -------> 1648\n",
            "SourceEUIWN(kBtu/sf) -------> 1694\n",
            "SiteEnergyUse(kBtu) -------> 3354\n",
            "SiteEnergyUseWN(kBtu) -------> 3341\n",
            "SteamUse(kBtu) -------> 131\n",
            "Electricity(kWh) -------> 3352\n",
            "Electricity(kBtu) -------> 3351\n",
            "NaturalGas(therms) -------> 2109\n",
            "NaturalGas(kBtu) -------> 2109\n",
            "DefaultData -------> [False  True]\n",
            "ComplianceStatus -------> ['Compliant' 'Error - Correct Default Data' 'Missing Data' 'Non-Compliant']\n",
            "Outlier -------> [nan 'High outlier' 'Low outlier']\n",
            "TotalGHGEmissions -------> 2818\n",
            "GHGEmissionsIntensity -------> 511\n"
          ]
        }
      ]
    },
    {
      "cell_type": "code",
      "source": [
        "data2016['Neighborhood'].replace('Delridge', 'DELRIDGE', inplace=True)\n",
        "data2016['Neighborhood'].replace('DELRIDGE NEIGHBORHOODS', 'DELRIDGE', inplace=True)\n",
        "data2016['Neighborhood'].replace('North', 'NORTH', inplace=True)\n",
        "data2016['Neighborhood'].replace('Northwest', 'NORTHWEST', inplace=True)\n",
        "data2016['Neighborhood'].replace('Central', 'CENTRAL', inplace=True)\n",
        "data2016['Neighborhood'].replace('Ballard', 'BALLARD', inplace=True)"
      ],
      "metadata": {
        "id": "GKfREgqXz7WO"
      },
      "execution_count": null,
      "outputs": []
    },
    {
      "cell_type": "code",
      "source": [
        "data2016['City'].replace('Seattle', 'SEATTLE', inplace=True)\n",
        "data2016['ComplianceStatus'].replace('Not Compliant', 'Non-Compliant', inplace=True)\n",
        "data2016['ComplianceStatus'].replace('Error - Correct Default Data', 'Missing Data', inplace=True)\n",
        "data2016['NumberofBuildings'].replace(0, 1, inplace=True)"
      ],
      "metadata": {
        "id": "WY2QZrFh0GZh"
      },
      "execution_count": null,
      "outputs": []
    },
    {
      "cell_type": "code",
      "source": [
        "data2016.info()"
      ],
      "metadata": {
        "colab": {
          "base_uri": "https://localhost:8080/"
        },
        "id": "l9xiSkHHNqGQ",
        "outputId": "6126a3d5-f25d-4f51-b101-9a5008eff50f"
      },
      "execution_count": null,
      "outputs": [
        {
          "output_type": "stream",
          "name": "stdout",
          "text": [
            "<class 'pandas.core.frame.DataFrame'>\n",
            "Int64Index: 3376 entries, 1 to 50226\n",
            "Data columns (total 44 columns):\n",
            " #   Column                           Non-Null Count  Dtype  \n",
            "---  ------                           --------------  -----  \n",
            " 0   DataYear                         3376 non-null   int64  \n",
            " 1   BuildingType                     3376 non-null   object \n",
            " 2   PrimaryPropertyType              3376 non-null   object \n",
            " 3   PropertyName                     3376 non-null   object \n",
            " 4   Address                          3376 non-null   object \n",
            " 5   City                             3376 non-null   object \n",
            " 6   State                            3376 non-null   object \n",
            " 7   ZipCode                          3360 non-null   float64\n",
            " 8   TaxParcelIdentificationNumber    3376 non-null   object \n",
            " 9   CouncilDistrictCode              3376 non-null   int64  \n",
            " 10  Neighborhood                     3376 non-null   object \n",
            " 11  Latitude                         3376 non-null   float64\n",
            " 12  Longitude                        3376 non-null   float64\n",
            " 13  YearBuilt                        3376 non-null   int64  \n",
            " 14  NumberofBuildings                3368 non-null   float64\n",
            " 15  NumberofFloors                   3376 non-null   int64  \n",
            " 16  PropertyGFATotal                 3376 non-null   int64  \n",
            " 17  PropertyGFAParking               3376 non-null   int64  \n",
            " 18  PropertyGFABuilding(s)           3376 non-null   int64  \n",
            " 19  ListOfAllPropertyUseTypes        3367 non-null   object \n",
            " 20  LargestPropertyUseType           3356 non-null   object \n",
            " 21  LargestPropertyUseTypeGFA        3356 non-null   float64\n",
            " 22  SecondLargestPropertyUseType     1679 non-null   object \n",
            " 23  SecondLargestPropertyUseTypeGFA  1679 non-null   float64\n",
            " 24  ThirdLargestPropertyUseType      596 non-null    object \n",
            " 25  ThirdLargestPropertyUseTypeGFA   596 non-null    float64\n",
            " 26  YearsENERGYSTARCertified         119 non-null    object \n",
            " 27  ENERGYSTARScore                  2533 non-null   float64\n",
            " 28  SiteEUI(kBtu/sf)                 3369 non-null   float64\n",
            " 29  SiteEUIWN(kBtu/sf)               3370 non-null   float64\n",
            " 30  SourceEUI(kBtu/sf)               3367 non-null   float64\n",
            " 31  SourceEUIWN(kBtu/sf)             3367 non-null   float64\n",
            " 32  SiteEnergyUse(kBtu)              3371 non-null   float64\n",
            " 33  SiteEnergyUseWN(kBtu)            3370 non-null   float64\n",
            " 34  SteamUse(kBtu)                   3367 non-null   float64\n",
            " 35  Electricity(kWh)                 3367 non-null   float64\n",
            " 36  Electricity(kBtu)                3367 non-null   float64\n",
            " 37  NaturalGas(therms)               3367 non-null   float64\n",
            " 38  NaturalGas(kBtu)                 3367 non-null   float64\n",
            " 39  DefaultData                      3376 non-null   bool   \n",
            " 40  ComplianceStatus                 3376 non-null   object \n",
            " 41  Outlier                          32 non-null     object \n",
            " 42  TotalGHGEmissions                3367 non-null   float64\n",
            " 43  GHGEmissionsIntensity            3367 non-null   float64\n",
            "dtypes: bool(1), float64(21), int64(7), object(15)\n",
            "memory usage: 1.1+ MB\n"
          ]
        }
      ]
    },
    {
      "cell_type": "code",
      "source": [
        "data2016[['ThirdLargestPropertyUseType', 'SecondLargestPropertyUseType']] = data2016[['ThirdLargestPropertyUseType', 'SecondLargestPropertyUseType']].fillna('No Use')\n",
        "data2016[['ThirdLargestPropertyUseTypeGFA', 'SecondLargestPropertyUseTypeGFA']] = data2016[['ThirdLargestPropertyUseTypeGFA', 'SecondLargestPropertyUseTypeGFA']].fillna(0, )\n",
        "data2016['LargestPropertyUseType'] = data2016['LargestPropertyUseType'].fillna('No information')"
      ],
      "metadata": {
        "id": "u07UhMDwNuWX"
      },
      "execution_count": null,
      "outputs": []
    },
    {
      "cell_type": "code",
      "source": [
        "data2016['Outlier'].replace(np.nan,'normal',inplace=True)"
      ],
      "metadata": {
        "id": "gUkQK2TqOJAZ"
      },
      "execution_count": null,
      "outputs": []
    },
    {
      "cell_type": "code",
      "source": [
        "data2016.describe()"
      ],
      "metadata": {
        "colab": {
          "base_uri": "https://localhost:8080/",
          "height": 393
        },
        "id": "6j0sm5IYOOK0",
        "outputId": "620ff4c2-46ce-4fbf-daa9-0892796514dc"
      },
      "execution_count": null,
      "outputs": [
        {
          "output_type": "execute_result",
          "data": {
            "text/plain": [
              "       DataYear       ZipCode  CouncilDistrictCode     Latitude    Longitude  \\\n",
              "count    3376.0   3360.000000          3376.000000  3376.000000  3376.000000   \n",
              "mean     2016.0  98116.949107             4.439277    47.624033  -122.334795   \n",
              "std         0.0     18.615205             2.120625     0.047758     0.027203   \n",
              "min      2016.0  98006.000000             1.000000    47.499170  -122.414250   \n",
              "25%      2016.0  98105.000000             3.000000    47.599860  -122.350662   \n",
              "50%      2016.0  98115.000000             4.000000    47.618675  -122.332495   \n",
              "75%      2016.0  98122.000000             7.000000    47.657115  -122.319407   \n",
              "max      2016.0  98272.000000             7.000000    47.733870  -122.220966   \n",
              "\n",
              "         YearBuilt  NumberofBuildings  NumberofFloors  PropertyGFATotal  \\\n",
              "count  3376.000000        3368.000000     3376.000000      3.376000e+03   \n",
              "mean   1968.573164           1.134204        4.709123      9.483354e+04   \n",
              "std      33.088156           2.100344        5.494465      2.188376e+05   \n",
              "min    1900.000000           1.000000        0.000000      1.128500e+04   \n",
              "25%    1948.000000           1.000000        2.000000      2.848700e+04   \n",
              "50%    1975.000000           1.000000        4.000000      4.417500e+04   \n",
              "75%    1997.000000           1.000000        5.000000      9.099200e+04   \n",
              "max    2015.000000         111.000000       99.000000      9.320156e+06   \n",
              "\n",
              "       PropertyGFAParking  ...  SourceEUIWN(kBtu/sf)  SiteEnergyUse(kBtu)  \\\n",
              "count         3376.000000  ...           3367.000000         3.371000e+03   \n",
              "mean          8001.526066  ...            137.783932         5.403667e+06   \n",
              "std          32326.723928  ...            139.109807         2.161063e+07   \n",
              "min              0.000000  ...             -2.100000         0.000000e+00   \n",
              "25%              0.000000  ...             78.400002         9.251286e+05   \n",
              "50%              0.000000  ...            101.099998         1.803753e+06   \n",
              "75%              0.000000  ...            148.349998         4.222455e+06   \n",
              "max         512608.000000  ...           2620.000000         8.739237e+08   \n",
              "\n",
              "       SiteEnergyUseWN(kBtu)  SteamUse(kBtu)  Electricity(kWh)  \\\n",
              "count           3.370000e+03    3.367000e+03      3.367000e+03   \n",
              "mean            5.276726e+06    2.745959e+05      1.086639e+06   \n",
              "std             1.593879e+07    3.912173e+06      4.352478e+06   \n",
              "min             0.000000e+00    0.000000e+00     -3.382680e+04   \n",
              "25%             9.701822e+05    0.000000e+00      1.874229e+05   \n",
              "50%             1.904452e+06    0.000000e+00      3.451299e+05   \n",
              "75%             4.381429e+06    0.000000e+00      8.293178e+05   \n",
              "max             4.716139e+08    1.349435e+08      1.925775e+08   \n",
              "\n",
              "       Electricity(kBtu)  NaturalGas(therms)  NaturalGas(kBtu)  \\\n",
              "count       3.367000e+03        3.367000e+03      3.367000e+03   \n",
              "mean        3.707612e+06        1.368505e+04      1.368505e+06   \n",
              "std         1.485066e+07        6.709781e+04      6.709781e+06   \n",
              "min        -1.154170e+05        0.000000e+00      0.000000e+00   \n",
              "25%         6.394870e+05        0.000000e+00      0.000000e+00   \n",
              "50%         1.177583e+06        3.237538e+03      3.237540e+05   \n",
              "75%         2.829632e+06        1.189033e+04      1.189034e+06   \n",
              "max         6.570744e+08        2.979090e+06      2.979090e+08   \n",
              "\n",
              "       TotalGHGEmissions  GHGEmissionsIntensity  \n",
              "count        3367.000000            3367.000000  \n",
              "mean          119.723971               1.175916  \n",
              "std           538.832227               1.821452  \n",
              "min            -0.800000              -0.020000  \n",
              "25%             9.495000               0.210000  \n",
              "50%            33.920000               0.610000  \n",
              "75%            93.940000               1.370000  \n",
              "max         16870.980000              34.090000  \n",
              "\n",
              "[8 rows x 28 columns]"
            ],
            "text/html": [
              "\n",
              "  <div id=\"df-198b563b-1ebf-4833-9482-fe91b610cbf5\">\n",
              "    <div class=\"colab-df-container\">\n",
              "      <div>\n",
              "<style scoped>\n",
              "    .dataframe tbody tr th:only-of-type {\n",
              "        vertical-align: middle;\n",
              "    }\n",
              "\n",
              "    .dataframe tbody tr th {\n",
              "        vertical-align: top;\n",
              "    }\n",
              "\n",
              "    .dataframe thead th {\n",
              "        text-align: right;\n",
              "    }\n",
              "</style>\n",
              "<table border=\"1\" class=\"dataframe\">\n",
              "  <thead>\n",
              "    <tr style=\"text-align: right;\">\n",
              "      <th></th>\n",
              "      <th>DataYear</th>\n",
              "      <th>ZipCode</th>\n",
              "      <th>CouncilDistrictCode</th>\n",
              "      <th>Latitude</th>\n",
              "      <th>Longitude</th>\n",
              "      <th>YearBuilt</th>\n",
              "      <th>NumberofBuildings</th>\n",
              "      <th>NumberofFloors</th>\n",
              "      <th>PropertyGFATotal</th>\n",
              "      <th>PropertyGFAParking</th>\n",
              "      <th>...</th>\n",
              "      <th>SourceEUIWN(kBtu/sf)</th>\n",
              "      <th>SiteEnergyUse(kBtu)</th>\n",
              "      <th>SiteEnergyUseWN(kBtu)</th>\n",
              "      <th>SteamUse(kBtu)</th>\n",
              "      <th>Electricity(kWh)</th>\n",
              "      <th>Electricity(kBtu)</th>\n",
              "      <th>NaturalGas(therms)</th>\n",
              "      <th>NaturalGas(kBtu)</th>\n",
              "      <th>TotalGHGEmissions</th>\n",
              "      <th>GHGEmissionsIntensity</th>\n",
              "    </tr>\n",
              "  </thead>\n",
              "  <tbody>\n",
              "    <tr>\n",
              "      <th>count</th>\n",
              "      <td>3376.0</td>\n",
              "      <td>3360.000000</td>\n",
              "      <td>3376.000000</td>\n",
              "      <td>3376.000000</td>\n",
              "      <td>3376.000000</td>\n",
              "      <td>3376.000000</td>\n",
              "      <td>3368.000000</td>\n",
              "      <td>3376.000000</td>\n",
              "      <td>3.376000e+03</td>\n",
              "      <td>3376.000000</td>\n",
              "      <td>...</td>\n",
              "      <td>3367.000000</td>\n",
              "      <td>3.371000e+03</td>\n",
              "      <td>3.370000e+03</td>\n",
              "      <td>3.367000e+03</td>\n",
              "      <td>3.367000e+03</td>\n",
              "      <td>3.367000e+03</td>\n",
              "      <td>3.367000e+03</td>\n",
              "      <td>3.367000e+03</td>\n",
              "      <td>3367.000000</td>\n",
              "      <td>3367.000000</td>\n",
              "    </tr>\n",
              "    <tr>\n",
              "      <th>mean</th>\n",
              "      <td>2016.0</td>\n",
              "      <td>98116.949107</td>\n",
              "      <td>4.439277</td>\n",
              "      <td>47.624033</td>\n",
              "      <td>-122.334795</td>\n",
              "      <td>1968.573164</td>\n",
              "      <td>1.134204</td>\n",
              "      <td>4.709123</td>\n",
              "      <td>9.483354e+04</td>\n",
              "      <td>8001.526066</td>\n",
              "      <td>...</td>\n",
              "      <td>137.783932</td>\n",
              "      <td>5.403667e+06</td>\n",
              "      <td>5.276726e+06</td>\n",
              "      <td>2.745959e+05</td>\n",
              "      <td>1.086639e+06</td>\n",
              "      <td>3.707612e+06</td>\n",
              "      <td>1.368505e+04</td>\n",
              "      <td>1.368505e+06</td>\n",
              "      <td>119.723971</td>\n",
              "      <td>1.175916</td>\n",
              "    </tr>\n",
              "    <tr>\n",
              "      <th>std</th>\n",
              "      <td>0.0</td>\n",
              "      <td>18.615205</td>\n",
              "      <td>2.120625</td>\n",
              "      <td>0.047758</td>\n",
              "      <td>0.027203</td>\n",
              "      <td>33.088156</td>\n",
              "      <td>2.100344</td>\n",
              "      <td>5.494465</td>\n",
              "      <td>2.188376e+05</td>\n",
              "      <td>32326.723928</td>\n",
              "      <td>...</td>\n",
              "      <td>139.109807</td>\n",
              "      <td>2.161063e+07</td>\n",
              "      <td>1.593879e+07</td>\n",
              "      <td>3.912173e+06</td>\n",
              "      <td>4.352478e+06</td>\n",
              "      <td>1.485066e+07</td>\n",
              "      <td>6.709781e+04</td>\n",
              "      <td>6.709781e+06</td>\n",
              "      <td>538.832227</td>\n",
              "      <td>1.821452</td>\n",
              "    </tr>\n",
              "    <tr>\n",
              "      <th>min</th>\n",
              "      <td>2016.0</td>\n",
              "      <td>98006.000000</td>\n",
              "      <td>1.000000</td>\n",
              "      <td>47.499170</td>\n",
              "      <td>-122.414250</td>\n",
              "      <td>1900.000000</td>\n",
              "      <td>1.000000</td>\n",
              "      <td>0.000000</td>\n",
              "      <td>1.128500e+04</td>\n",
              "      <td>0.000000</td>\n",
              "      <td>...</td>\n",
              "      <td>-2.100000</td>\n",
              "      <td>0.000000e+00</td>\n",
              "      <td>0.000000e+00</td>\n",
              "      <td>0.000000e+00</td>\n",
              "      <td>-3.382680e+04</td>\n",
              "      <td>-1.154170e+05</td>\n",
              "      <td>0.000000e+00</td>\n",
              "      <td>0.000000e+00</td>\n",
              "      <td>-0.800000</td>\n",
              "      <td>-0.020000</td>\n",
              "    </tr>\n",
              "    <tr>\n",
              "      <th>25%</th>\n",
              "      <td>2016.0</td>\n",
              "      <td>98105.000000</td>\n",
              "      <td>3.000000</td>\n",
              "      <td>47.599860</td>\n",
              "      <td>-122.350662</td>\n",
              "      <td>1948.000000</td>\n",
              "      <td>1.000000</td>\n",
              "      <td>2.000000</td>\n",
              "      <td>2.848700e+04</td>\n",
              "      <td>0.000000</td>\n",
              "      <td>...</td>\n",
              "      <td>78.400002</td>\n",
              "      <td>9.251286e+05</td>\n",
              "      <td>9.701822e+05</td>\n",
              "      <td>0.000000e+00</td>\n",
              "      <td>1.874229e+05</td>\n",
              "      <td>6.394870e+05</td>\n",
              "      <td>0.000000e+00</td>\n",
              "      <td>0.000000e+00</td>\n",
              "      <td>9.495000</td>\n",
              "      <td>0.210000</td>\n",
              "    </tr>\n",
              "    <tr>\n",
              "      <th>50%</th>\n",
              "      <td>2016.0</td>\n",
              "      <td>98115.000000</td>\n",
              "      <td>4.000000</td>\n",
              "      <td>47.618675</td>\n",
              "      <td>-122.332495</td>\n",
              "      <td>1975.000000</td>\n",
              "      <td>1.000000</td>\n",
              "      <td>4.000000</td>\n",
              "      <td>4.417500e+04</td>\n",
              "      <td>0.000000</td>\n",
              "      <td>...</td>\n",
              "      <td>101.099998</td>\n",
              "      <td>1.803753e+06</td>\n",
              "      <td>1.904452e+06</td>\n",
              "      <td>0.000000e+00</td>\n",
              "      <td>3.451299e+05</td>\n",
              "      <td>1.177583e+06</td>\n",
              "      <td>3.237538e+03</td>\n",
              "      <td>3.237540e+05</td>\n",
              "      <td>33.920000</td>\n",
              "      <td>0.610000</td>\n",
              "    </tr>\n",
              "    <tr>\n",
              "      <th>75%</th>\n",
              "      <td>2016.0</td>\n",
              "      <td>98122.000000</td>\n",
              "      <td>7.000000</td>\n",
              "      <td>47.657115</td>\n",
              "      <td>-122.319407</td>\n",
              "      <td>1997.000000</td>\n",
              "      <td>1.000000</td>\n",
              "      <td>5.000000</td>\n",
              "      <td>9.099200e+04</td>\n",
              "      <td>0.000000</td>\n",
              "      <td>...</td>\n",
              "      <td>148.349998</td>\n",
              "      <td>4.222455e+06</td>\n",
              "      <td>4.381429e+06</td>\n",
              "      <td>0.000000e+00</td>\n",
              "      <td>8.293178e+05</td>\n",
              "      <td>2.829632e+06</td>\n",
              "      <td>1.189033e+04</td>\n",
              "      <td>1.189034e+06</td>\n",
              "      <td>93.940000</td>\n",
              "      <td>1.370000</td>\n",
              "    </tr>\n",
              "    <tr>\n",
              "      <th>max</th>\n",
              "      <td>2016.0</td>\n",
              "      <td>98272.000000</td>\n",
              "      <td>7.000000</td>\n",
              "      <td>47.733870</td>\n",
              "      <td>-122.220966</td>\n",
              "      <td>2015.000000</td>\n",
              "      <td>111.000000</td>\n",
              "      <td>99.000000</td>\n",
              "      <td>9.320156e+06</td>\n",
              "      <td>512608.000000</td>\n",
              "      <td>...</td>\n",
              "      <td>2620.000000</td>\n",
              "      <td>8.739237e+08</td>\n",
              "      <td>4.716139e+08</td>\n",
              "      <td>1.349435e+08</td>\n",
              "      <td>1.925775e+08</td>\n",
              "      <td>6.570744e+08</td>\n",
              "      <td>2.979090e+06</td>\n",
              "      <td>2.979090e+08</td>\n",
              "      <td>16870.980000</td>\n",
              "      <td>34.090000</td>\n",
              "    </tr>\n",
              "  </tbody>\n",
              "</table>\n",
              "<p>8 rows × 28 columns</p>\n",
              "</div>\n",
              "      <button class=\"colab-df-convert\" onclick=\"convertToInteractive('df-198b563b-1ebf-4833-9482-fe91b610cbf5')\"\n",
              "              title=\"Convert this dataframe to an interactive table.\"\n",
              "              style=\"display:none;\">\n",
              "        \n",
              "  <svg xmlns=\"http://www.w3.org/2000/svg\" height=\"24px\"viewBox=\"0 0 24 24\"\n",
              "       width=\"24px\">\n",
              "    <path d=\"M0 0h24v24H0V0z\" fill=\"none\"/>\n",
              "    <path d=\"M18.56 5.44l.94 2.06.94-2.06 2.06-.94-2.06-.94-.94-2.06-.94 2.06-2.06.94zm-11 1L8.5 8.5l.94-2.06 2.06-.94-2.06-.94L8.5 2.5l-.94 2.06-2.06.94zm10 10l.94 2.06.94-2.06 2.06-.94-2.06-.94-.94-2.06-.94 2.06-2.06.94z\"/><path d=\"M17.41 7.96l-1.37-1.37c-.4-.4-.92-.59-1.43-.59-.52 0-1.04.2-1.43.59L10.3 9.45l-7.72 7.72c-.78.78-.78 2.05 0 2.83L4 21.41c.39.39.9.59 1.41.59.51 0 1.02-.2 1.41-.59l7.78-7.78 2.81-2.81c.8-.78.8-2.07 0-2.86zM5.41 20L4 18.59l7.72-7.72 1.47 1.35L5.41 20z\"/>\n",
              "  </svg>\n",
              "      </button>\n",
              "      \n",
              "  <style>\n",
              "    .colab-df-container {\n",
              "      display:flex;\n",
              "      flex-wrap:wrap;\n",
              "      gap: 12px;\n",
              "    }\n",
              "\n",
              "    .colab-df-convert {\n",
              "      background-color: #E8F0FE;\n",
              "      border: none;\n",
              "      border-radius: 50%;\n",
              "      cursor: pointer;\n",
              "      display: none;\n",
              "      fill: #1967D2;\n",
              "      height: 32px;\n",
              "      padding: 0 0 0 0;\n",
              "      width: 32px;\n",
              "    }\n",
              "\n",
              "    .colab-df-convert:hover {\n",
              "      background-color: #E2EBFA;\n",
              "      box-shadow: 0px 1px 2px rgba(60, 64, 67, 0.3), 0px 1px 3px 1px rgba(60, 64, 67, 0.15);\n",
              "      fill: #174EA6;\n",
              "    }\n",
              "\n",
              "    [theme=dark] .colab-df-convert {\n",
              "      background-color: #3B4455;\n",
              "      fill: #D2E3FC;\n",
              "    }\n",
              "\n",
              "    [theme=dark] .colab-df-convert:hover {\n",
              "      background-color: #434B5C;\n",
              "      box-shadow: 0px 1px 3px 1px rgba(0, 0, 0, 0.15);\n",
              "      filter: drop-shadow(0px 1px 2px rgba(0, 0, 0, 0.3));\n",
              "      fill: #FFFFFF;\n",
              "    }\n",
              "  </style>\n",
              "\n",
              "      <script>\n",
              "        const buttonEl =\n",
              "          document.querySelector('#df-198b563b-1ebf-4833-9482-fe91b610cbf5 button.colab-df-convert');\n",
              "        buttonEl.style.display =\n",
              "          google.colab.kernel.accessAllowed ? 'block' : 'none';\n",
              "\n",
              "        async function convertToInteractive(key) {\n",
              "          const element = document.querySelector('#df-198b563b-1ebf-4833-9482-fe91b610cbf5');\n",
              "          const dataTable =\n",
              "            await google.colab.kernel.invokeFunction('convertToInteractive',\n",
              "                                                     [key], {});\n",
              "          if (!dataTable) return;\n",
              "\n",
              "          const docLinkHtml = 'Like what you see? Visit the ' +\n",
              "            '<a target=\"_blank\" href=https://colab.research.google.com/notebooks/data_table.ipynb>data table notebook</a>'\n",
              "            + ' to learn more about interactive tables.';\n",
              "          element.innerHTML = '';\n",
              "          dataTable['output_type'] = 'display_data';\n",
              "          await google.colab.output.renderOutput(dataTable, element);\n",
              "          const docLink = document.createElement('div');\n",
              "          docLink.innerHTML = docLinkHtml;\n",
              "          element.appendChild(docLink);\n",
              "        }\n",
              "      </script>\n",
              "    </div>\n",
              "  </div>\n",
              "  "
            ]
          },
          "metadata": {},
          "execution_count": 38
        }
      ]
    },
    {
      "cell_type": "code",
      "source": [
        "index_to_drop = data2016[data2016['SiteEnergyUseWN(kBtu)']<1].index\n",
        "print(index_to_drop)\n",
        "print(f'there are {len(index_to_drop)} samples with 0 energy consumption reported -> Drop')"
      ],
      "metadata": {
        "colab": {
          "base_uri": "https://localhost:8080/"
        },
        "id": "47L1nBpCOU_C",
        "outputId": "72c4dd63-343f-4f39-8490-7f23e13a121e"
      },
      "execution_count": null,
      "outputs": [
        {
          "output_type": "stream",
          "name": "stdout",
          "text": [
            "Int64Index([   34,    37,    87,   118,   122,   140,   217,   227,   242,\n",
            "              343,   372,   414,   435,   493,   820,   850, 19776, 19801,\n",
            "            20130, 20324, 21616, 22363, 23722, 49703, 49967, 49968, 49972,\n",
            "            50014, 50044],\n",
            "           dtype='int64', name='OSEBuildingID')\n",
            "there are 29 samples with 0 energy consumption reported -> Drop\n"
          ]
        }
      ]
    },
    {
      "cell_type": "code",
      "source": [
        "data2016.drop(index_to_drop, inplace=True, axis=0)"
      ],
      "metadata": {
        "id": "LXqJNzm-OcO8"
      },
      "execution_count": null,
      "outputs": []
    },
    {
      "cell_type": "code",
      "source": [
        "print('# samples before:',len(data2016))\n",
        "data2016.dropna(how = 'all', axis=0, inplace=True)\n",
        "print('# samples after:',len(data2016))"
      ],
      "metadata": {
        "colab": {
          "base_uri": "https://localhost:8080/"
        },
        "id": "4yeldgXMOh8Z",
        "outputId": "5232e46f-5020-4961-e60e-5ca2a38b34e9"
      },
      "execution_count": null,
      "outputs": [
        {
          "output_type": "stream",
          "name": "stdout",
          "text": [
            "# samples before: 3347\n",
            "# samples after: 3347\n"
          ]
        }
      ]
    },
    {
      "cell_type": "code",
      "source": [
        "numeric_data = data2016.drop(['ENERGYSTARScore'], axis=1).select_dtypes(['int64', 'float64']).copy()\n",
        "numeric_data.shape"
      ],
      "metadata": {
        "colab": {
          "base_uri": "https://localhost:8080/"
        },
        "id": "4Whfr9TBOvoc",
        "outputId": "17259f70-3cce-4c6b-f4b3-eb7f6ab52039"
      },
      "execution_count": null,
      "outputs": [
        {
          "output_type": "execute_result",
          "data": {
            "text/plain": [
              "(3347, 27)"
            ]
          },
          "metadata": {},
          "execution_count": 42
        }
      ]
    },
    {
      "cell_type": "code",
      "source": [
        "numeric_data.isna().sum()"
      ],
      "metadata": {
        "colab": {
          "base_uri": "https://localhost:8080/"
        },
        "id": "5edz0tioOzIW",
        "outputId": "7635d960-ffa5-4e1b-83d8-b72452656324"
      },
      "execution_count": null,
      "outputs": [
        {
          "output_type": "execute_result",
          "data": {
            "text/plain": [
              "DataYear                            0\n",
              "ZipCode                            16\n",
              "CouncilDistrictCode                 0\n",
              "Latitude                            0\n",
              "Longitude                           0\n",
              "YearBuilt                           0\n",
              "NumberofBuildings                   8\n",
              "NumberofFloors                      0\n",
              "PropertyGFATotal                    0\n",
              "PropertyGFAParking                  0\n",
              "PropertyGFABuilding(s)              0\n",
              "LargestPropertyUseTypeGFA          20\n",
              "SecondLargestPropertyUseTypeGFA     0\n",
              "ThirdLargestPropertyUseTypeGFA      0\n",
              "SiteEUI(kBtu/sf)                    5\n",
              "SiteEUIWN(kBtu/sf)                  6\n",
              "SourceEUI(kBtu/sf)                  9\n",
              "SourceEUIWN(kBtu/sf)                9\n",
              "SiteEnergyUse(kBtu)                 5\n",
              "SiteEnergyUseWN(kBtu)               6\n",
              "SteamUse(kBtu)                      9\n",
              "Electricity(kWh)                    9\n",
              "Electricity(kBtu)                   9\n",
              "NaturalGas(therms)                  9\n",
              "NaturalGas(kBtu)                    9\n",
              "TotalGHGEmissions                   9\n",
              "GHGEmissionsIntensity               9\n",
              "dtype: int64"
            ]
          },
          "metadata": {},
          "execution_count": 43
        }
      ]
    },
    {
      "cell_type": "code",
      "source": [
        "columns_to_drop = ['SiteEUI(kBtu/sf)',\n",
        "                    'SiteEUIWN(kBtu/sf)',\n",
        "                    'SourceEUI(kBtu/sf)',\n",
        "                    'SourceEUIWN(kBtu/sf)',\n",
        "                    'SiteEnergyUse(kBtu)',\n",
        "                    'SteamUse(kBtu)',\n",
        "                    'Electricity(kWh)',\n",
        "                    'Electricity(kBtu)',\n",
        "                    'NaturalGas(therms)',\n",
        "                    'NaturalGas(kBtu)',\n",
        "                    'OtherFuelUse(kBtu)',\n",
        "                    'GHGEmissionsIntensity'\n",
        "                   ]"
      ],
      "metadata": {
        "id": "Z4lj4K87O4iZ"
      },
      "execution_count": null,
      "outputs": []
    },
    {
      "cell_type": "code",
      "source": [
        "for column in columns_to_drop:\n",
        "    try:\n",
        "        data2016.drop(column,axis='columns',inplace=True)\n",
        "    except:\n",
        "        print(f'column {column} not present')"
      ],
      "metadata": {
        "colab": {
          "base_uri": "https://localhost:8080/"
        },
        "id": "f5YqCcCxPCQR",
        "outputId": "c5cb6c76-9a3c-4b91-d7ad-df58b149de45"
      },
      "execution_count": null,
      "outputs": [
        {
          "output_type": "stream",
          "name": "stdout",
          "text": [
            "column OtherFuelUse(kBtu) not present\n"
          ]
        }
      ]
    },
    {
      "cell_type": "code",
      "source": [
        "numeric_data.NumberofBuildings.isna().sum()"
      ],
      "metadata": {
        "colab": {
          "base_uri": "https://localhost:8080/"
        },
        "id": "QJmQW7zLPIz_",
        "outputId": "c478b593-bc3d-4610-dff2-e826064bcb2a"
      },
      "execution_count": null,
      "outputs": [
        {
          "output_type": "execute_result",
          "data": {
            "text/plain": [
              "8"
            ]
          },
          "metadata": {},
          "execution_count": 46
        }
      ]
    },
    {
      "cell_type": "code",
      "source": [
        "numeric_data.NumberofBuildings.value_counts()"
      ],
      "metadata": {
        "colab": {
          "base_uri": "https://localhost:8080/"
        },
        "id": "Z8ToEiUgPPDs",
        "outputId": "64e0f83b-a1e8-413d-c164-9147737a304f"
      },
      "execution_count": null,
      "outputs": [
        {
          "output_type": "execute_result",
          "data": {
            "text/plain": [
              "1.0     3240\n",
              "2.0       36\n",
              "3.0       22\n",
              "4.0       12\n",
              "5.0       10\n",
              "6.0        5\n",
              "8.0        3\n",
              "14.0       2\n",
              "9.0        2\n",
              "10.0       2\n",
              "27.0       1\n",
              "11.0       1\n",
              "7.0        1\n",
              "16.0       1\n",
              "23.0       1\n",
              "Name: NumberofBuildings, dtype: int64"
            ]
          },
          "metadata": {},
          "execution_count": 47
        }
      ]
    },
    {
      "cell_type": "code",
      "source": [
        "# Fill with most representative value\n",
        "data2016.NumberofBuildings.replace(np.nan,1,inplace=True)"
      ],
      "metadata": {
        "id": "hivGA0nfPgPt"
      },
      "execution_count": null,
      "outputs": []
    },
    {
      "cell_type": "code",
      "source": [
        "numeric_data.NumberofFloors.value_counts()"
      ],
      "metadata": {
        "colab": {
          "base_uri": "https://localhost:8080/"
        },
        "id": "gqiGqcr0RV22",
        "outputId": "58efaea4-91bc-4d0f-a5ad-ca675e5a6091"
      },
      "execution_count": null,
      "outputs": [
        {
          "output_type": "execute_result",
          "data": {
            "text/plain": [
              "4     690\n",
              "3     687\n",
              "1     459\n",
              "2     433\n",
              "6     303\n",
              "5     294\n",
              "7     148\n",
              "8      64\n",
              "10     32\n",
              "11     32\n",
              "12     21\n",
              "13     21\n",
              "9      18\n",
              "0      15\n",
              "14     13\n",
              "17      8\n",
              "16      7\n",
              "24      7\n",
              "18      7\n",
              "23      7\n",
              "19      6\n",
              "26      6\n",
              "15      6\n",
              "42      6\n",
              "33      6\n",
              "25      5\n",
              "21      5\n",
              "27      5\n",
              "20      4\n",
              "22      4\n",
              "29      3\n",
              "34      2\n",
              "37      2\n",
              "41      2\n",
              "31      2\n",
              "36      2\n",
              "28      2\n",
              "39      1\n",
              "76      1\n",
              "38      1\n",
              "32      1\n",
              "99      1\n",
              "55      1\n",
              "56      1\n",
              "30      1\n",
              "46      1\n",
              "63      1\n",
              "49      1\n",
              "47      1\n",
              "40      1\n",
              "Name: NumberofFloors, dtype: int64"
            ]
          },
          "metadata": {},
          "execution_count": 49
        }
      ]
    },
    {
      "cell_type": "code",
      "source": [
        "data2016[data2016.NumberofFloors.isna()]"
      ],
      "metadata": {
        "colab": {
          "base_uri": "https://localhost:8080/",
          "height": 174
        },
        "id": "UyM8RZyBRYHn",
        "outputId": "5981eeb7-5682-485d-fe75-66c12e12c0d3"
      },
      "execution_count": null,
      "outputs": [
        {
          "output_type": "execute_result",
          "data": {
            "text/plain": [
              "Empty DataFrame\n",
              "Columns: [DataYear, BuildingType, PrimaryPropertyType, PropertyName, Address, City, State, ZipCode, TaxParcelIdentificationNumber, CouncilDistrictCode, Neighborhood, Latitude, Longitude, YearBuilt, NumberofBuildings, NumberofFloors, PropertyGFATotal, PropertyGFAParking, PropertyGFABuilding(s), ListOfAllPropertyUseTypes, LargestPropertyUseType, LargestPropertyUseTypeGFA, SecondLargestPropertyUseType, SecondLargestPropertyUseTypeGFA, ThirdLargestPropertyUseType, ThirdLargestPropertyUseTypeGFA, YearsENERGYSTARCertified, ENERGYSTARScore, SiteEnergyUseWN(kBtu), DefaultData, ComplianceStatus, Outlier, TotalGHGEmissions]\n",
              "Index: []\n",
              "\n",
              "[0 rows x 33 columns]"
            ],
            "text/html": [
              "\n",
              "  <div id=\"df-a17aa79f-287b-4929-aa9d-12ff75c30705\">\n",
              "    <div class=\"colab-df-container\">\n",
              "      <div>\n",
              "<style scoped>\n",
              "    .dataframe tbody tr th:only-of-type {\n",
              "        vertical-align: middle;\n",
              "    }\n",
              "\n",
              "    .dataframe tbody tr th {\n",
              "        vertical-align: top;\n",
              "    }\n",
              "\n",
              "    .dataframe thead th {\n",
              "        text-align: right;\n",
              "    }\n",
              "</style>\n",
              "<table border=\"1\" class=\"dataframe\">\n",
              "  <thead>\n",
              "    <tr style=\"text-align: right;\">\n",
              "      <th></th>\n",
              "      <th>DataYear</th>\n",
              "      <th>BuildingType</th>\n",
              "      <th>PrimaryPropertyType</th>\n",
              "      <th>PropertyName</th>\n",
              "      <th>Address</th>\n",
              "      <th>City</th>\n",
              "      <th>State</th>\n",
              "      <th>ZipCode</th>\n",
              "      <th>TaxParcelIdentificationNumber</th>\n",
              "      <th>CouncilDistrictCode</th>\n",
              "      <th>...</th>\n",
              "      <th>SecondLargestPropertyUseTypeGFA</th>\n",
              "      <th>ThirdLargestPropertyUseType</th>\n",
              "      <th>ThirdLargestPropertyUseTypeGFA</th>\n",
              "      <th>YearsENERGYSTARCertified</th>\n",
              "      <th>ENERGYSTARScore</th>\n",
              "      <th>SiteEnergyUseWN(kBtu)</th>\n",
              "      <th>DefaultData</th>\n",
              "      <th>ComplianceStatus</th>\n",
              "      <th>Outlier</th>\n",
              "      <th>TotalGHGEmissions</th>\n",
              "    </tr>\n",
              "    <tr>\n",
              "      <th>OSEBuildingID</th>\n",
              "      <th></th>\n",
              "      <th></th>\n",
              "      <th></th>\n",
              "      <th></th>\n",
              "      <th></th>\n",
              "      <th></th>\n",
              "      <th></th>\n",
              "      <th></th>\n",
              "      <th></th>\n",
              "      <th></th>\n",
              "      <th></th>\n",
              "      <th></th>\n",
              "      <th></th>\n",
              "      <th></th>\n",
              "      <th></th>\n",
              "      <th></th>\n",
              "      <th></th>\n",
              "      <th></th>\n",
              "      <th></th>\n",
              "      <th></th>\n",
              "      <th></th>\n",
              "    </tr>\n",
              "  </thead>\n",
              "  <tbody>\n",
              "  </tbody>\n",
              "</table>\n",
              "<p>0 rows × 33 columns</p>\n",
              "</div>\n",
              "      <button class=\"colab-df-convert\" onclick=\"convertToInteractive('df-a17aa79f-287b-4929-aa9d-12ff75c30705')\"\n",
              "              title=\"Convert this dataframe to an interactive table.\"\n",
              "              style=\"display:none;\">\n",
              "        \n",
              "  <svg xmlns=\"http://www.w3.org/2000/svg\" height=\"24px\"viewBox=\"0 0 24 24\"\n",
              "       width=\"24px\">\n",
              "    <path d=\"M0 0h24v24H0V0z\" fill=\"none\"/>\n",
              "    <path d=\"M18.56 5.44l.94 2.06.94-2.06 2.06-.94-2.06-.94-.94-2.06-.94 2.06-2.06.94zm-11 1L8.5 8.5l.94-2.06 2.06-.94-2.06-.94L8.5 2.5l-.94 2.06-2.06.94zm10 10l.94 2.06.94-2.06 2.06-.94-2.06-.94-.94-2.06-.94 2.06-2.06.94z\"/><path d=\"M17.41 7.96l-1.37-1.37c-.4-.4-.92-.59-1.43-.59-.52 0-1.04.2-1.43.59L10.3 9.45l-7.72 7.72c-.78.78-.78 2.05 0 2.83L4 21.41c.39.39.9.59 1.41.59.51 0 1.02-.2 1.41-.59l7.78-7.78 2.81-2.81c.8-.78.8-2.07 0-2.86zM5.41 20L4 18.59l7.72-7.72 1.47 1.35L5.41 20z\"/>\n",
              "  </svg>\n",
              "      </button>\n",
              "      \n",
              "  <style>\n",
              "    .colab-df-container {\n",
              "      display:flex;\n",
              "      flex-wrap:wrap;\n",
              "      gap: 12px;\n",
              "    }\n",
              "\n",
              "    .colab-df-convert {\n",
              "      background-color: #E8F0FE;\n",
              "      border: none;\n",
              "      border-radius: 50%;\n",
              "      cursor: pointer;\n",
              "      display: none;\n",
              "      fill: #1967D2;\n",
              "      height: 32px;\n",
              "      padding: 0 0 0 0;\n",
              "      width: 32px;\n",
              "    }\n",
              "\n",
              "    .colab-df-convert:hover {\n",
              "      background-color: #E2EBFA;\n",
              "      box-shadow: 0px 1px 2px rgba(60, 64, 67, 0.3), 0px 1px 3px 1px rgba(60, 64, 67, 0.15);\n",
              "      fill: #174EA6;\n",
              "    }\n",
              "\n",
              "    [theme=dark] .colab-df-convert {\n",
              "      background-color: #3B4455;\n",
              "      fill: #D2E3FC;\n",
              "    }\n",
              "\n",
              "    [theme=dark] .colab-df-convert:hover {\n",
              "      background-color: #434B5C;\n",
              "      box-shadow: 0px 1px 3px 1px rgba(0, 0, 0, 0.15);\n",
              "      filter: drop-shadow(0px 1px 2px rgba(0, 0, 0, 0.3));\n",
              "      fill: #FFFFFF;\n",
              "    }\n",
              "  </style>\n",
              "\n",
              "      <script>\n",
              "        const buttonEl =\n",
              "          document.querySelector('#df-a17aa79f-287b-4929-aa9d-12ff75c30705 button.colab-df-convert');\n",
              "        buttonEl.style.display =\n",
              "          google.colab.kernel.accessAllowed ? 'block' : 'none';\n",
              "\n",
              "        async function convertToInteractive(key) {\n",
              "          const element = document.querySelector('#df-a17aa79f-287b-4929-aa9d-12ff75c30705');\n",
              "          const dataTable =\n",
              "            await google.colab.kernel.invokeFunction('convertToInteractive',\n",
              "                                                     [key], {});\n",
              "          if (!dataTable) return;\n",
              "\n",
              "          const docLinkHtml = 'Like what you see? Visit the ' +\n",
              "            '<a target=\"_blank\" href=https://colab.research.google.com/notebooks/data_table.ipynb>data table notebook</a>'\n",
              "            + ' to learn more about interactive tables.';\n",
              "          element.innerHTML = '';\n",
              "          dataTable['output_type'] = 'display_data';\n",
              "          await google.colab.output.renderOutput(dataTable, element);\n",
              "          const docLink = document.createElement('div');\n",
              "          docLink.innerHTML = docLinkHtml;\n",
              "          element.appendChild(docLink);\n",
              "        }\n",
              "      </script>\n",
              "    </div>\n",
              "  </div>\n",
              "  "
            ]
          },
          "metadata": {},
          "execution_count": 50
        }
      ]
    },
    {
      "cell_type": "code",
      "source": [
        "# Fill with most representative value\n",
        "data2016.NumberofFloors.replace(np.nan,3,inplace=True)"
      ],
      "metadata": {
        "id": "R7bQx2msRkJ-"
      },
      "execution_count": null,
      "outputs": []
    },
    {
      "cell_type": "code",
      "source": [
        "data2016.info()"
      ],
      "metadata": {
        "colab": {
          "base_uri": "https://localhost:8080/"
        },
        "id": "qSQM3ljYRno9",
        "outputId": "8a190e1e-68cc-4694-aede-d8840677e998"
      },
      "execution_count": null,
      "outputs": [
        {
          "output_type": "stream",
          "name": "stdout",
          "text": [
            "<class 'pandas.core.frame.DataFrame'>\n",
            "Int64Index: 3347 entries, 1 to 50226\n",
            "Data columns (total 33 columns):\n",
            " #   Column                           Non-Null Count  Dtype  \n",
            "---  ------                           --------------  -----  \n",
            " 0   DataYear                         3347 non-null   int64  \n",
            " 1   BuildingType                     3347 non-null   object \n",
            " 2   PrimaryPropertyType              3347 non-null   object \n",
            " 3   PropertyName                     3347 non-null   object \n",
            " 4   Address                          3347 non-null   object \n",
            " 5   City                             3347 non-null   object \n",
            " 6   State                            3347 non-null   object \n",
            " 7   ZipCode                          3331 non-null   float64\n",
            " 8   TaxParcelIdentificationNumber    3347 non-null   object \n",
            " 9   CouncilDistrictCode              3347 non-null   int64  \n",
            " 10  Neighborhood                     3347 non-null   object \n",
            " 11  Latitude                         3347 non-null   float64\n",
            " 12  Longitude                        3347 non-null   float64\n",
            " 13  YearBuilt                        3347 non-null   int64  \n",
            " 14  NumberofBuildings                3347 non-null   float64\n",
            " 15  NumberofFloors                   3347 non-null   int64  \n",
            " 16  PropertyGFATotal                 3347 non-null   int64  \n",
            " 17  PropertyGFAParking               3347 non-null   int64  \n",
            " 18  PropertyGFABuilding(s)           3347 non-null   int64  \n",
            " 19  ListOfAllPropertyUseTypes        3338 non-null   object \n",
            " 20  LargestPropertyUseType           3347 non-null   object \n",
            " 21  LargestPropertyUseTypeGFA        3327 non-null   float64\n",
            " 22  SecondLargestPropertyUseType     3347 non-null   object \n",
            " 23  SecondLargestPropertyUseTypeGFA  3347 non-null   float64\n",
            " 24  ThirdLargestPropertyUseType      3347 non-null   object \n",
            " 25  ThirdLargestPropertyUseTypeGFA   3347 non-null   float64\n",
            " 26  YearsENERGYSTARCertified         117 non-null    object \n",
            " 27  ENERGYSTARScore                  2524 non-null   float64\n",
            " 28  SiteEnergyUseWN(kBtu)            3341 non-null   float64\n",
            " 29  DefaultData                      3347 non-null   bool   \n",
            " 30  ComplianceStatus                 3347 non-null   object \n",
            " 31  Outlier                          3347 non-null   object \n",
            " 32  TotalGHGEmissions                3338 non-null   float64\n",
            "dtypes: bool(1), float64(10), int64(7), object(15)\n",
            "memory usage: 866.2+ KB\n"
          ]
        }
      ]
    },
    {
      "cell_type": "code",
      "source": [
        "data2016.drop(['YearsENERGYSTARCertified','PropertyName','TaxParcelIdentificationNumber'], axis='columns',inplace=True)"
      ],
      "metadata": {
        "id": "tth0erv1QRvH"
      },
      "execution_count": null,
      "outputs": []
    },
    {
      "cell_type": "code",
      "source": [
        "data2016.drop(['DefaultData','ListOfAllPropertyUseTypes'],axis='columns',inplace=True)"
      ],
      "metadata": {
        "id": "FEaiHqHfQgYl"
      },
      "execution_count": null,
      "outputs": []
    },
    {
      "cell_type": "code",
      "source": [
        "data2016.drop(['State', 'City'], axis='columns',inplace=True)"
      ],
      "metadata": {
        "id": "p1wnKeHJQkCJ"
      },
      "execution_count": null,
      "outputs": []
    },
    {
      "cell_type": "code",
      "source": [
        "data2016.drop(['ZipCode', 'Address'], axis='columns',inplace=True)"
      ],
      "metadata": {
        "id": "VGvvEVEiQoAm"
      },
      "execution_count": null,
      "outputs": []
    },
    {
      "cell_type": "code",
      "source": [
        "data2016.info()"
      ],
      "metadata": {
        "colab": {
          "base_uri": "https://localhost:8080/"
        },
        "id": "zmbkzr2jQq04",
        "outputId": "0027e414-79c1-479e-9894-6adc6bb7a07c"
      },
      "execution_count": null,
      "outputs": [
        {
          "output_type": "stream",
          "name": "stdout",
          "text": [
            "<class 'pandas.core.frame.DataFrame'>\n",
            "Int64Index: 3347 entries, 1 to 50226\n",
            "Data columns (total 24 columns):\n",
            " #   Column                           Non-Null Count  Dtype  \n",
            "---  ------                           --------------  -----  \n",
            " 0   DataYear                         3347 non-null   int64  \n",
            " 1   BuildingType                     3347 non-null   object \n",
            " 2   PrimaryPropertyType              3347 non-null   object \n",
            " 3   CouncilDistrictCode              3347 non-null   int64  \n",
            " 4   Neighborhood                     3347 non-null   object \n",
            " 5   Latitude                         3347 non-null   float64\n",
            " 6   Longitude                        3347 non-null   float64\n",
            " 7   YearBuilt                        3347 non-null   int64  \n",
            " 8   NumberofBuildings                3347 non-null   float64\n",
            " 9   NumberofFloors                   3347 non-null   int64  \n",
            " 10  PropertyGFATotal                 3347 non-null   int64  \n",
            " 11  PropertyGFAParking               3347 non-null   int64  \n",
            " 12  PropertyGFABuilding(s)           3347 non-null   int64  \n",
            " 13  LargestPropertyUseType           3347 non-null   object \n",
            " 14  LargestPropertyUseTypeGFA        3327 non-null   float64\n",
            " 15  SecondLargestPropertyUseType     3347 non-null   object \n",
            " 16  SecondLargestPropertyUseTypeGFA  3347 non-null   float64\n",
            " 17  ThirdLargestPropertyUseType      3347 non-null   object \n",
            " 18  ThirdLargestPropertyUseTypeGFA   3347 non-null   float64\n",
            " 19  ENERGYSTARScore                  2524 non-null   float64\n",
            " 20  SiteEnergyUseWN(kBtu)            3341 non-null   float64\n",
            " 21  ComplianceStatus                 3347 non-null   object \n",
            " 22  Outlier                          3347 non-null   object \n",
            " 23  TotalGHGEmissions                3338 non-null   float64\n",
            "dtypes: float64(9), int64(7), object(8)\n",
            "memory usage: 653.7+ KB\n"
          ]
        }
      ]
    },
    {
      "cell_type": "code",
      "source": [
        "data2016[data2016['LargestPropertyUseTypeGFA'].isna()]"
      ],
      "metadata": {
        "colab": {
          "base_uri": "https://localhost:8080/",
          "height": 1000
        },
        "id": "Ur7yhrR2R2nl",
        "outputId": "445012fc-fd83-4566-8478-f92c28c9201a"
      },
      "execution_count": null,
      "outputs": [
        {
          "output_type": "execute_result",
          "data": {
            "text/plain": [
              "               DataYear          BuildingType          PrimaryPropertyType  \\\n",
              "OSEBuildingID                                                                \n",
              "496                2016        NonResidential        Self-Storage Facility   \n",
              "773                2016        NonResidential  Small- and Mid-Sized Office   \n",
              "19798              2016  Multifamily LR (1-4)         Low-Rise Multifamily   \n",
              "20762              2016  Multifamily HR (10+)        High-Rise Multifamily   \n",
              "21103              2016        NonResidential                        Hotel   \n",
              "21950              2016  Multifamily MR (5-9)         Mid-Rise Multifamily   \n",
              "23319              2016  Multifamily HR (10+)        High-Rise Multifamily   \n",
              "23355              2016  Multifamily LR (1-4)         Low-Rise Multifamily   \n",
              "23437              2016  Multifamily LR (1-4)         Low-Rise Multifamily   \n",
              "25431              2016  Multifamily LR (1-4)         Low-Rise Multifamily   \n",
              "25302              2016  Multifamily LR (1-4)         Low-Rise Multifamily   \n",
              "25568              2016        NonResidential  Small- and Mid-Sized Office   \n",
              "25711              2016        NonResidential                   Restaurant   \n",
              "25752              2016  Multifamily LR (1-4)         Low-Rise Multifamily   \n",
              "25763              2016  Multifamily LR (1-4)         Low-Rise Multifamily   \n",
              "26026              2016  Multifamily LR (1-4)         Low-Rise Multifamily   \n",
              "26532              2016        NonResidential           Mixed Use Property   \n",
              "27343              2016  Multifamily LR (1-4)         Low-Rise Multifamily   \n",
              "27966              2016  Multifamily LR (1-4)         Low-Rise Multifamily   \n",
              "50082              2016  Multifamily LR (1-4)         Low-Rise Multifamily   \n",
              "\n",
              "               CouncilDistrictCode           Neighborhood  Latitude  \\\n",
              "OSEBuildingID                                                         \n",
              "496                              6                BALLARD  47.66838   \n",
              "773                              7               DOWNTOWN  47.60380   \n",
              "19798                            4              NORTHEAST  47.68149   \n",
              "20762                            7               DOWNTOWN  47.61733   \n",
              "21103                            7               DOWNTOWN  47.61203   \n",
              "21950                            7  MAGNOLIA / QUEEN ANNE  47.62390   \n",
              "23319                            3                   EAST  47.61056   \n",
              "23355                            1              SOUTHWEST  47.54731   \n",
              "23437                            7  MAGNOLIA / QUEEN ANNE  47.62479   \n",
              "25431                            4              NORTHEAST  47.67025   \n",
              "25302                            5              NORTHWEST  47.69991   \n",
              "25568                            4             LAKE UNION  47.64747   \n",
              "25711                            2               DOWNTOWN  47.59697   \n",
              "25752                            6              NORTHWEST  47.69658   \n",
              "25763                            1              SOUTHWEST  47.58968   \n",
              "26026                            1               DELRIDGE  47.52451   \n",
              "26532                            4              NORTHEAST  47.66182   \n",
              "27343                            5              NORTHEAST  47.69327   \n",
              "27966                            5                  NORTH  47.71313   \n",
              "50082                            3                   EAST  47.62441   \n",
              "\n",
              "               Longitude  YearBuilt  NumberofBuildings  NumberofFloors  ...  \\\n",
              "OSEBuildingID                                                           ...   \n",
              "496           -122.39310       1946                2.0               2  ...   \n",
              "773           -122.33293       1924                1.0               4  ...   \n",
              "19798         -122.26471       1977                1.0               3  ...   \n",
              "20762         -122.35376       1999                1.0              13  ...   \n",
              "21103         -122.34165       1910                1.0               8  ...   \n",
              "21950         -122.36437       2000                1.0               5  ...   \n",
              "23319         -122.32525       1982                1.0              17  ...   \n",
              "23355         -122.38656       1992                1.0               4  ...   \n",
              "23437         -122.36364       1957                1.0               4  ...   \n",
              "25431         -122.31232       1963                1.0               4  ...   \n",
              "25302         -122.35498       1978                1.0               4  ...   \n",
              "25568         -122.34086       2008                1.0               4  ...   \n",
              "25711         -122.32474       1913                1.0               3  ...   \n",
              "25752         -122.34342       1989                1.0               4  ...   \n",
              "25763         -122.38587       1969                1.0               3  ...   \n",
              "26026         -122.36424       1981                1.0               3  ...   \n",
              "26532         -122.31345       1928                1.0               2  ...   \n",
              "27343         -122.30347       1981                1.0               3  ...   \n",
              "27966         -122.31214       1997                1.0               4  ...   \n",
              "50082         -122.31300       2015                1.0               4  ...   \n",
              "\n",
              "               LargestPropertyUseTypeGFA  SecondLargestPropertyUseType  \\\n",
              "OSEBuildingID                                                            \n",
              "496                                  NaN                        No Use   \n",
              "773                                  NaN                        No Use   \n",
              "19798                                NaN                        No Use   \n",
              "20762                                NaN                        No Use   \n",
              "21103                                NaN                        No Use   \n",
              "21950                                NaN                        No Use   \n",
              "23319                                NaN                        No Use   \n",
              "23355                                NaN                        No Use   \n",
              "23437                                NaN                        No Use   \n",
              "25431                                NaN                        No Use   \n",
              "25302                                NaN                        No Use   \n",
              "25568                                NaN                        No Use   \n",
              "25711                                NaN                        No Use   \n",
              "25752                                NaN                        No Use   \n",
              "25763                                NaN                        No Use   \n",
              "26026                                NaN                        No Use   \n",
              "26532                                NaN                        No Use   \n",
              "27343                                NaN                        No Use   \n",
              "27966                                NaN                        No Use   \n",
              "50082                                NaN                        No Use   \n",
              "\n",
              "               SecondLargestPropertyUseTypeGFA ThirdLargestPropertyUseType  \\\n",
              "OSEBuildingID                                                                \n",
              "496                                        0.0                      No Use   \n",
              "773                                        0.0                      No Use   \n",
              "19798                                      0.0                      No Use   \n",
              "20762                                      0.0                      No Use   \n",
              "21103                                      0.0                      No Use   \n",
              "21950                                      0.0                      No Use   \n",
              "23319                                      0.0                      No Use   \n",
              "23355                                      0.0                      No Use   \n",
              "23437                                      0.0                      No Use   \n",
              "25431                                      0.0                      No Use   \n",
              "25302                                      0.0                      No Use   \n",
              "25568                                      0.0                      No Use   \n",
              "25711                                      0.0                      No Use   \n",
              "25752                                      0.0                      No Use   \n",
              "25763                                      0.0                      No Use   \n",
              "26026                                      0.0                      No Use   \n",
              "26532                                      0.0                      No Use   \n",
              "27343                                      0.0                      No Use   \n",
              "27966                                      0.0                      No Use   \n",
              "50082                                      0.0                      No Use   \n",
              "\n",
              "               ThirdLargestPropertyUseTypeGFA ENERGYSTARScore  \\\n",
              "OSEBuildingID                                                   \n",
              "496                                       0.0             NaN   \n",
              "773                                       0.0             NaN   \n",
              "19798                                     0.0             NaN   \n",
              "20762                                     0.0            17.0   \n",
              "21103                                     0.0            93.0   \n",
              "21950                                     0.0            72.0   \n",
              "23319                                     0.0            10.0   \n",
              "23355                                     0.0             NaN   \n",
              "23437                                     0.0             NaN   \n",
              "25431                                     0.0             NaN   \n",
              "25302                                     0.0             NaN   \n",
              "25568                                     0.0            45.0   \n",
              "25711                                     0.0             NaN   \n",
              "25752                                     0.0             NaN   \n",
              "25763                                     0.0             NaN   \n",
              "26026                                     0.0            43.0   \n",
              "26532                                     0.0             NaN   \n",
              "27343                                     0.0            66.0   \n",
              "27966                                     0.0             NaN   \n",
              "50082                                     0.0             NaN   \n",
              "\n",
              "               SiteEnergyUseWN(kBtu) ComplianceStatus  Outlier  \\\n",
              "OSEBuildingID                                                    \n",
              "496                     6.076957e+06        Compliant   normal   \n",
              "773                              NaN    Non-Compliant   normal   \n",
              "19798                            NaN    Non-Compliant   normal   \n",
              "20762                   1.399351e+07        Compliant   normal   \n",
              "21103                   2.968430e+06        Compliant   normal   \n",
              "21950                   1.329285e+06        Compliant   normal   \n",
              "23319                   2.959676e+06        Compliant   normal   \n",
              "23355                   5.937986e+05        Compliant   normal   \n",
              "23437                            NaN    Non-Compliant   normal   \n",
              "25431                   7.975070e+05        Compliant   normal   \n",
              "25302                   6.059075e+05        Compliant   normal   \n",
              "25568                   3.280956e+06        Compliant   normal   \n",
              "25711                   9.358332e+05        Compliant   normal   \n",
              "25752                            NaN    Non-Compliant   normal   \n",
              "25763                   1.126782e+06        Compliant   normal   \n",
              "26026                   1.020896e+06        Compliant   normal   \n",
              "26532                            NaN    Non-Compliant   normal   \n",
              "27343                   1.333831e+06        Compliant   normal   \n",
              "27966                   7.643831e+05        Compliant   normal   \n",
              "50082                   8.576127e+05        Compliant   normal   \n",
              "\n",
              "               TotalGHGEmissions  \n",
              "OSEBuildingID                     \n",
              "496                       163.83  \n",
              "773                          NaN  \n",
              "19798                        NaN  \n",
              "20762                     408.82  \n",
              "21103                      36.92  \n",
              "21950                       8.99  \n",
              "23319                      18.95  \n",
              "23355                        NaN  \n",
              "23437                        NaN  \n",
              "25431                        NaN  \n",
              "25302                       3.90  \n",
              "25568                      22.09  \n",
              "25711                      29.21  \n",
              "25752                        NaN  \n",
              "25763                        NaN  \n",
              "26026                       6.53  \n",
              "26532                        NaN  \n",
              "27343                       8.70  \n",
              "27966                      16.31  \n",
              "50082                        NaN  \n",
              "\n",
              "[20 rows x 24 columns]"
            ],
            "text/html": [
              "\n",
              "  <div id=\"df-5ac818d0-fafd-4f0d-b05d-fe3f52a29dd6\">\n",
              "    <div class=\"colab-df-container\">\n",
              "      <div>\n",
              "<style scoped>\n",
              "    .dataframe tbody tr th:only-of-type {\n",
              "        vertical-align: middle;\n",
              "    }\n",
              "\n",
              "    .dataframe tbody tr th {\n",
              "        vertical-align: top;\n",
              "    }\n",
              "\n",
              "    .dataframe thead th {\n",
              "        text-align: right;\n",
              "    }\n",
              "</style>\n",
              "<table border=\"1\" class=\"dataframe\">\n",
              "  <thead>\n",
              "    <tr style=\"text-align: right;\">\n",
              "      <th></th>\n",
              "      <th>DataYear</th>\n",
              "      <th>BuildingType</th>\n",
              "      <th>PrimaryPropertyType</th>\n",
              "      <th>CouncilDistrictCode</th>\n",
              "      <th>Neighborhood</th>\n",
              "      <th>Latitude</th>\n",
              "      <th>Longitude</th>\n",
              "      <th>YearBuilt</th>\n",
              "      <th>NumberofBuildings</th>\n",
              "      <th>NumberofFloors</th>\n",
              "      <th>...</th>\n",
              "      <th>LargestPropertyUseTypeGFA</th>\n",
              "      <th>SecondLargestPropertyUseType</th>\n",
              "      <th>SecondLargestPropertyUseTypeGFA</th>\n",
              "      <th>ThirdLargestPropertyUseType</th>\n",
              "      <th>ThirdLargestPropertyUseTypeGFA</th>\n",
              "      <th>ENERGYSTARScore</th>\n",
              "      <th>SiteEnergyUseWN(kBtu)</th>\n",
              "      <th>ComplianceStatus</th>\n",
              "      <th>Outlier</th>\n",
              "      <th>TotalGHGEmissions</th>\n",
              "    </tr>\n",
              "    <tr>\n",
              "      <th>OSEBuildingID</th>\n",
              "      <th></th>\n",
              "      <th></th>\n",
              "      <th></th>\n",
              "      <th></th>\n",
              "      <th></th>\n",
              "      <th></th>\n",
              "      <th></th>\n",
              "      <th></th>\n",
              "      <th></th>\n",
              "      <th></th>\n",
              "      <th></th>\n",
              "      <th></th>\n",
              "      <th></th>\n",
              "      <th></th>\n",
              "      <th></th>\n",
              "      <th></th>\n",
              "      <th></th>\n",
              "      <th></th>\n",
              "      <th></th>\n",
              "      <th></th>\n",
              "      <th></th>\n",
              "    </tr>\n",
              "  </thead>\n",
              "  <tbody>\n",
              "    <tr>\n",
              "      <th>496</th>\n",
              "      <td>2016</td>\n",
              "      <td>NonResidential</td>\n",
              "      <td>Self-Storage Facility</td>\n",
              "      <td>6</td>\n",
              "      <td>BALLARD</td>\n",
              "      <td>47.66838</td>\n",
              "      <td>-122.39310</td>\n",
              "      <td>1946</td>\n",
              "      <td>2.0</td>\n",
              "      <td>2</td>\n",
              "      <td>...</td>\n",
              "      <td>NaN</td>\n",
              "      <td>No Use</td>\n",
              "      <td>0.0</td>\n",
              "      <td>No Use</td>\n",
              "      <td>0.0</td>\n",
              "      <td>NaN</td>\n",
              "      <td>6.076957e+06</td>\n",
              "      <td>Compliant</td>\n",
              "      <td>normal</td>\n",
              "      <td>163.83</td>\n",
              "    </tr>\n",
              "    <tr>\n",
              "      <th>773</th>\n",
              "      <td>2016</td>\n",
              "      <td>NonResidential</td>\n",
              "      <td>Small- and Mid-Sized Office</td>\n",
              "      <td>7</td>\n",
              "      <td>DOWNTOWN</td>\n",
              "      <td>47.60380</td>\n",
              "      <td>-122.33293</td>\n",
              "      <td>1924</td>\n",
              "      <td>1.0</td>\n",
              "      <td>4</td>\n",
              "      <td>...</td>\n",
              "      <td>NaN</td>\n",
              "      <td>No Use</td>\n",
              "      <td>0.0</td>\n",
              "      <td>No Use</td>\n",
              "      <td>0.0</td>\n",
              "      <td>NaN</td>\n",
              "      <td>NaN</td>\n",
              "      <td>Non-Compliant</td>\n",
              "      <td>normal</td>\n",
              "      <td>NaN</td>\n",
              "    </tr>\n",
              "    <tr>\n",
              "      <th>19798</th>\n",
              "      <td>2016</td>\n",
              "      <td>Multifamily LR (1-4)</td>\n",
              "      <td>Low-Rise Multifamily</td>\n",
              "      <td>4</td>\n",
              "      <td>NORTHEAST</td>\n",
              "      <td>47.68149</td>\n",
              "      <td>-122.26471</td>\n",
              "      <td>1977</td>\n",
              "      <td>1.0</td>\n",
              "      <td>3</td>\n",
              "      <td>...</td>\n",
              "      <td>NaN</td>\n",
              "      <td>No Use</td>\n",
              "      <td>0.0</td>\n",
              "      <td>No Use</td>\n",
              "      <td>0.0</td>\n",
              "      <td>NaN</td>\n",
              "      <td>NaN</td>\n",
              "      <td>Non-Compliant</td>\n",
              "      <td>normal</td>\n",
              "      <td>NaN</td>\n",
              "    </tr>\n",
              "    <tr>\n",
              "      <th>20762</th>\n",
              "      <td>2016</td>\n",
              "      <td>Multifamily HR (10+)</td>\n",
              "      <td>High-Rise Multifamily</td>\n",
              "      <td>7</td>\n",
              "      <td>DOWNTOWN</td>\n",
              "      <td>47.61733</td>\n",
              "      <td>-122.35376</td>\n",
              "      <td>1999</td>\n",
              "      <td>1.0</td>\n",
              "      <td>13</td>\n",
              "      <td>...</td>\n",
              "      <td>NaN</td>\n",
              "      <td>No Use</td>\n",
              "      <td>0.0</td>\n",
              "      <td>No Use</td>\n",
              "      <td>0.0</td>\n",
              "      <td>17.0</td>\n",
              "      <td>1.399351e+07</td>\n",
              "      <td>Compliant</td>\n",
              "      <td>normal</td>\n",
              "      <td>408.82</td>\n",
              "    </tr>\n",
              "    <tr>\n",
              "      <th>21103</th>\n",
              "      <td>2016</td>\n",
              "      <td>NonResidential</td>\n",
              "      <td>Hotel</td>\n",
              "      <td>7</td>\n",
              "      <td>DOWNTOWN</td>\n",
              "      <td>47.61203</td>\n",
              "      <td>-122.34165</td>\n",
              "      <td>1910</td>\n",
              "      <td>1.0</td>\n",
              "      <td>8</td>\n",
              "      <td>...</td>\n",
              "      <td>NaN</td>\n",
              "      <td>No Use</td>\n",
              "      <td>0.0</td>\n",
              "      <td>No Use</td>\n",
              "      <td>0.0</td>\n",
              "      <td>93.0</td>\n",
              "      <td>2.968430e+06</td>\n",
              "      <td>Compliant</td>\n",
              "      <td>normal</td>\n",
              "      <td>36.92</td>\n",
              "    </tr>\n",
              "    <tr>\n",
              "      <th>21950</th>\n",
              "      <td>2016</td>\n",
              "      <td>Multifamily MR (5-9)</td>\n",
              "      <td>Mid-Rise Multifamily</td>\n",
              "      <td>7</td>\n",
              "      <td>MAGNOLIA / QUEEN ANNE</td>\n",
              "      <td>47.62390</td>\n",
              "      <td>-122.36437</td>\n",
              "      <td>2000</td>\n",
              "      <td>1.0</td>\n",
              "      <td>5</td>\n",
              "      <td>...</td>\n",
              "      <td>NaN</td>\n",
              "      <td>No Use</td>\n",
              "      <td>0.0</td>\n",
              "      <td>No Use</td>\n",
              "      <td>0.0</td>\n",
              "      <td>72.0</td>\n",
              "      <td>1.329285e+06</td>\n",
              "      <td>Compliant</td>\n",
              "      <td>normal</td>\n",
              "      <td>8.99</td>\n",
              "    </tr>\n",
              "    <tr>\n",
              "      <th>23319</th>\n",
              "      <td>2016</td>\n",
              "      <td>Multifamily HR (10+)</td>\n",
              "      <td>High-Rise Multifamily</td>\n",
              "      <td>3</td>\n",
              "      <td>EAST</td>\n",
              "      <td>47.61056</td>\n",
              "      <td>-122.32525</td>\n",
              "      <td>1982</td>\n",
              "      <td>1.0</td>\n",
              "      <td>17</td>\n",
              "      <td>...</td>\n",
              "      <td>NaN</td>\n",
              "      <td>No Use</td>\n",
              "      <td>0.0</td>\n",
              "      <td>No Use</td>\n",
              "      <td>0.0</td>\n",
              "      <td>10.0</td>\n",
              "      <td>2.959676e+06</td>\n",
              "      <td>Compliant</td>\n",
              "      <td>normal</td>\n",
              "      <td>18.95</td>\n",
              "    </tr>\n",
              "    <tr>\n",
              "      <th>23355</th>\n",
              "      <td>2016</td>\n",
              "      <td>Multifamily LR (1-4)</td>\n",
              "      <td>Low-Rise Multifamily</td>\n",
              "      <td>1</td>\n",
              "      <td>SOUTHWEST</td>\n",
              "      <td>47.54731</td>\n",
              "      <td>-122.38656</td>\n",
              "      <td>1992</td>\n",
              "      <td>1.0</td>\n",
              "      <td>4</td>\n",
              "      <td>...</td>\n",
              "      <td>NaN</td>\n",
              "      <td>No Use</td>\n",
              "      <td>0.0</td>\n",
              "      <td>No Use</td>\n",
              "      <td>0.0</td>\n",
              "      <td>NaN</td>\n",
              "      <td>5.937986e+05</td>\n",
              "      <td>Compliant</td>\n",
              "      <td>normal</td>\n",
              "      <td>NaN</td>\n",
              "    </tr>\n",
              "    <tr>\n",
              "      <th>23437</th>\n",
              "      <td>2016</td>\n",
              "      <td>Multifamily LR (1-4)</td>\n",
              "      <td>Low-Rise Multifamily</td>\n",
              "      <td>7</td>\n",
              "      <td>MAGNOLIA / QUEEN ANNE</td>\n",
              "      <td>47.62479</td>\n",
              "      <td>-122.36364</td>\n",
              "      <td>1957</td>\n",
              "      <td>1.0</td>\n",
              "      <td>4</td>\n",
              "      <td>...</td>\n",
              "      <td>NaN</td>\n",
              "      <td>No Use</td>\n",
              "      <td>0.0</td>\n",
              "      <td>No Use</td>\n",
              "      <td>0.0</td>\n",
              "      <td>NaN</td>\n",
              "      <td>NaN</td>\n",
              "      <td>Non-Compliant</td>\n",
              "      <td>normal</td>\n",
              "      <td>NaN</td>\n",
              "    </tr>\n",
              "    <tr>\n",
              "      <th>25431</th>\n",
              "      <td>2016</td>\n",
              "      <td>Multifamily LR (1-4)</td>\n",
              "      <td>Low-Rise Multifamily</td>\n",
              "      <td>4</td>\n",
              "      <td>NORTHEAST</td>\n",
              "      <td>47.67025</td>\n",
              "      <td>-122.31232</td>\n",
              "      <td>1963</td>\n",
              "      <td>1.0</td>\n",
              "      <td>4</td>\n",
              "      <td>...</td>\n",
              "      <td>NaN</td>\n",
              "      <td>No Use</td>\n",
              "      <td>0.0</td>\n",
              "      <td>No Use</td>\n",
              "      <td>0.0</td>\n",
              "      <td>NaN</td>\n",
              "      <td>7.975070e+05</td>\n",
              "      <td>Compliant</td>\n",
              "      <td>normal</td>\n",
              "      <td>NaN</td>\n",
              "    </tr>\n",
              "    <tr>\n",
              "      <th>25302</th>\n",
              "      <td>2016</td>\n",
              "      <td>Multifamily LR (1-4)</td>\n",
              "      <td>Low-Rise Multifamily</td>\n",
              "      <td>5</td>\n",
              "      <td>NORTHWEST</td>\n",
              "      <td>47.69991</td>\n",
              "      <td>-122.35498</td>\n",
              "      <td>1978</td>\n",
              "      <td>1.0</td>\n",
              "      <td>4</td>\n",
              "      <td>...</td>\n",
              "      <td>NaN</td>\n",
              "      <td>No Use</td>\n",
              "      <td>0.0</td>\n",
              "      <td>No Use</td>\n",
              "      <td>0.0</td>\n",
              "      <td>NaN</td>\n",
              "      <td>6.059075e+05</td>\n",
              "      <td>Compliant</td>\n",
              "      <td>normal</td>\n",
              "      <td>3.90</td>\n",
              "    </tr>\n",
              "    <tr>\n",
              "      <th>25568</th>\n",
              "      <td>2016</td>\n",
              "      <td>NonResidential</td>\n",
              "      <td>Small- and Mid-Sized Office</td>\n",
              "      <td>4</td>\n",
              "      <td>LAKE UNION</td>\n",
              "      <td>47.64747</td>\n",
              "      <td>-122.34086</td>\n",
              "      <td>2008</td>\n",
              "      <td>1.0</td>\n",
              "      <td>4</td>\n",
              "      <td>...</td>\n",
              "      <td>NaN</td>\n",
              "      <td>No Use</td>\n",
              "      <td>0.0</td>\n",
              "      <td>No Use</td>\n",
              "      <td>0.0</td>\n",
              "      <td>45.0</td>\n",
              "      <td>3.280956e+06</td>\n",
              "      <td>Compliant</td>\n",
              "      <td>normal</td>\n",
              "      <td>22.09</td>\n",
              "    </tr>\n",
              "    <tr>\n",
              "      <th>25711</th>\n",
              "      <td>2016</td>\n",
              "      <td>NonResidential</td>\n",
              "      <td>Restaurant</td>\n",
              "      <td>2</td>\n",
              "      <td>DOWNTOWN</td>\n",
              "      <td>47.59697</td>\n",
              "      <td>-122.32474</td>\n",
              "      <td>1913</td>\n",
              "      <td>1.0</td>\n",
              "      <td>3</td>\n",
              "      <td>...</td>\n",
              "      <td>NaN</td>\n",
              "      <td>No Use</td>\n",
              "      <td>0.0</td>\n",
              "      <td>No Use</td>\n",
              "      <td>0.0</td>\n",
              "      <td>NaN</td>\n",
              "      <td>9.358332e+05</td>\n",
              "      <td>Compliant</td>\n",
              "      <td>normal</td>\n",
              "      <td>29.21</td>\n",
              "    </tr>\n",
              "    <tr>\n",
              "      <th>25752</th>\n",
              "      <td>2016</td>\n",
              "      <td>Multifamily LR (1-4)</td>\n",
              "      <td>Low-Rise Multifamily</td>\n",
              "      <td>6</td>\n",
              "      <td>NORTHWEST</td>\n",
              "      <td>47.69658</td>\n",
              "      <td>-122.34342</td>\n",
              "      <td>1989</td>\n",
              "      <td>1.0</td>\n",
              "      <td>4</td>\n",
              "      <td>...</td>\n",
              "      <td>NaN</td>\n",
              "      <td>No Use</td>\n",
              "      <td>0.0</td>\n",
              "      <td>No Use</td>\n",
              "      <td>0.0</td>\n",
              "      <td>NaN</td>\n",
              "      <td>NaN</td>\n",
              "      <td>Non-Compliant</td>\n",
              "      <td>normal</td>\n",
              "      <td>NaN</td>\n",
              "    </tr>\n",
              "    <tr>\n",
              "      <th>25763</th>\n",
              "      <td>2016</td>\n",
              "      <td>Multifamily LR (1-4)</td>\n",
              "      <td>Low-Rise Multifamily</td>\n",
              "      <td>1</td>\n",
              "      <td>SOUTHWEST</td>\n",
              "      <td>47.58968</td>\n",
              "      <td>-122.38587</td>\n",
              "      <td>1969</td>\n",
              "      <td>1.0</td>\n",
              "      <td>3</td>\n",
              "      <td>...</td>\n",
              "      <td>NaN</td>\n",
              "      <td>No Use</td>\n",
              "      <td>0.0</td>\n",
              "      <td>No Use</td>\n",
              "      <td>0.0</td>\n",
              "      <td>NaN</td>\n",
              "      <td>1.126782e+06</td>\n",
              "      <td>Compliant</td>\n",
              "      <td>normal</td>\n",
              "      <td>NaN</td>\n",
              "    </tr>\n",
              "    <tr>\n",
              "      <th>26026</th>\n",
              "      <td>2016</td>\n",
              "      <td>Multifamily LR (1-4)</td>\n",
              "      <td>Low-Rise Multifamily</td>\n",
              "      <td>1</td>\n",
              "      <td>DELRIDGE</td>\n",
              "      <td>47.52451</td>\n",
              "      <td>-122.36424</td>\n",
              "      <td>1981</td>\n",
              "      <td>1.0</td>\n",
              "      <td>3</td>\n",
              "      <td>...</td>\n",
              "      <td>NaN</td>\n",
              "      <td>No Use</td>\n",
              "      <td>0.0</td>\n",
              "      <td>No Use</td>\n",
              "      <td>0.0</td>\n",
              "      <td>43.0</td>\n",
              "      <td>1.020896e+06</td>\n",
              "      <td>Compliant</td>\n",
              "      <td>normal</td>\n",
              "      <td>6.53</td>\n",
              "    </tr>\n",
              "    <tr>\n",
              "      <th>26532</th>\n",
              "      <td>2016</td>\n",
              "      <td>NonResidential</td>\n",
              "      <td>Mixed Use Property</td>\n",
              "      <td>4</td>\n",
              "      <td>NORTHEAST</td>\n",
              "      <td>47.66182</td>\n",
              "      <td>-122.31345</td>\n",
              "      <td>1928</td>\n",
              "      <td>1.0</td>\n",
              "      <td>2</td>\n",
              "      <td>...</td>\n",
              "      <td>NaN</td>\n",
              "      <td>No Use</td>\n",
              "      <td>0.0</td>\n",
              "      <td>No Use</td>\n",
              "      <td>0.0</td>\n",
              "      <td>NaN</td>\n",
              "      <td>NaN</td>\n",
              "      <td>Non-Compliant</td>\n",
              "      <td>normal</td>\n",
              "      <td>NaN</td>\n",
              "    </tr>\n",
              "    <tr>\n",
              "      <th>27343</th>\n",
              "      <td>2016</td>\n",
              "      <td>Multifamily LR (1-4)</td>\n",
              "      <td>Low-Rise Multifamily</td>\n",
              "      <td>5</td>\n",
              "      <td>NORTHEAST</td>\n",
              "      <td>47.69327</td>\n",
              "      <td>-122.30347</td>\n",
              "      <td>1981</td>\n",
              "      <td>1.0</td>\n",
              "      <td>3</td>\n",
              "      <td>...</td>\n",
              "      <td>NaN</td>\n",
              "      <td>No Use</td>\n",
              "      <td>0.0</td>\n",
              "      <td>No Use</td>\n",
              "      <td>0.0</td>\n",
              "      <td>66.0</td>\n",
              "      <td>1.333831e+06</td>\n",
              "      <td>Compliant</td>\n",
              "      <td>normal</td>\n",
              "      <td>8.70</td>\n",
              "    </tr>\n",
              "    <tr>\n",
              "      <th>27966</th>\n",
              "      <td>2016</td>\n",
              "      <td>Multifamily LR (1-4)</td>\n",
              "      <td>Low-Rise Multifamily</td>\n",
              "      <td>5</td>\n",
              "      <td>NORTH</td>\n",
              "      <td>47.71313</td>\n",
              "      <td>-122.31214</td>\n",
              "      <td>1997</td>\n",
              "      <td>1.0</td>\n",
              "      <td>4</td>\n",
              "      <td>...</td>\n",
              "      <td>NaN</td>\n",
              "      <td>No Use</td>\n",
              "      <td>0.0</td>\n",
              "      <td>No Use</td>\n",
              "      <td>0.0</td>\n",
              "      <td>NaN</td>\n",
              "      <td>7.643831e+05</td>\n",
              "      <td>Compliant</td>\n",
              "      <td>normal</td>\n",
              "      <td>16.31</td>\n",
              "    </tr>\n",
              "    <tr>\n",
              "      <th>50082</th>\n",
              "      <td>2016</td>\n",
              "      <td>Multifamily LR (1-4)</td>\n",
              "      <td>Low-Rise Multifamily</td>\n",
              "      <td>3</td>\n",
              "      <td>EAST</td>\n",
              "      <td>47.62441</td>\n",
              "      <td>-122.31300</td>\n",
              "      <td>2015</td>\n",
              "      <td>1.0</td>\n",
              "      <td>4</td>\n",
              "      <td>...</td>\n",
              "      <td>NaN</td>\n",
              "      <td>No Use</td>\n",
              "      <td>0.0</td>\n",
              "      <td>No Use</td>\n",
              "      <td>0.0</td>\n",
              "      <td>NaN</td>\n",
              "      <td>8.576127e+05</td>\n",
              "      <td>Compliant</td>\n",
              "      <td>normal</td>\n",
              "      <td>NaN</td>\n",
              "    </tr>\n",
              "  </tbody>\n",
              "</table>\n",
              "<p>20 rows × 24 columns</p>\n",
              "</div>\n",
              "      <button class=\"colab-df-convert\" onclick=\"convertToInteractive('df-5ac818d0-fafd-4f0d-b05d-fe3f52a29dd6')\"\n",
              "              title=\"Convert this dataframe to an interactive table.\"\n",
              "              style=\"display:none;\">\n",
              "        \n",
              "  <svg xmlns=\"http://www.w3.org/2000/svg\" height=\"24px\"viewBox=\"0 0 24 24\"\n",
              "       width=\"24px\">\n",
              "    <path d=\"M0 0h24v24H0V0z\" fill=\"none\"/>\n",
              "    <path d=\"M18.56 5.44l.94 2.06.94-2.06 2.06-.94-2.06-.94-.94-2.06-.94 2.06-2.06.94zm-11 1L8.5 8.5l.94-2.06 2.06-.94-2.06-.94L8.5 2.5l-.94 2.06-2.06.94zm10 10l.94 2.06.94-2.06 2.06-.94-2.06-.94-.94-2.06-.94 2.06-2.06.94z\"/><path d=\"M17.41 7.96l-1.37-1.37c-.4-.4-.92-.59-1.43-.59-.52 0-1.04.2-1.43.59L10.3 9.45l-7.72 7.72c-.78.78-.78 2.05 0 2.83L4 21.41c.39.39.9.59 1.41.59.51 0 1.02-.2 1.41-.59l7.78-7.78 2.81-2.81c.8-.78.8-2.07 0-2.86zM5.41 20L4 18.59l7.72-7.72 1.47 1.35L5.41 20z\"/>\n",
              "  </svg>\n",
              "      </button>\n",
              "      \n",
              "  <style>\n",
              "    .colab-df-container {\n",
              "      display:flex;\n",
              "      flex-wrap:wrap;\n",
              "      gap: 12px;\n",
              "    }\n",
              "\n",
              "    .colab-df-convert {\n",
              "      background-color: #E8F0FE;\n",
              "      border: none;\n",
              "      border-radius: 50%;\n",
              "      cursor: pointer;\n",
              "      display: none;\n",
              "      fill: #1967D2;\n",
              "      height: 32px;\n",
              "      padding: 0 0 0 0;\n",
              "      width: 32px;\n",
              "    }\n",
              "\n",
              "    .colab-df-convert:hover {\n",
              "      background-color: #E2EBFA;\n",
              "      box-shadow: 0px 1px 2px rgba(60, 64, 67, 0.3), 0px 1px 3px 1px rgba(60, 64, 67, 0.15);\n",
              "      fill: #174EA6;\n",
              "    }\n",
              "\n",
              "    [theme=dark] .colab-df-convert {\n",
              "      background-color: #3B4455;\n",
              "      fill: #D2E3FC;\n",
              "    }\n",
              "\n",
              "    [theme=dark] .colab-df-convert:hover {\n",
              "      background-color: #434B5C;\n",
              "      box-shadow: 0px 1px 3px 1px rgba(0, 0, 0, 0.15);\n",
              "      filter: drop-shadow(0px 1px 2px rgba(0, 0, 0, 0.3));\n",
              "      fill: #FFFFFF;\n",
              "    }\n",
              "  </style>\n",
              "\n",
              "      <script>\n",
              "        const buttonEl =\n",
              "          document.querySelector('#df-5ac818d0-fafd-4f0d-b05d-fe3f52a29dd6 button.colab-df-convert');\n",
              "        buttonEl.style.display =\n",
              "          google.colab.kernel.accessAllowed ? 'block' : 'none';\n",
              "\n",
              "        async function convertToInteractive(key) {\n",
              "          const element = document.querySelector('#df-5ac818d0-fafd-4f0d-b05d-fe3f52a29dd6');\n",
              "          const dataTable =\n",
              "            await google.colab.kernel.invokeFunction('convertToInteractive',\n",
              "                                                     [key], {});\n",
              "          if (!dataTable) return;\n",
              "\n",
              "          const docLinkHtml = 'Like what you see? Visit the ' +\n",
              "            '<a target=\"_blank\" href=https://colab.research.google.com/notebooks/data_table.ipynb>data table notebook</a>'\n",
              "            + ' to learn more about interactive tables.';\n",
              "          element.innerHTML = '';\n",
              "          dataTable['output_type'] = 'display_data';\n",
              "          await google.colab.output.renderOutput(dataTable, element);\n",
              "          const docLink = document.createElement('div');\n",
              "          docLink.innerHTML = docLinkHtml;\n",
              "          element.appendChild(docLink);\n",
              "        }\n",
              "      </script>\n",
              "    </div>\n",
              "  </div>\n",
              "  "
            ]
          },
          "metadata": {},
          "execution_count": 58
        }
      ]
    },
    {
      "cell_type": "code",
      "source": [
        "for index in range(len(data2016)):\n",
        "    if np.isnan(data2016.iloc[index]['LargestPropertyUseTypeGFA']):\n",
        "        data2016['LargestPropertyUseTypeGFA'].iloc[index] = data2016['PropertyGFABuilding(s)'].iloc[index]"
      ],
      "metadata": {
        "colab": {
          "base_uri": "https://localhost:8080/"
        },
        "id": "8NKCRWepR-7a",
        "outputId": "478b0e0e-c9bf-4f51-b0e4-80d13e4a6e55"
      },
      "execution_count": null,
      "outputs": [
        {
          "output_type": "stream",
          "name": "stderr",
          "text": [
            "<ipython-input-59-d341b748dd86>:3: SettingWithCopyWarning: \n",
            "A value is trying to be set on a copy of a slice from a DataFrame\n",
            "\n",
            "See the caveats in the documentation: https://pandas.pydata.org/pandas-docs/stable/user_guide/indexing.html#returning-a-view-versus-a-copy\n",
            "  data2016['LargestPropertyUseTypeGFA'].iloc[index] = data2016['PropertyGFABuilding(s)'].iloc[index]\n"
          ]
        }
      ]
    },
    {
      "cell_type": "code",
      "source": [
        "data2016['LargestPropertyUseType'].value_counts()"
      ],
      "metadata": {
        "colab": {
          "base_uri": "https://localhost:8080/"
        },
        "id": "z8p7B4BASWIe",
        "outputId": "874bba1b-45c8-4eb6-c635-5b0c4985e15d"
      },
      "execution_count": null,
      "outputs": [
        {
          "output_type": "execute_result",
          "data": {
            "text/plain": [
              "Multifamily Housing                                     1664\n",
              "Office                                                   494\n",
              "Non-Refrigerated Warehouse                               199\n",
              "K-12 School                                              125\n",
              "Other                                                    101\n",
              "Retail Store                                              99\n",
              "Hotel                                                     77\n",
              "Worship Facility                                          69\n",
              "Distribution Center                                       54\n",
              "Senior Care Community                                     46\n",
              "Supermarket/Grocery Store                                 41\n",
              "Medical Office                                            41\n",
              "Parking                                                   32\n",
              "Other - Recreation                                        31\n",
              "Self-Storage Facility                                     28\n",
              "Residence Hall/Dormitory                                  24\n",
              "College/University                                        22\n",
              "Other - Entertainment/Public Assembly                     21\n",
              "No information                                            20\n",
              "Laboratory                                                13\n",
              "Refrigerated Warehouse                                    12\n",
              "Restaurant                                                12\n",
              "Social/Meeting Hall                                       10\n",
              "Hospital (General Medical & Surgical)                     10\n",
              "Manufacturing/Industrial Plant                             8\n",
              "Other - Lodging/Residential                                6\n",
              "Repair Services (Vehicle, Shoe, Locksmith, etc)            6\n",
              "Strip Mall                                                 6\n",
              "Museum                                                     5\n",
              "Fitness Center/Health Club/Gym                             5\n",
              "Other - Services                                           5\n",
              "Automobile Dealership                                      5\n",
              "Financial Office                                           4\n",
              "Bank Branch                                                4\n",
              "Other - Mall                                               4\n",
              "Library                                                    4\n",
              "Urgent Care/Clinic/Other Outpatient                        4\n",
              "Other/Specialty Hospital                                   4\n",
              "Other - Education                                          3\n",
              "Performing Arts                                            3\n",
              "Prison/Incarceration                                       3\n",
              "Data Center                                                3\n",
              "Lifestyle Center                                           2\n",
              "Other - Public Services                                    2\n",
              "Other - Restaurant/Bar                                     2\n",
              "Adult Education                                            2\n",
              "Other - Utility                                            2\n",
              "Pre-school/Daycare                                         2\n",
              "Fire Station                                               1\n",
              "Wholesale Club/Supercenter                                 1\n",
              "Residential Care Facility                                  1\n",
              "Police Station                                             1\n",
              "Food Service                                               1\n",
              "Movie Theater                                              1\n",
              "Personal Services (Health/Beauty, Dry Cleaning, etc)       1\n",
              "Courthouse                                                 1\n",
              "Name: LargestPropertyUseType, dtype: int64"
            ]
          },
          "metadata": {},
          "execution_count": 60
        }
      ]
    },
    {
      "cell_type": "code",
      "source": [
        "data2016['SecondLargestPropertyUseType'].value_counts()"
      ],
      "metadata": {
        "colab": {
          "base_uri": "https://localhost:8080/"
        },
        "id": "5h2lubNaSfad",
        "outputId": "b1412f99-0405-4d2d-e475-5acfb8d51692"
      },
      "execution_count": null,
      "outputs": [
        {
          "output_type": "execute_result",
          "data": {
            "text/plain": [
              "No Use                                                  1675\n",
              "Parking                                                  970\n",
              "Office                                                   215\n",
              "Retail Store                                             155\n",
              "Other                                                     59\n",
              "Restaurant                                                40\n",
              "Non-Refrigerated Warehouse                                33\n",
              "Fitness Center/Health Club/Gym                            17\n",
              "Multifamily Housing                                       17\n",
              "Supermarket/Grocery Store                                 14\n",
              "Data Center                                               13\n",
              "Other - Services                                          12\n",
              "Medical Office                                            11\n",
              "Swimming Pool                                             10\n",
              "Laboratory                                                 8\n",
              "Distribution Center                                        7\n",
              "Bank Branch                                                7\n",
              "Other - Entertainment/Public Assembly                      7\n",
              "K-12 School                                                6\n",
              "Other - Restaurant/Bar                                     5\n",
              "Self-Storage Facility                                      4\n",
              "Other - Recreation                                         4\n",
              "Worship Facility                                           4\n",
              "Food Service                                               4\n",
              "Repair Services (Vehicle, Shoe, Locksmith, etc)            4\n",
              "Bar/Nightclub                                              3\n",
              "Hotel                                                      3\n",
              "Movie Theater                                              3\n",
              "Food Sales                                                 3\n",
              "Other - Public Services                                    3\n",
              "Senior Care Community                                      2\n",
              "Other - Lodging/Residential                                2\n",
              "Hospital (General Medical & Surgical)                      2\n",
              "Manufacturing/Industrial Plant                             2\n",
              "Automobile Dealership                                      2\n",
              "Financial Office                                           2\n",
              "Adult Education                                            2\n",
              "Performing Arts                                            2\n",
              "Other - Education                                          2\n",
              "Refrigerated Warehouse                                     2\n",
              "Enclosed Mall                                              1\n",
              "College/University                                         1\n",
              "Residence Hall/Dormitory                                   1\n",
              "Courthouse                                                 1\n",
              "Personal Services (Health/Beauty, Dry Cleaning, etc)       1\n",
              "Vocational School                                          1\n",
              "Other/Specialty Hospital                                   1\n",
              "Pre-school/Daycare                                         1\n",
              "Social/Meeting Hall                                        1\n",
              "Museum                                                     1\n",
              "Convenience Store without Gas Station                      1\n",
              "Name: SecondLargestPropertyUseType, dtype: int64"
            ]
          },
          "metadata": {},
          "execution_count": 61
        }
      ]
    },
    {
      "cell_type": "code",
      "source": [
        "data2016['ThirdLargestPropertyUseType'].value_counts()"
      ],
      "metadata": {
        "colab": {
          "base_uri": "https://localhost:8080/"
        },
        "id": "ISHgcUDXSikf",
        "outputId": "b29752b0-96f3-462c-c028-76af39462c73"
      },
      "execution_count": null,
      "outputs": [
        {
          "output_type": "execute_result",
          "data": {
            "text/plain": [
              "No Use                                                  2752\n",
              "Retail Store                                             110\n",
              "Office                                                   105\n",
              "Parking                                                   71\n",
              "Restaurant                                                55\n",
              "Other                                                     49\n",
              "Swimming Pool                                             29\n",
              "Non-Refrigerated Warehouse                                18\n",
              "Medical Office                                            17\n",
              "Data Center                                               14\n",
              "Multifamily Housing                                       12\n",
              "Food Service                                              11\n",
              "Social/Meeting Hall                                       11\n",
              "Other - Restaurant/Bar                                     9\n",
              "Pre-school/Daycare                                         8\n",
              "Bank Branch                                                6\n",
              "Fitness Center/Health Club/Gym                             6\n",
              "Other - Entertainment/Public Assembly                      6\n",
              "Personal Services (Health/Beauty, Dry Cleaning, etc)       6\n",
              "Financial Office                                           5\n",
              "Other - Lodging/Residential                                3\n",
              "Supermarket/Grocery Store                                  3\n",
              "Food Sales                                                 3\n",
              "Bar/Nightclub                                              3\n",
              "Distribution Center                                        3\n",
              "Fast Food Restaurant                                       3\n",
              "Refrigerated Warehouse                                     2\n",
              "Other - Technology/Science                                 2\n",
              "Self-Storage Facility                                      2\n",
              "Other - Recreation                                         2\n",
              "Strip Mall                                                 2\n",
              "Laboratory                                                 2\n",
              "Other - Education                                          2\n",
              "Convenience Store without Gas Station                      2\n",
              "Other - Services                                           2\n",
              "K-12 School                                                2\n",
              "College/University                                         1\n",
              "Vocational School                                          1\n",
              "Residence Hall/Dormitory                                   1\n",
              "Other - Utility                                            1\n",
              "Worship Facility                                           1\n",
              "Other/Specialty Hospital                                   1\n",
              "Manufacturing/Industrial Plant                             1\n",
              "Hotel                                                      1\n",
              "Other - Public Services                                    1\n",
              "Name: ThirdLargestPropertyUseType, dtype: int64"
            ]
          },
          "metadata": {},
          "execution_count": 62
        }
      ]
    },
    {
      "cell_type": "code",
      "source": [
        "data2016.isna().sum().sort_values()"
      ],
      "metadata": {
        "colab": {
          "base_uri": "https://localhost:8080/"
        },
        "id": "suPwxapZSoNx",
        "outputId": "723ff538-62b1-45fe-93bf-00a09eb565a8"
      },
      "execution_count": null,
      "outputs": [
        {
          "output_type": "execute_result",
          "data": {
            "text/plain": [
              "DataYear                             0\n",
              "ComplianceStatus                     0\n",
              "ThirdLargestPropertyUseTypeGFA       0\n",
              "ThirdLargestPropertyUseType          0\n",
              "SecondLargestPropertyUseTypeGFA      0\n",
              "SecondLargestPropertyUseType         0\n",
              "LargestPropertyUseTypeGFA            0\n",
              "LargestPropertyUseType               0\n",
              "PropertyGFABuilding(s)               0\n",
              "Outlier                              0\n",
              "PropertyGFAParking                   0\n",
              "NumberofFloors                       0\n",
              "NumberofBuildings                    0\n",
              "YearBuilt                            0\n",
              "Longitude                            0\n",
              "Latitude                             0\n",
              "Neighborhood                         0\n",
              "CouncilDistrictCode                  0\n",
              "PrimaryPropertyType                  0\n",
              "BuildingType                         0\n",
              "PropertyGFATotal                     0\n",
              "SiteEnergyUseWN(kBtu)                6\n",
              "TotalGHGEmissions                    9\n",
              "ENERGYSTARScore                    823\n",
              "dtype: int64"
            ]
          },
          "metadata": {},
          "execution_count": 63
        }
      ]
    },
    {
      "cell_type": "code",
      "source": [
        "index_to_drop = data2016.drop(['ENERGYSTARScore'], axis=1)[data2016.drop(['ENERGYSTARScore'],axis=1).isna().any(axis=1)].index"
      ],
      "metadata": {
        "id": "bEfFVfnlSuff"
      },
      "execution_count": null,
      "outputs": []
    },
    {
      "cell_type": "code",
      "source": [
        "index_to_drop"
      ],
      "metadata": {
        "colab": {
          "base_uri": "https://localhost:8080/"
        },
        "id": "2uGhXAZzS2J4",
        "outputId": "51d801a7-7940-4b58-a7b5-50fac553201a"
      },
      "execution_count": null,
      "outputs": [
        {
          "output_type": "execute_result",
          "data": {
            "text/plain": [
              "Int64Index([757, 773, 19798, 23355, 23437, 25431, 25752, 25763, 26532, 50082], dtype='int64', name='OSEBuildingID')"
            ]
          },
          "metadata": {},
          "execution_count": 65
        }
      ]
    },
    {
      "cell_type": "code",
      "source": [
        "data2016.drop(index_to_drop, axis=0, inplace=True)"
      ],
      "metadata": {
        "id": "AXrwzlX3S5Sx"
      },
      "execution_count": null,
      "outputs": []
    },
    {
      "cell_type": "code",
      "source": [
        "data2016.isna().sum()"
      ],
      "metadata": {
        "colab": {
          "base_uri": "https://localhost:8080/"
        },
        "id": "d8-BNGirS-QD",
        "outputId": "a0541fd2-c5d0-4624-dcc5-aff09f5b4ed2"
      },
      "execution_count": null,
      "outputs": [
        {
          "output_type": "execute_result",
          "data": {
            "text/plain": [
              "DataYear                             0\n",
              "BuildingType                         0\n",
              "PrimaryPropertyType                  0\n",
              "CouncilDistrictCode                  0\n",
              "Neighborhood                         0\n",
              "Latitude                             0\n",
              "Longitude                            0\n",
              "YearBuilt                            0\n",
              "NumberofBuildings                    0\n",
              "NumberofFloors                       0\n",
              "PropertyGFATotal                     0\n",
              "PropertyGFAParking                   0\n",
              "PropertyGFABuilding(s)               0\n",
              "LargestPropertyUseType               0\n",
              "LargestPropertyUseTypeGFA            0\n",
              "SecondLargestPropertyUseType         0\n",
              "SecondLargestPropertyUseTypeGFA      0\n",
              "ThirdLargestPropertyUseType          0\n",
              "ThirdLargestPropertyUseTypeGFA       0\n",
              "ENERGYSTARScore                    814\n",
              "SiteEnergyUseWN(kBtu)                0\n",
              "ComplianceStatus                     0\n",
              "Outlier                              0\n",
              "TotalGHGEmissions                    0\n",
              "dtype: int64"
            ]
          },
          "metadata": {},
          "execution_count": 67
        }
      ]
    },
    {
      "cell_type": "code",
      "source": [
        "data2016"
      ],
      "metadata": {
        "colab": {
          "base_uri": "https://localhost:8080/",
          "height": 605
        },
        "id": "dteppm_6TDh8",
        "outputId": "da05c05b-ec57-411c-dcd1-76533ce3c58f"
      },
      "execution_count": null,
      "outputs": [
        {
          "output_type": "execute_result",
          "data": {
            "text/plain": [
              "               DataYear        BuildingType PrimaryPropertyType  \\\n",
              "OSEBuildingID                                                     \n",
              "1                  2016      NonResidential               Hotel   \n",
              "2                  2016      NonResidential               Hotel   \n",
              "3                  2016      NonResidential               Hotel   \n",
              "5                  2016      NonResidential               Hotel   \n",
              "8                  2016      NonResidential               Hotel   \n",
              "...                 ...                 ...                 ...   \n",
              "50222              2016  Nonresidential COS              Office   \n",
              "50223              2016  Nonresidential COS               Other   \n",
              "50224              2016  Nonresidential COS               Other   \n",
              "50225              2016  Nonresidential COS  Mixed Use Property   \n",
              "50226              2016  Nonresidential COS  Mixed Use Property   \n",
              "\n",
              "               CouncilDistrictCode           Neighborhood  Latitude  \\\n",
              "OSEBuildingID                                                         \n",
              "1                                7               DOWNTOWN  47.61220   \n",
              "2                                7               DOWNTOWN  47.61317   \n",
              "3                                7               DOWNTOWN  47.61393   \n",
              "5                                7               DOWNTOWN  47.61412   \n",
              "8                                7               DOWNTOWN  47.61375   \n",
              "...                            ...                    ...       ...   \n",
              "50222                            2       GREATER DUWAMISH  47.56722   \n",
              "50223                            2               DOWNTOWN  47.59625   \n",
              "50224                            7  MAGNOLIA / QUEEN ANNE  47.63644   \n",
              "50225                            1       GREATER DUWAMISH  47.52832   \n",
              "50226                            2       GREATER DUWAMISH  47.53939   \n",
              "\n",
              "               Longitude  YearBuilt  NumberofBuildings  NumberofFloors  ...  \\\n",
              "OSEBuildingID                                                           ...   \n",
              "1             -122.33799       1927                1.0              12  ...   \n",
              "2             -122.33393       1996                1.0              11  ...   \n",
              "3             -122.33810       1969                1.0              41  ...   \n",
              "5             -122.33664       1926                1.0              10  ...   \n",
              "8             -122.34047       1980                1.0              18  ...   \n",
              "...                  ...        ...                ...             ...  ...   \n",
              "50222         -122.31154       1990                1.0               1  ...   \n",
              "50223         -122.32283       2004                1.0               1  ...   \n",
              "50224         -122.35784       1974                1.0               1  ...   \n",
              "50225         -122.32431       1989                1.0               1  ...   \n",
              "50226         -122.29536       1938                1.0               1  ...   \n",
              "\n",
              "               LargestPropertyUseTypeGFA    SecondLargestPropertyUseType  \\\n",
              "OSEBuildingID                                                              \n",
              "1                                88434.0                          No Use   \n",
              "2                                83880.0                         Parking   \n",
              "3                               756493.0                          No Use   \n",
              "5                                61320.0                          No Use   \n",
              "8                               123445.0                         Parking   \n",
              "...                                  ...                             ...   \n",
              "50222                            12294.0                          No Use   \n",
              "50223                            16000.0                          No Use   \n",
              "50224                             7583.0  Fitness Center/Health Club/Gym   \n",
              "50225                             6601.0  Fitness Center/Health Club/Gym   \n",
              "50226                             8271.0  Fitness Center/Health Club/Gym   \n",
              "\n",
              "               SecondLargestPropertyUseTypeGFA ThirdLargestPropertyUseType  \\\n",
              "OSEBuildingID                                                                \n",
              "1                                          0.0                      No Use   \n",
              "2                                      15064.0                  Restaurant   \n",
              "3                                          0.0                      No Use   \n",
              "5                                          0.0                      No Use   \n",
              "8                                      68009.0               Swimming Pool   \n",
              "...                                        ...                         ...   \n",
              "50222                                      0.0                      No Use   \n",
              "50223                                      0.0                      No Use   \n",
              "50224                                   5574.0               Swimming Pool   \n",
              "50225                                   6501.0          Pre-school/Daycare   \n",
              "50226                                   8000.0          Pre-school/Daycare   \n",
              "\n",
              "               ThirdLargestPropertyUseTypeGFA ENERGYSTARScore  \\\n",
              "OSEBuildingID                                                   \n",
              "1                                         0.0            60.0   \n",
              "2                                      4622.0            61.0   \n",
              "3                                         0.0            43.0   \n",
              "5                                         0.0            56.0   \n",
              "8                                         0.0            75.0   \n",
              "...                                       ...             ...   \n",
              "50222                                     0.0            46.0   \n",
              "50223                                     0.0             NaN   \n",
              "50224                                     0.0             NaN   \n",
              "50225                                   484.0             NaN   \n",
              "50226                                  1108.0             NaN   \n",
              "\n",
              "               SiteEnergyUseWN(kBtu) ComplianceStatus  Outlier  \\\n",
              "OSEBuildingID                                                    \n",
              "1                       7.456910e+06        Compliant   normal   \n",
              "2                       8.664479e+06        Compliant   normal   \n",
              "3                       7.393711e+07        Compliant   normal   \n",
              "5                       6.946800e+06        Compliant   normal   \n",
              "8                       1.465650e+07        Compliant   normal   \n",
              "...                              ...              ...      ...   \n",
              "50222                   9.430032e+05     Missing Data   normal   \n",
              "50223                   1.053706e+06        Compliant   normal   \n",
              "50224                   6.053764e+06        Compliant   normal   \n",
              "50225                   7.828413e+05        Compliant   normal   \n",
              "50226                   1.293722e+06        Compliant   normal   \n",
              "\n",
              "               TotalGHGEmissions  \n",
              "OSEBuildingID                     \n",
              "1                         249.98  \n",
              "2                         295.86  \n",
              "3                        2089.28  \n",
              "5                         286.43  \n",
              "8                         505.01  \n",
              "...                          ...  \n",
              "50222                      20.94  \n",
              "50223                      32.17  \n",
              "50224                     223.54  \n",
              "50225                      22.11  \n",
              "50226                      41.27  \n",
              "\n",
              "[3337 rows x 24 columns]"
            ],
            "text/html": [
              "\n",
              "  <div id=\"df-668cfcd1-e8b6-43b6-9eb9-2690b4d9410e\">\n",
              "    <div class=\"colab-df-container\">\n",
              "      <div>\n",
              "<style scoped>\n",
              "    .dataframe tbody tr th:only-of-type {\n",
              "        vertical-align: middle;\n",
              "    }\n",
              "\n",
              "    .dataframe tbody tr th {\n",
              "        vertical-align: top;\n",
              "    }\n",
              "\n",
              "    .dataframe thead th {\n",
              "        text-align: right;\n",
              "    }\n",
              "</style>\n",
              "<table border=\"1\" class=\"dataframe\">\n",
              "  <thead>\n",
              "    <tr style=\"text-align: right;\">\n",
              "      <th></th>\n",
              "      <th>DataYear</th>\n",
              "      <th>BuildingType</th>\n",
              "      <th>PrimaryPropertyType</th>\n",
              "      <th>CouncilDistrictCode</th>\n",
              "      <th>Neighborhood</th>\n",
              "      <th>Latitude</th>\n",
              "      <th>Longitude</th>\n",
              "      <th>YearBuilt</th>\n",
              "      <th>NumberofBuildings</th>\n",
              "      <th>NumberofFloors</th>\n",
              "      <th>...</th>\n",
              "      <th>LargestPropertyUseTypeGFA</th>\n",
              "      <th>SecondLargestPropertyUseType</th>\n",
              "      <th>SecondLargestPropertyUseTypeGFA</th>\n",
              "      <th>ThirdLargestPropertyUseType</th>\n",
              "      <th>ThirdLargestPropertyUseTypeGFA</th>\n",
              "      <th>ENERGYSTARScore</th>\n",
              "      <th>SiteEnergyUseWN(kBtu)</th>\n",
              "      <th>ComplianceStatus</th>\n",
              "      <th>Outlier</th>\n",
              "      <th>TotalGHGEmissions</th>\n",
              "    </tr>\n",
              "    <tr>\n",
              "      <th>OSEBuildingID</th>\n",
              "      <th></th>\n",
              "      <th></th>\n",
              "      <th></th>\n",
              "      <th></th>\n",
              "      <th></th>\n",
              "      <th></th>\n",
              "      <th></th>\n",
              "      <th></th>\n",
              "      <th></th>\n",
              "      <th></th>\n",
              "      <th></th>\n",
              "      <th></th>\n",
              "      <th></th>\n",
              "      <th></th>\n",
              "      <th></th>\n",
              "      <th></th>\n",
              "      <th></th>\n",
              "      <th></th>\n",
              "      <th></th>\n",
              "      <th></th>\n",
              "      <th></th>\n",
              "    </tr>\n",
              "  </thead>\n",
              "  <tbody>\n",
              "    <tr>\n",
              "      <th>1</th>\n",
              "      <td>2016</td>\n",
              "      <td>NonResidential</td>\n",
              "      <td>Hotel</td>\n",
              "      <td>7</td>\n",
              "      <td>DOWNTOWN</td>\n",
              "      <td>47.61220</td>\n",
              "      <td>-122.33799</td>\n",
              "      <td>1927</td>\n",
              "      <td>1.0</td>\n",
              "      <td>12</td>\n",
              "      <td>...</td>\n",
              "      <td>88434.0</td>\n",
              "      <td>No Use</td>\n",
              "      <td>0.0</td>\n",
              "      <td>No Use</td>\n",
              "      <td>0.0</td>\n",
              "      <td>60.0</td>\n",
              "      <td>7.456910e+06</td>\n",
              "      <td>Compliant</td>\n",
              "      <td>normal</td>\n",
              "      <td>249.98</td>\n",
              "    </tr>\n",
              "    <tr>\n",
              "      <th>2</th>\n",
              "      <td>2016</td>\n",
              "      <td>NonResidential</td>\n",
              "      <td>Hotel</td>\n",
              "      <td>7</td>\n",
              "      <td>DOWNTOWN</td>\n",
              "      <td>47.61317</td>\n",
              "      <td>-122.33393</td>\n",
              "      <td>1996</td>\n",
              "      <td>1.0</td>\n",
              "      <td>11</td>\n",
              "      <td>...</td>\n",
              "      <td>83880.0</td>\n",
              "      <td>Parking</td>\n",
              "      <td>15064.0</td>\n",
              "      <td>Restaurant</td>\n",
              "      <td>4622.0</td>\n",
              "      <td>61.0</td>\n",
              "      <td>8.664479e+06</td>\n",
              "      <td>Compliant</td>\n",
              "      <td>normal</td>\n",
              "      <td>295.86</td>\n",
              "    </tr>\n",
              "    <tr>\n",
              "      <th>3</th>\n",
              "      <td>2016</td>\n",
              "      <td>NonResidential</td>\n",
              "      <td>Hotel</td>\n",
              "      <td>7</td>\n",
              "      <td>DOWNTOWN</td>\n",
              "      <td>47.61393</td>\n",
              "      <td>-122.33810</td>\n",
              "      <td>1969</td>\n",
              "      <td>1.0</td>\n",
              "      <td>41</td>\n",
              "      <td>...</td>\n",
              "      <td>756493.0</td>\n",
              "      <td>No Use</td>\n",
              "      <td>0.0</td>\n",
              "      <td>No Use</td>\n",
              "      <td>0.0</td>\n",
              "      <td>43.0</td>\n",
              "      <td>7.393711e+07</td>\n",
              "      <td>Compliant</td>\n",
              "      <td>normal</td>\n",
              "      <td>2089.28</td>\n",
              "    </tr>\n",
              "    <tr>\n",
              "      <th>5</th>\n",
              "      <td>2016</td>\n",
              "      <td>NonResidential</td>\n",
              "      <td>Hotel</td>\n",
              "      <td>7</td>\n",
              "      <td>DOWNTOWN</td>\n",
              "      <td>47.61412</td>\n",
              "      <td>-122.33664</td>\n",
              "      <td>1926</td>\n",
              "      <td>1.0</td>\n",
              "      <td>10</td>\n",
              "      <td>...</td>\n",
              "      <td>61320.0</td>\n",
              "      <td>No Use</td>\n",
              "      <td>0.0</td>\n",
              "      <td>No Use</td>\n",
              "      <td>0.0</td>\n",
              "      <td>56.0</td>\n",
              "      <td>6.946800e+06</td>\n",
              "      <td>Compliant</td>\n",
              "      <td>normal</td>\n",
              "      <td>286.43</td>\n",
              "    </tr>\n",
              "    <tr>\n",
              "      <th>8</th>\n",
              "      <td>2016</td>\n",
              "      <td>NonResidential</td>\n",
              "      <td>Hotel</td>\n",
              "      <td>7</td>\n",
              "      <td>DOWNTOWN</td>\n",
              "      <td>47.61375</td>\n",
              "      <td>-122.34047</td>\n",
              "      <td>1980</td>\n",
              "      <td>1.0</td>\n",
              "      <td>18</td>\n",
              "      <td>...</td>\n",
              "      <td>123445.0</td>\n",
              "      <td>Parking</td>\n",
              "      <td>68009.0</td>\n",
              "      <td>Swimming Pool</td>\n",
              "      <td>0.0</td>\n",
              "      <td>75.0</td>\n",
              "      <td>1.465650e+07</td>\n",
              "      <td>Compliant</td>\n",
              "      <td>normal</td>\n",
              "      <td>505.01</td>\n",
              "    </tr>\n",
              "    <tr>\n",
              "      <th>...</th>\n",
              "      <td>...</td>\n",
              "      <td>...</td>\n",
              "      <td>...</td>\n",
              "      <td>...</td>\n",
              "      <td>...</td>\n",
              "      <td>...</td>\n",
              "      <td>...</td>\n",
              "      <td>...</td>\n",
              "      <td>...</td>\n",
              "      <td>...</td>\n",
              "      <td>...</td>\n",
              "      <td>...</td>\n",
              "      <td>...</td>\n",
              "      <td>...</td>\n",
              "      <td>...</td>\n",
              "      <td>...</td>\n",
              "      <td>...</td>\n",
              "      <td>...</td>\n",
              "      <td>...</td>\n",
              "      <td>...</td>\n",
              "      <td>...</td>\n",
              "    </tr>\n",
              "    <tr>\n",
              "      <th>50222</th>\n",
              "      <td>2016</td>\n",
              "      <td>Nonresidential COS</td>\n",
              "      <td>Office</td>\n",
              "      <td>2</td>\n",
              "      <td>GREATER DUWAMISH</td>\n",
              "      <td>47.56722</td>\n",
              "      <td>-122.31154</td>\n",
              "      <td>1990</td>\n",
              "      <td>1.0</td>\n",
              "      <td>1</td>\n",
              "      <td>...</td>\n",
              "      <td>12294.0</td>\n",
              "      <td>No Use</td>\n",
              "      <td>0.0</td>\n",
              "      <td>No Use</td>\n",
              "      <td>0.0</td>\n",
              "      <td>46.0</td>\n",
              "      <td>9.430032e+05</td>\n",
              "      <td>Missing Data</td>\n",
              "      <td>normal</td>\n",
              "      <td>20.94</td>\n",
              "    </tr>\n",
              "    <tr>\n",
              "      <th>50223</th>\n",
              "      <td>2016</td>\n",
              "      <td>Nonresidential COS</td>\n",
              "      <td>Other</td>\n",
              "      <td>2</td>\n",
              "      <td>DOWNTOWN</td>\n",
              "      <td>47.59625</td>\n",
              "      <td>-122.32283</td>\n",
              "      <td>2004</td>\n",
              "      <td>1.0</td>\n",
              "      <td>1</td>\n",
              "      <td>...</td>\n",
              "      <td>16000.0</td>\n",
              "      <td>No Use</td>\n",
              "      <td>0.0</td>\n",
              "      <td>No Use</td>\n",
              "      <td>0.0</td>\n",
              "      <td>NaN</td>\n",
              "      <td>1.053706e+06</td>\n",
              "      <td>Compliant</td>\n",
              "      <td>normal</td>\n",
              "      <td>32.17</td>\n",
              "    </tr>\n",
              "    <tr>\n",
              "      <th>50224</th>\n",
              "      <td>2016</td>\n",
              "      <td>Nonresidential COS</td>\n",
              "      <td>Other</td>\n",
              "      <td>7</td>\n",
              "      <td>MAGNOLIA / QUEEN ANNE</td>\n",
              "      <td>47.63644</td>\n",
              "      <td>-122.35784</td>\n",
              "      <td>1974</td>\n",
              "      <td>1.0</td>\n",
              "      <td>1</td>\n",
              "      <td>...</td>\n",
              "      <td>7583.0</td>\n",
              "      <td>Fitness Center/Health Club/Gym</td>\n",
              "      <td>5574.0</td>\n",
              "      <td>Swimming Pool</td>\n",
              "      <td>0.0</td>\n",
              "      <td>NaN</td>\n",
              "      <td>6.053764e+06</td>\n",
              "      <td>Compliant</td>\n",
              "      <td>normal</td>\n",
              "      <td>223.54</td>\n",
              "    </tr>\n",
              "    <tr>\n",
              "      <th>50225</th>\n",
              "      <td>2016</td>\n",
              "      <td>Nonresidential COS</td>\n",
              "      <td>Mixed Use Property</td>\n",
              "      <td>1</td>\n",
              "      <td>GREATER DUWAMISH</td>\n",
              "      <td>47.52832</td>\n",
              "      <td>-122.32431</td>\n",
              "      <td>1989</td>\n",
              "      <td>1.0</td>\n",
              "      <td>1</td>\n",
              "      <td>...</td>\n",
              "      <td>6601.0</td>\n",
              "      <td>Fitness Center/Health Club/Gym</td>\n",
              "      <td>6501.0</td>\n",
              "      <td>Pre-school/Daycare</td>\n",
              "      <td>484.0</td>\n",
              "      <td>NaN</td>\n",
              "      <td>7.828413e+05</td>\n",
              "      <td>Compliant</td>\n",
              "      <td>normal</td>\n",
              "      <td>22.11</td>\n",
              "    </tr>\n",
              "    <tr>\n",
              "      <th>50226</th>\n",
              "      <td>2016</td>\n",
              "      <td>Nonresidential COS</td>\n",
              "      <td>Mixed Use Property</td>\n",
              "      <td>2</td>\n",
              "      <td>GREATER DUWAMISH</td>\n",
              "      <td>47.53939</td>\n",
              "      <td>-122.29536</td>\n",
              "      <td>1938</td>\n",
              "      <td>1.0</td>\n",
              "      <td>1</td>\n",
              "      <td>...</td>\n",
              "      <td>8271.0</td>\n",
              "      <td>Fitness Center/Health Club/Gym</td>\n",
              "      <td>8000.0</td>\n",
              "      <td>Pre-school/Daycare</td>\n",
              "      <td>1108.0</td>\n",
              "      <td>NaN</td>\n",
              "      <td>1.293722e+06</td>\n",
              "      <td>Compliant</td>\n",
              "      <td>normal</td>\n",
              "      <td>41.27</td>\n",
              "    </tr>\n",
              "  </tbody>\n",
              "</table>\n",
              "<p>3337 rows × 24 columns</p>\n",
              "</div>\n",
              "      <button class=\"colab-df-convert\" onclick=\"convertToInteractive('df-668cfcd1-e8b6-43b6-9eb9-2690b4d9410e')\"\n",
              "              title=\"Convert this dataframe to an interactive table.\"\n",
              "              style=\"display:none;\">\n",
              "        \n",
              "  <svg xmlns=\"http://www.w3.org/2000/svg\" height=\"24px\"viewBox=\"0 0 24 24\"\n",
              "       width=\"24px\">\n",
              "    <path d=\"M0 0h24v24H0V0z\" fill=\"none\"/>\n",
              "    <path d=\"M18.56 5.44l.94 2.06.94-2.06 2.06-.94-2.06-.94-.94-2.06-.94 2.06-2.06.94zm-11 1L8.5 8.5l.94-2.06 2.06-.94-2.06-.94L8.5 2.5l-.94 2.06-2.06.94zm10 10l.94 2.06.94-2.06 2.06-.94-2.06-.94-.94-2.06-.94 2.06-2.06.94z\"/><path d=\"M17.41 7.96l-1.37-1.37c-.4-.4-.92-.59-1.43-.59-.52 0-1.04.2-1.43.59L10.3 9.45l-7.72 7.72c-.78.78-.78 2.05 0 2.83L4 21.41c.39.39.9.59 1.41.59.51 0 1.02-.2 1.41-.59l7.78-7.78 2.81-2.81c.8-.78.8-2.07 0-2.86zM5.41 20L4 18.59l7.72-7.72 1.47 1.35L5.41 20z\"/>\n",
              "  </svg>\n",
              "      </button>\n",
              "      \n",
              "  <style>\n",
              "    .colab-df-container {\n",
              "      display:flex;\n",
              "      flex-wrap:wrap;\n",
              "      gap: 12px;\n",
              "    }\n",
              "\n",
              "    .colab-df-convert {\n",
              "      background-color: #E8F0FE;\n",
              "      border: none;\n",
              "      border-radius: 50%;\n",
              "      cursor: pointer;\n",
              "      display: none;\n",
              "      fill: #1967D2;\n",
              "      height: 32px;\n",
              "      padding: 0 0 0 0;\n",
              "      width: 32px;\n",
              "    }\n",
              "\n",
              "    .colab-df-convert:hover {\n",
              "      background-color: #E2EBFA;\n",
              "      box-shadow: 0px 1px 2px rgba(60, 64, 67, 0.3), 0px 1px 3px 1px rgba(60, 64, 67, 0.15);\n",
              "      fill: #174EA6;\n",
              "    }\n",
              "\n",
              "    [theme=dark] .colab-df-convert {\n",
              "      background-color: #3B4455;\n",
              "      fill: #D2E3FC;\n",
              "    }\n",
              "\n",
              "    [theme=dark] .colab-df-convert:hover {\n",
              "      background-color: #434B5C;\n",
              "      box-shadow: 0px 1px 3px 1px rgba(0, 0, 0, 0.15);\n",
              "      filter: drop-shadow(0px 1px 2px rgba(0, 0, 0, 0.3));\n",
              "      fill: #FFFFFF;\n",
              "    }\n",
              "  </style>\n",
              "\n",
              "      <script>\n",
              "        const buttonEl =\n",
              "          document.querySelector('#df-668cfcd1-e8b6-43b6-9eb9-2690b4d9410e button.colab-df-convert');\n",
              "        buttonEl.style.display =\n",
              "          google.colab.kernel.accessAllowed ? 'block' : 'none';\n",
              "\n",
              "        async function convertToInteractive(key) {\n",
              "          const element = document.querySelector('#df-668cfcd1-e8b6-43b6-9eb9-2690b4d9410e');\n",
              "          const dataTable =\n",
              "            await google.colab.kernel.invokeFunction('convertToInteractive',\n",
              "                                                     [key], {});\n",
              "          if (!dataTable) return;\n",
              "\n",
              "          const docLinkHtml = 'Like what you see? Visit the ' +\n",
              "            '<a target=\"_blank\" href=https://colab.research.google.com/notebooks/data_table.ipynb>data table notebook</a>'\n",
              "            + ' to learn more about interactive tables.';\n",
              "          element.innerHTML = '';\n",
              "          dataTable['output_type'] = 'display_data';\n",
              "          await google.colab.output.renderOutput(dataTable, element);\n",
              "          const docLink = document.createElement('div');\n",
              "          docLink.innerHTML = docLinkHtml;\n",
              "          element.appendChild(docLink);\n",
              "        }\n",
              "      </script>\n",
              "    </div>\n",
              "  </div>\n",
              "  "
            ]
          },
          "metadata": {},
          "execution_count": 68
        }
      ]
    },
    {
      "cell_type": "code",
      "source": [
        "data2016.hist(figsize=(20,15))\n",
        "plt.show()"
      ],
      "metadata": {
        "colab": {
          "base_uri": "https://localhost:8080/",
          "height": 633
        },
        "id": "h0GiwvEQTKFB",
        "outputId": "61f64317-8c57-49e4-9804-e8a7e6a3d85e"
      },
      "execution_count": null,
      "outputs": [
        {
          "output_type": "display_data",
          "data": {
            "text/plain": [
              "<Figure size 2000x1500 with 16 Axes>"
            ],
            "image/png": "[encoded data removed]"
          },
          "metadata": {}
        }
      ]
    },
    {
      "cell_type": "code",
      "source": [
        "data2016['logX']=np.log(data2016['SiteEnergyUseWN(kBtu)'])"
      ],
      "metadata": {
        "id": "vU8dTTRwTW4u"
      },
      "execution_count": null,
      "outputs": []
    },
    {
      "cell_type": "code",
      "source": [
        "data2016['logX'].hist(bins=100)"
      ],
      "metadata": {
        "colab": {
          "base_uri": "https://localhost:8080/",
          "height": 447
        },
        "id": "Xw9Av6mWT5XP",
        "outputId": "b34e6bb7-8523-4ac5-df23-bf1b829a798a"
      },
      "execution_count": null,
      "outputs": [
        {
          "output_type": "execute_result",
          "data": {
            "text/plain": [
              "<Axes: >"
            ]
          },
          "metadata": {},
          "execution_count": 72
        },
        {
          "output_type": "display_data",
          "data": {
            "text/plain": [
              "<Figure size 640x480 with 1 Axes>"
            ],
            "image/png": "[encoded data removed]"
          },
          "metadata": {}
        }
      ]
    },
    {
      "cell_type": "code",
      "source": [
        "y = data2016.logX"
      ],
      "metadata": {
        "id": "-XaZf0JtT-gy"
      },
      "execution_count": null,
      "outputs": []
    },
    {
      "cell_type": "code",
      "source": [
        "y.isna().sum()"
      ],
      "metadata": {
        "colab": {
          "base_uri": "https://localhost:8080/"
        },
        "id": "0FaAcyE5UK5g",
        "outputId": "48f960c5-ad9e-4edd-c137-7f627b968579"
      },
      "execution_count": null,
      "outputs": [
        {
          "output_type": "execute_result",
          "data": {
            "text/plain": [
              "0"
            ]
          },
          "metadata": {},
          "execution_count": 74
        }
      ]
    },
    {
      "cell_type": "code",
      "source": [
        "# Drop additional columns not relevant for prediction task\n",
        "x=data2016.drop(['DataYear', 'ENERGYSTARScore', 'SiteEnergyUseWN(kBtu)', 'Outlier', 'TotalGHGEmissions', 'logX'], axis='columns')\n",
        "x.info()"
      ],
      "metadata": {
        "colab": {
          "base_uri": "https://localhost:8080/"
        },
        "id": "n3-mQ8kyUtN1",
        "outputId": "138cada4-337c-4889-9c02-284f1000c5ea"
      },
      "execution_count": null,
      "outputs": [
        {
          "output_type": "stream",
          "name": "stdout",
          "text": [
            "<class 'pandas.core.frame.DataFrame'>\n",
            "Int64Index: 3337 entries, 1 to 50226\n",
            "Data columns (total 19 columns):\n",
            " #   Column                           Non-Null Count  Dtype  \n",
            "---  ------                           --------------  -----  \n",
            " 0   BuildingType                     3337 non-null   object \n",
            " 1   PrimaryPropertyType              3337 non-null   object \n",
            " 2   CouncilDistrictCode              3337 non-null   int64  \n",
            " 3   Neighborhood                     3337 non-null   object \n",
            " 4   Latitude                         3337 non-null   float64\n",
            " 5   Longitude                        3337 non-null   float64\n",
            " 6   YearBuilt                        3337 non-null   int64  \n",
            " 7   NumberofBuildings                3337 non-null   float64\n",
            " 8   NumberofFloors                   3337 non-null   int64  \n",
            " 9   PropertyGFATotal                 3337 non-null   int64  \n",
            " 10  PropertyGFAParking               3337 non-null   int64  \n",
            " 11  PropertyGFABuilding(s)           3337 non-null   int64  \n",
            " 12  LargestPropertyUseType           3337 non-null   object \n",
            " 13  LargestPropertyUseTypeGFA        3337 non-null   float64\n",
            " 14  SecondLargestPropertyUseType     3337 non-null   object \n",
            " 15  SecondLargestPropertyUseTypeGFA  3337 non-null   float64\n",
            " 16  ThirdLargestPropertyUseType      3337 non-null   object \n",
            " 17  ThirdLargestPropertyUseTypeGFA   3337 non-null   float64\n",
            " 18  ComplianceStatus                 3337 non-null   object \n",
            "dtypes: float64(6), int64(6), object(7)\n",
            "memory usage: 521.4+ KB\n"
          ]
        }
      ]
    },
    {
      "cell_type": "code",
      "source": [
        "to_categorical = x.select_dtypes(['object']).keys()\n",
        "list(to_categorical)"
      ],
      "metadata": {
        "colab": {
          "base_uri": "https://localhost:8080/"
        },
        "id": "1J5VrnbDU0qx",
        "outputId": "8d2badaa-3d97-436a-8161-e7944b8800ed"
      },
      "execution_count": null,
      "outputs": [
        {
          "output_type": "execute_result",
          "data": {
            "text/plain": [
              "['BuildingType',\n",
              " 'PrimaryPropertyType',\n",
              " 'Neighborhood',\n",
              " 'LargestPropertyUseType',\n",
              " 'SecondLargestPropertyUseType',\n",
              " 'ThirdLargestPropertyUseType',\n",
              " 'ComplianceStatus']"
            ]
          },
          "metadata": {},
          "execution_count": 76
        }
      ]
    },
    {
      "cell_type": "code",
      "source": [
        "x= pd.get_dummies(data=x, columns=list(to_categorical))"
      ],
      "metadata": {
        "id": "pievZNrbU6A-"
      },
      "execution_count": null,
      "outputs": []
    },
    {
      "cell_type": "code",
      "source": [
        "from sklearn.preprocessing import StandardScaler\n",
        "from sklearn.model_selection import GridSearchCV\n",
        "from sklearn.model_selection import train_test_split\n",
        "from sklearn.ensemble import RandomForestRegressor\n",
        "scaler = StandardScaler(copy=False)"
      ],
      "metadata": {
        "id": "gcGkaIZGU_b0"
      },
      "execution_count": null,
      "outputs": []
    },
    {
      "cell_type": "code",
      "source": [
        "# Normalize numerical features using sklearn scaler\n",
        "numeric_columns = x.select_dtypes(['float64', 'int64']).columns\n",
        "x[numeric_columns] = scaler.fit_transform(x[numeric_columns],y)"
      ],
      "metadata": {
        "id": "_ZGS2umzVIDN"
      },
      "execution_count": null,
      "outputs": []
    },
    {
      "cell_type": "code",
      "source": [
        "parameters = {\n",
        "    'n_estimators' : [10,50,100,300,500,700], #nombre d'arbres de décision\n",
        "    'min_samples_leaf' : [1,3,5,10], #nombre de feuilles minimales dans un noeud\n",
        "    'max_features': ['auto', 'sqrt'] #nombre de features observées pour chaque arbre\n",
        "}\n",
        "\n",
        "RandomForestmodel_search = GridSearchCV(RandomForestRegressor(n_jobs=-1, random_state=0),\n",
        "                               param_grid = parameters,\n",
        "                              verbose=2,\n",
        "                               cv=5)\n",
        "\n",
        "RandomForestmodel_search.fit(x, y)"
      ],
      "metadata": {
        "colab": {
          "base_uri": "https://localhost:8080/",
          "height": 1000
        },
        "id": "BhO223dPVYg7",
        "outputId": "8e2c382e-a32a-498b-cdf4-198a998fe6d4"
      },
      "execution_count": null,
      "outputs": [
        {
          "output_type": "stream",
          "name": "stdout",
          "text": [
            "Fitting 5 folds for each of 48 candidates, totalling 240 fits\n"
          ]
        },
        {
          "output_type": "stream",
          "name": "stderr",
          "text": [
            "/usr/local/lib/python3.10/dist-packages/sklearn/ensemble/_forest.py:413: FutureWarning: `max_features='auto'` has been deprecated in 1.1 and will be removed in 1.3. To keep the past behaviour, explicitly set `max_features=1.0` or remove this parameter as it is also the default value for RandomForestRegressors and ExtraTreesRegressors.\n",
            "  warn(\n"
          ]
        },
        {
          "output_type": "stream",
          "name": "stdout",
          "text": [
            "[CV] END max_features=auto, min_samples_leaf=1, n_estimators=10; total time=   1.7s\n"
          ]
        },
        {
          "output_type": "stream",
          "name": "stderr",
          "text": [
            "/usr/local/lib/python3.10/dist-packages/sklearn/ensemble/_forest.py:413: FutureWarning: `max_features='auto'` has been deprecated in 1.1 and will be removed in 1.3. To keep the past behaviour, explicitly set `max_features=1.0` or remove this parameter as it is also the default value for RandomForestRegressors and ExtraTreesRegressors.\n",
            "  warn(\n"
          ]
        },
        {
          "output_type": "stream",
          "name": "stdout",
          "text": [
            "[CV] END max_features=auto, min_samples_leaf=1, n_estimators=10; total time=   0.5s\n"
          ]
        },
        {
          "output_type": "stream",
          "name": "stderr",
          "text": [
            "/usr/local/lib/python3.10/dist-packages/sklearn/ensemble/_forest.py:413: FutureWarning: `max_features='auto'` has been deprecated in 1.1 and will be removed in 1.3. To keep the past behaviour, explicitly set `max_features=1.0` or remove this parameter as it is also the default value for RandomForestRegressors and ExtraTreesRegressors.\n",
            "  warn(\n"
          ]
        },
        {
          "output_type": "stream",
          "name": "stdout",
          "text": [
            "[CV] END max_features=auto, min_samples_leaf=1, n_estimators=10; total time=   0.7s\n"
          ]
        },
        {
          "output_type": "stream",
          "name": "stderr",
          "text": [
            "/usr/local/lib/python3.10/dist-packages/sklearn/ensemble/_forest.py:413: FutureWarning: `max_features='auto'` has been deprecated in 1.1 and will be removed in 1.3. To keep the past behaviour, explicitly set `max_features=1.0` or remove this parameter as it is also the default value for RandomForestRegressors and ExtraTreesRegressors.\n",
            "  warn(\n"
          ]
        },
        {
          "output_type": "stream",
          "name": "stdout",
          "text": [
            "[CV] END max_features=auto, min_samples_leaf=1, n_estimators=10; total time=   0.8s\n"
          ]
        },
        {
          "output_type": "stream",
          "name": "stderr",
          "text": [
            "/usr/local/lib/python3.10/dist-packages/sklearn/ensemble/_forest.py:413: FutureWarning: `max_features='auto'` has been deprecated in 1.1 and will be removed in 1.3. To keep the past behaviour, explicitly set `max_features=1.0` or remove this parameter as it is also the default value for RandomForestRegressors and ExtraTreesRegressors.\n",
            "  warn(\n"
          ]
        },
        {
          "output_type": "stream",
          "name": "stdout",
          "text": [
            "[CV] END max_features=auto, min_samples_leaf=1, n_estimators=10; total time=   0.7s\n"
          ]
        },
        {
          "output_type": "stream",
          "name": "stderr",
          "text": [
            "/usr/local/lib/python3.10/dist-packages/sklearn/ensemble/_forest.py:413: FutureWarning: `max_features='auto'` has been deprecated in 1.1 and will be removed in 1.3. To keep the past behaviour, explicitly set `max_features=1.0` or remove this parameter as it is also the default value for RandomForestRegressors and ExtraTreesRegressors.\n",
            "  warn(\n"
          ]
        },
        {
          "output_type": "stream",
          "name": "stdout",
          "text": [
            "[CV] END max_features=auto, min_samples_leaf=1, n_estimators=50; total time=   1.7s\n"
          ]
        },
        {
          "output_type": "stream",
          "name": "stderr",
          "text": [
            "/usr/local/lib/python3.10/dist-packages/sklearn/ensemble/_forest.py:413: FutureWarning: `max_features='auto'` has been deprecated in 1.1 and will be removed in 1.3. To keep the past behaviour, explicitly set `max_features=1.0` or remove this parameter as it is also the default value for RandomForestRegressors and ExtraTreesRegressors.\n",
            "  warn(\n"
          ]
        },
        {
          "output_type": "stream",
          "name": "stdout",
          "text": [
            "[CV] END max_features=auto, min_samples_leaf=1, n_estimators=50; total time=   1.5s\n"
          ]
        },
        {
          "output_type": "stream",
          "name": "stderr",
          "text": [
            "/usr/local/lib/python3.10/dist-packages/sklearn/ensemble/_forest.py:413: FutureWarning: `max_features='auto'` has been deprecated in 1.1 and will be removed in 1.3. To keep the past behaviour, explicitly set `max_features=1.0` or remove this parameter as it is also the default value for RandomForestRegressors and ExtraTreesRegressors.\n",
            "  warn(\n"
          ]
        },
        {
          "output_type": "stream",
          "name": "stdout",
          "text": [
            "[CV] END max_features=auto, min_samples_leaf=1, n_estimators=50; total time=   1.5s\n"
          ]
        },
        {
          "output_type": "stream",
          "name": "stderr",
          "text": [
            "/usr/local/lib/python3.10/dist-packages/sklearn/ensemble/_forest.py:413: FutureWarning: `max_features='auto'` has been deprecated in 1.1 and will be removed in 1.3. To keep the past behaviour, explicitly set `max_features=1.0` or remove this parameter as it is also the default value for RandomForestRegressors and ExtraTreesRegressors.\n",
            "  warn(\n"
          ]
        },
        {
          "output_type": "stream",
          "name": "stdout",
          "text": [
            "[CV] END max_features=auto, min_samples_leaf=1, n_estimators=50; total time=   1.5s\n"
          ]
        },
        {
          "output_type": "stream",
          "name": "stderr",
          "text": [
            "/usr/local/lib/python3.10/dist-packages/sklearn/ensemble/_forest.py:413: FutureWarning: `max_features='auto'` has been deprecated in 1.1 and will be removed in 1.3. To keep the past behaviour, explicitly set `max_features=1.0` or remove this parameter as it is also the default value for RandomForestRegressors and ExtraTreesRegressors.\n",
            "  warn(\n"
          ]
        },
        {
          "output_type": "stream",
          "name": "stdout",
          "text": [
            "[CV] END max_features=auto, min_samples_leaf=1, n_estimators=50; total time=   1.5s\n"
          ]
        },
        {
          "output_type": "stream",
          "name": "stderr",
          "text": [
            "/usr/local/lib/python3.10/dist-packages/sklearn/ensemble/_forest.py:413: FutureWarning: `max_features='auto'` has been deprecated in 1.1 and will be removed in 1.3. To keep the past behaviour, explicitly set `max_features=1.0` or remove this parameter as it is also the default value for RandomForestRegressors and ExtraTreesRegressors.\n",
            "  warn(\n"
          ]
        },
        {
          "output_type": "stream",
          "name": "stdout",
          "text": [
            "[CV] END max_features=auto, min_samples_leaf=1, n_estimators=100; total time=   2.9s\n"
          ]
        },
        {
          "output_type": "stream",
          "name": "stderr",
          "text": [
            "/usr/local/lib/python3.10/dist-packages/sklearn/ensemble/_forest.py:413: FutureWarning: `max_features='auto'` has been deprecated in 1.1 and will be removed in 1.3. To keep the past behaviour, explicitly set `max_features=1.0` or remove this parameter as it is also the default value for RandomForestRegressors and ExtraTreesRegressors.\n",
            "  warn(\n"
          ]
        },
        {
          "output_type": "stream",
          "name": "stdout",
          "text": [
            "[CV] END max_features=auto, min_samples_leaf=1, n_estimators=100; total time=   4.4s\n"
          ]
        },
        {
          "output_type": "stream",
          "name": "stderr",
          "text": [
            "/usr/local/lib/python3.10/dist-packages/sklearn/ensemble/_forest.py:413: FutureWarning: `max_features='auto'` has been deprecated in 1.1 and will be removed in 1.3. To keep the past behaviour, explicitly set `max_features=1.0` or remove this parameter as it is also the default value for RandomForestRegressors and ExtraTreesRegressors.\n",
            "  warn(\n"
          ]
        },
        {
          "output_type": "stream",
          "name": "stdout",
          "text": [
            "[CV] END max_features=auto, min_samples_leaf=1, n_estimators=100; total time=   2.9s\n"
          ]
        },
        {
          "output_type": "stream",
          "name": "stderr",
          "text": [
            "/usr/local/lib/python3.10/dist-packages/sklearn/ensemble/_forest.py:413: FutureWarning: `max_features='auto'` has been deprecated in 1.1 and will be removed in 1.3. To keep the past behaviour, explicitly set `max_features=1.0` or remove this parameter as it is also the default value for RandomForestRegressors and ExtraTreesRegressors.\n",
            "  warn(\n"
          ]
        },
        {
          "output_type": "stream",
          "name": "stdout",
          "text": [
            "[CV] END max_features=auto, min_samples_leaf=1, n_estimators=100; total time=   3.0s\n"
          ]
        },
        {
          "output_type": "stream",
          "name": "stderr",
          "text": [
            "/usr/local/lib/python3.10/dist-packages/sklearn/ensemble/_forest.py:413: FutureWarning: `max_features='auto'` has been deprecated in 1.1 and will be removed in 1.3. To keep the past behaviour, explicitly set `max_features=1.0` or remove this parameter as it is also the default value for RandomForestRegressors and ExtraTreesRegressors.\n",
            "  warn(\n"
          ]
        },
        {
          "output_type": "stream",
          "name": "stdout",
          "text": [
            "[CV] END max_features=auto, min_samples_leaf=1, n_estimators=100; total time=   2.9s\n"
          ]
        },
        {
          "output_type": "stream",
          "name": "stderr",
          "text": [
            "/usr/local/lib/python3.10/dist-packages/sklearn/ensemble/_forest.py:413: FutureWarning: `max_features='auto'` has been deprecated in 1.1 and will be removed in 1.3. To keep the past behaviour, explicitly set `max_features=1.0` or remove this parameter as it is also the default value for RandomForestRegressors and ExtraTreesRegressors.\n",
            "  warn(\n"
          ]
        },
        {
          "output_type": "stream",
          "name": "stdout",
          "text": [
            "[CV] END max_features=auto, min_samples_leaf=1, n_estimators=300; total time=   9.9s\n"
          ]
        },
        {
          "output_type": "stream",
          "name": "stderr",
          "text": [
            "/usr/local/lib/python3.10/dist-packages/sklearn/ensemble/_forest.py:413: FutureWarning: `max_features='auto'` has been deprecated in 1.1 and will be removed in 1.3. To keep the past behaviour, explicitly set `max_features=1.0` or remove this parameter as it is also the default value for RandomForestRegressors and ExtraTreesRegressors.\n",
            "  warn(\n"
          ]
        },
        {
          "output_type": "stream",
          "name": "stdout",
          "text": [
            "[CV] END max_features=auto, min_samples_leaf=1, n_estimators=300; total time=  11.2s\n"
          ]
        },
        {
          "output_type": "stream",
          "name": "stderr",
          "text": [
            "/usr/local/lib/python3.10/dist-packages/sklearn/ensemble/_forest.py:413: FutureWarning: `max_features='auto'` has been deprecated in 1.1 and will be removed in 1.3. To keep the past behaviour, explicitly set `max_features=1.0` or remove this parameter as it is also the default value for RandomForestRegressors and ExtraTreesRegressors.\n",
            "  warn(\n"
          ]
        },
        {
          "output_type": "stream",
          "name": "stdout",
          "text": [
            "[CV] END max_features=auto, min_samples_leaf=1, n_estimators=300; total time=  10.1s\n"
          ]
        },
        {
          "output_type": "stream",
          "name": "stderr",
          "text": [
            "/usr/local/lib/python3.10/dist-packages/sklearn/ensemble/_forest.py:413: FutureWarning: `max_features='auto'` has been deprecated in 1.1 and will be removed in 1.3. To keep the past behaviour, explicitly set `max_features=1.0` or remove this parameter as it is also the default value for RandomForestRegressors and ExtraTreesRegressors.\n",
            "  warn(\n"
          ]
        },
        {
          "output_type": "stream",
          "name": "stdout",
          "text": [
            "[CV] END max_features=auto, min_samples_leaf=1, n_estimators=300; total time=   8.4s\n"
          ]
        },
        {
          "output_type": "stream",
          "name": "stderr",
          "text": [
            "/usr/local/lib/python3.10/dist-packages/sklearn/ensemble/_forest.py:413: FutureWarning: `max_features='auto'` has been deprecated in 1.1 and will be removed in 1.3. To keep the past behaviour, explicitly set `max_features=1.0` or remove this parameter as it is also the default value for RandomForestRegressors and ExtraTreesRegressors.\n",
            "  warn(\n"
          ]
        },
        {
          "output_type": "stream",
          "name": "stdout",
          "text": [
            "[CV] END max_features=auto, min_samples_leaf=1, n_estimators=300; total time=  10.9s\n"
          ]
        },
        {
          "output_type": "stream",
          "name": "stderr",
          "text": [
            "/usr/local/lib/python3.10/dist-packages/sklearn/ensemble/_forest.py:413: FutureWarning: `max_features='auto'` has been deprecated in 1.1 and will be removed in 1.3. To keep the past behaviour, explicitly set `max_features=1.0` or remove this parameter as it is also the default value for RandomForestRegressors and ExtraTreesRegressors.\n",
            "  warn(\n"
          ]
        },
        {
          "output_type": "stream",
          "name": "stdout",
          "text": [
            "[CV] END max_features=auto, min_samples_leaf=1, n_estimators=500; total time=  15.4s\n"
          ]
        },
        {
          "output_type": "stream",
          "name": "stderr",
          "text": [
            "/usr/local/lib/python3.10/dist-packages/sklearn/ensemble/_forest.py:413: FutureWarning: `max_features='auto'` has been deprecated in 1.1 and will be removed in 1.3. To keep the past behaviour, explicitly set `max_features=1.0` or remove this parameter as it is also the default value for RandomForestRegressors and ExtraTreesRegressors.\n",
            "  warn(\n"
          ]
        },
        {
          "output_type": "stream",
          "name": "stdout",
          "text": [
            "[CV] END max_features=auto, min_samples_leaf=1, n_estimators=500; total time=  17.1s\n"
          ]
        },
        {
          "output_type": "stream",
          "name": "stderr",
          "text": [
            "/usr/local/lib/python3.10/dist-packages/sklearn/ensemble/_forest.py:413: FutureWarning: `max_features='auto'` has been deprecated in 1.1 and will be removed in 1.3. To keep the past behaviour, explicitly set `max_features=1.0` or remove this parameter as it is also the default value for RandomForestRegressors and ExtraTreesRegressors.\n",
            "  warn(\n"
          ]
        },
        {
          "output_type": "stream",
          "name": "stdout",
          "text": [
            "[CV] END max_features=auto, min_samples_leaf=1, n_estimators=500; total time=  15.5s\n"
          ]
        },
        {
          "output_type": "stream",
          "name": "stderr",
          "text": [
            "/usr/local/lib/python3.10/dist-packages/sklearn/ensemble/_forest.py:413: FutureWarning: `max_features='auto'` has been deprecated in 1.1 and will be removed in 1.3. To keep the past behaviour, explicitly set `max_features=1.0` or remove this parameter as it is also the default value for RandomForestRegressors and ExtraTreesRegressors.\n",
            "  warn(\n"
          ]
        },
        {
          "output_type": "stream",
          "name": "stdout",
          "text": [
            "[CV] END max_features=auto, min_samples_leaf=1, n_estimators=500; total time=  15.4s\n"
          ]
        },
        {
          "output_type": "stream",
          "name": "stderr",
          "text": [
            "/usr/local/lib/python3.10/dist-packages/sklearn/ensemble/_forest.py:413: FutureWarning: `max_features='auto'` has been deprecated in 1.1 and will be removed in 1.3. To keep the past behaviour, explicitly set `max_features=1.0` or remove this parameter as it is also the default value for RandomForestRegressors and ExtraTreesRegressors.\n",
            "  warn(\n"
          ]
        },
        {
          "output_type": "stream",
          "name": "stdout",
          "text": [
            "[CV] END max_features=auto, min_samples_leaf=1, n_estimators=500; total time=  15.4s\n"
          ]
        },
        {
          "output_type": "stream",
          "name": "stderr",
          "text": [
            "/usr/local/lib/python3.10/dist-packages/sklearn/ensemble/_forest.py:413: FutureWarning: `max_features='auto'` has been deprecated in 1.1 and will be removed in 1.3. To keep the past behaviour, explicitly set `max_features=1.0` or remove this parameter as it is also the default value for RandomForestRegressors and ExtraTreesRegressors.\n",
            "  warn(\n"
          ]
        },
        {
          "output_type": "stream",
          "name": "stdout",
          "text": [
            "[CV] END max_features=auto, min_samples_leaf=1, n_estimators=700; total time=  22.5s\n"
          ]
        },
        {
          "output_type": "stream",
          "name": "stderr",
          "text": [
            "/usr/local/lib/python3.10/dist-packages/sklearn/ensemble/_forest.py:413: FutureWarning: `max_features='auto'` has been deprecated in 1.1 and will be removed in 1.3. To keep the past behaviour, explicitly set `max_features=1.0` or remove this parameter as it is also the default value for RandomForestRegressors and ExtraTreesRegressors.\n",
            "  warn(\n"
          ]
        },
        {
          "output_type": "stream",
          "name": "stdout",
          "text": [
            "[CV] END max_features=auto, min_samples_leaf=1, n_estimators=700; total time=  21.4s\n"
          ]
        },
        {
          "output_type": "stream",
          "name": "stderr",
          "text": [
            "/usr/local/lib/python3.10/dist-packages/sklearn/ensemble/_forest.py:413: FutureWarning: `max_features='auto'` has been deprecated in 1.1 and will be removed in 1.3. To keep the past behaviour, explicitly set `max_features=1.0` or remove this parameter as it is also the default value for RandomForestRegressors and ExtraTreesRegressors.\n",
            "  warn(\n"
          ]
        },
        {
          "output_type": "stream",
          "name": "stdout",
          "text": [
            "[CV] END max_features=auto, min_samples_leaf=1, n_estimators=700; total time=  21.9s\n"
          ]
        },
        {
          "output_type": "stream",
          "name": "stderr",
          "text": [
            "/usr/local/lib/python3.10/dist-packages/sklearn/ensemble/_forest.py:413: FutureWarning: `max_features='auto'` has been deprecated in 1.1 and will be removed in 1.3. To keep the past behaviour, explicitly set `max_features=1.0` or remove this parameter as it is also the default value for RandomForestRegressors and ExtraTreesRegressors.\n",
            "  warn(\n"
          ]
        },
        {
          "output_type": "stream",
          "name": "stdout",
          "text": [
            "[CV] END max_features=auto, min_samples_leaf=1, n_estimators=700; total time=  22.6s\n"
          ]
        },
        {
          "output_type": "stream",
          "name": "stderr",
          "text": [
            "/usr/local/lib/python3.10/dist-packages/sklearn/ensemble/_forest.py:413: FutureWarning: `max_features='auto'` has been deprecated in 1.1 and will be removed in 1.3. To keep the past behaviour, explicitly set `max_features=1.0` or remove this parameter as it is also the default value for RandomForestRegressors and ExtraTreesRegressors.\n",
            "  warn(\n"
          ]
        },
        {
          "output_type": "stream",
          "name": "stdout",
          "text": [
            "[CV] END max_features=auto, min_samples_leaf=1, n_estimators=700; total time=  21.8s\n"
          ]
        },
        {
          "output_type": "stream",
          "name": "stderr",
          "text": [
            "/usr/local/lib/python3.10/dist-packages/sklearn/ensemble/_forest.py:413: FutureWarning: `max_features='auto'` has been deprecated in 1.1 and will be removed in 1.3. To keep the past behaviour, explicitly set `max_features=1.0` or remove this parameter as it is also the default value for RandomForestRegressors and ExtraTreesRegressors.\n",
            "  warn(\n"
          ]
        },
        {
          "output_type": "stream",
          "name": "stdout",
          "text": [
            "[CV] END max_features=auto, min_samples_leaf=3, n_estimators=10; total time=   0.6s\n"
          ]
        },
        {
          "output_type": "stream",
          "name": "stderr",
          "text": [
            "/usr/local/lib/python3.10/dist-packages/sklearn/ensemble/_forest.py:413: FutureWarning: `max_features='auto'` has been deprecated in 1.1 and will be removed in 1.3. To keep the past behaviour, explicitly set `max_features=1.0` or remove this parameter as it is also the default value for RandomForestRegressors and ExtraTreesRegressors.\n",
            "  warn(\n"
          ]
        },
        {
          "output_type": "stream",
          "name": "stdout",
          "text": [
            "[CV] END max_features=auto, min_samples_leaf=3, n_estimators=10; total time=   0.5s\n"
          ]
        },
        {
          "output_type": "stream",
          "name": "stderr",
          "text": [
            "/usr/local/lib/python3.10/dist-packages/sklearn/ensemble/_forest.py:413: FutureWarning: `max_features='auto'` has been deprecated in 1.1 and will be removed in 1.3. To keep the past behaviour, explicitly set `max_features=1.0` or remove this parameter as it is also the default value for RandomForestRegressors and ExtraTreesRegressors.\n",
            "  warn(\n"
          ]
        },
        {
          "output_type": "stream",
          "name": "stdout",
          "text": [
            "[CV] END max_features=auto, min_samples_leaf=3, n_estimators=10; total time=   0.4s\n"
          ]
        },
        {
          "output_type": "stream",
          "name": "stderr",
          "text": [
            "/usr/local/lib/python3.10/dist-packages/sklearn/ensemble/_forest.py:413: FutureWarning: `max_features='auto'` has been deprecated in 1.1 and will be removed in 1.3. To keep the past behaviour, explicitly set `max_features=1.0` or remove this parameter as it is also the default value for RandomForestRegressors and ExtraTreesRegressors.\n",
            "  warn(\n"
          ]
        },
        {
          "output_type": "stream",
          "name": "stdout",
          "text": [
            "[CV] END max_features=auto, min_samples_leaf=3, n_estimators=10; total time=   0.3s\n"
          ]
        },
        {
          "output_type": "stream",
          "name": "stderr",
          "text": [
            "/usr/local/lib/python3.10/dist-packages/sklearn/ensemble/_forest.py:413: FutureWarning: `max_features='auto'` has been deprecated in 1.1 and will be removed in 1.3. To keep the past behaviour, explicitly set `max_features=1.0` or remove this parameter as it is also the default value for RandomForestRegressors and ExtraTreesRegressors.\n",
            "  warn(\n"
          ]
        },
        {
          "output_type": "stream",
          "name": "stdout",
          "text": [
            "[CV] END max_features=auto, min_samples_leaf=3, n_estimators=10; total time=   0.3s\n"
          ]
        },
        {
          "output_type": "stream",
          "name": "stderr",
          "text": [
            "/usr/local/lib/python3.10/dist-packages/sklearn/ensemble/_forest.py:413: FutureWarning: `max_features='auto'` has been deprecated in 1.1 and will be removed in 1.3. To keep the past behaviour, explicitly set `max_features=1.0` or remove this parameter as it is also the default value for RandomForestRegressors and ExtraTreesRegressors.\n",
            "  warn(\n"
          ]
        },
        {
          "output_type": "stream",
          "name": "stdout",
          "text": [
            "[CV] END max_features=auto, min_samples_leaf=3, n_estimators=50; total time=   1.2s\n"
          ]
        },
        {
          "output_type": "stream",
          "name": "stderr",
          "text": [
            "/usr/local/lib/python3.10/dist-packages/sklearn/ensemble/_forest.py:413: FutureWarning: `max_features='auto'` has been deprecated in 1.1 and will be removed in 1.3. To keep the past behaviour, explicitly set `max_features=1.0` or remove this parameter as it is also the default value for RandomForestRegressors and ExtraTreesRegressors.\n",
            "  warn(\n"
          ]
        },
        {
          "output_type": "stream",
          "name": "stdout",
          "text": [
            "[CV] END max_features=auto, min_samples_leaf=3, n_estimators=50; total time=   1.1s\n"
          ]
        },
        {
          "output_type": "stream",
          "name": "stderr",
          "text": [
            "/usr/local/lib/python3.10/dist-packages/sklearn/ensemble/_forest.py:413: FutureWarning: `max_features='auto'` has been deprecated in 1.1 and will be removed in 1.3. To keep the past behaviour, explicitly set `max_features=1.0` or remove this parameter as it is also the default value for RandomForestRegressors and ExtraTreesRegressors.\n",
            "  warn(\n"
          ]
        },
        {
          "output_type": "stream",
          "name": "stdout",
          "text": [
            "[CV] END max_features=auto, min_samples_leaf=3, n_estimators=50; total time=   1.1s\n"
          ]
        },
        {
          "output_type": "stream",
          "name": "stderr",
          "text": [
            "/usr/local/lib/python3.10/dist-packages/sklearn/ensemble/_forest.py:413: FutureWarning: `max_features='auto'` has been deprecated in 1.1 and will be removed in 1.3. To keep the past behaviour, explicitly set `max_features=1.0` or remove this parameter as it is also the default value for RandomForestRegressors and ExtraTreesRegressors.\n",
            "  warn(\n"
          ]
        },
        {
          "output_type": "stream",
          "name": "stdout",
          "text": [
            "[CV] END max_features=auto, min_samples_leaf=3, n_estimators=50; total time=   1.1s\n"
          ]
        },
        {
          "output_type": "stream",
          "name": "stderr",
          "text": [
            "/usr/local/lib/python3.10/dist-packages/sklearn/ensemble/_forest.py:413: FutureWarning: `max_features='auto'` has been deprecated in 1.1 and will be removed in 1.3. To keep the past behaviour, explicitly set `max_features=1.0` or remove this parameter as it is also the default value for RandomForestRegressors and ExtraTreesRegressors.\n",
            "  warn(\n"
          ]
        },
        {
          "output_type": "stream",
          "name": "stdout",
          "text": [
            "[CV] END max_features=auto, min_samples_leaf=3, n_estimators=50; total time=   1.1s\n"
          ]
        },
        {
          "output_type": "stream",
          "name": "stderr",
          "text": [
            "/usr/local/lib/python3.10/dist-packages/sklearn/ensemble/_forest.py:413: FutureWarning: `max_features='auto'` has been deprecated in 1.1 and will be removed in 1.3. To keep the past behaviour, explicitly set `max_features=1.0` or remove this parameter as it is also the default value for RandomForestRegressors and ExtraTreesRegressors.\n",
            "  warn(\n"
          ]
        },
        {
          "output_type": "stream",
          "name": "stdout",
          "text": [
            "[CV] END max_features=auto, min_samples_leaf=3, n_estimators=100; total time=   2.0s\n"
          ]
        },
        {
          "output_type": "stream",
          "name": "stderr",
          "text": [
            "/usr/local/lib/python3.10/dist-packages/sklearn/ensemble/_forest.py:413: FutureWarning: `max_features='auto'` has been deprecated in 1.1 and will be removed in 1.3. To keep the past behaviour, explicitly set `max_features=1.0` or remove this parameter as it is also the default value for RandomForestRegressors and ExtraTreesRegressors.\n",
            "  warn(\n"
          ]
        },
        {
          "output_type": "stream",
          "name": "stdout",
          "text": [
            "[CV] END max_features=auto, min_samples_leaf=3, n_estimators=100; total time=   2.5s\n"
          ]
        },
        {
          "output_type": "stream",
          "name": "stderr",
          "text": [
            "/usr/local/lib/python3.10/dist-packages/sklearn/ensemble/_forest.py:413: FutureWarning: `max_features='auto'` has been deprecated in 1.1 and will be removed in 1.3. To keep the past behaviour, explicitly set `max_features=1.0` or remove this parameter as it is also the default value for RandomForestRegressors and ExtraTreesRegressors.\n",
            "  warn(\n"
          ]
        },
        {
          "output_type": "stream",
          "name": "stdout",
          "text": [
            "[CV] END max_features=auto, min_samples_leaf=3, n_estimators=100; total time=   3.1s\n"
          ]
        },
        {
          "output_type": "stream",
          "name": "stderr",
          "text": [
            "/usr/local/lib/python3.10/dist-packages/sklearn/ensemble/_forest.py:413: FutureWarning: `max_features='auto'` has been deprecated in 1.1 and will be removed in 1.3. To keep the past behaviour, explicitly set `max_features=1.0` or remove this parameter as it is also the default value for RandomForestRegressors and ExtraTreesRegressors.\n",
            "  warn(\n"
          ]
        },
        {
          "output_type": "stream",
          "name": "stdout",
          "text": [
            "[CV] END max_features=auto, min_samples_leaf=3, n_estimators=100; total time=   2.0s\n"
          ]
        },
        {
          "output_type": "stream",
          "name": "stderr",
          "text": [
            "/usr/local/lib/python3.10/dist-packages/sklearn/ensemble/_forest.py:413: FutureWarning: `max_features='auto'` has been deprecated in 1.1 and will be removed in 1.3. To keep the past behaviour, explicitly set `max_features=1.0` or remove this parameter as it is also the default value for RandomForestRegressors and ExtraTreesRegressors.\n",
            "  warn(\n"
          ]
        },
        {
          "output_type": "stream",
          "name": "stdout",
          "text": [
            "[CV] END max_features=auto, min_samples_leaf=3, n_estimators=100; total time=   2.0s\n"
          ]
        },
        {
          "output_type": "stream",
          "name": "stderr",
          "text": [
            "/usr/local/lib/python3.10/dist-packages/sklearn/ensemble/_forest.py:413: FutureWarning: `max_features='auto'` has been deprecated in 1.1 and will be removed in 1.3. To keep the past behaviour, explicitly set `max_features=1.0` or remove this parameter as it is also the default value for RandomForestRegressors and ExtraTreesRegressors.\n",
            "  warn(\n"
          ]
        },
        {
          "output_type": "stream",
          "name": "stdout",
          "text": [
            "[CV] END max_features=auto, min_samples_leaf=3, n_estimators=300; total time=   6.7s\n"
          ]
        },
        {
          "output_type": "stream",
          "name": "stderr",
          "text": [
            "/usr/local/lib/python3.10/dist-packages/sklearn/ensemble/_forest.py:413: FutureWarning: `max_features='auto'` has been deprecated in 1.1 and will be removed in 1.3. To keep the past behaviour, explicitly set `max_features=1.0` or remove this parameter as it is also the default value for RandomForestRegressors and ExtraTreesRegressors.\n",
            "  warn(\n"
          ]
        },
        {
          "output_type": "stream",
          "name": "stdout",
          "text": [
            "[CV] END max_features=auto, min_samples_leaf=3, n_estimators=300; total time=   6.5s\n"
          ]
        },
        {
          "output_type": "stream",
          "name": "stderr",
          "text": [
            "/usr/local/lib/python3.10/dist-packages/sklearn/ensemble/_forest.py:413: FutureWarning: `max_features='auto'` has been deprecated in 1.1 and will be removed in 1.3. To keep the past behaviour, explicitly set `max_features=1.0` or remove this parameter as it is also the default value for RandomForestRegressors and ExtraTreesRegressors.\n",
            "  warn(\n"
          ]
        },
        {
          "output_type": "stream",
          "name": "stdout",
          "text": [
            "[CV] END max_features=auto, min_samples_leaf=3, n_estimators=300; total time=   6.8s\n"
          ]
        },
        {
          "output_type": "stream",
          "name": "stderr",
          "text": [
            "/usr/local/lib/python3.10/dist-packages/sklearn/ensemble/_forest.py:413: FutureWarning: `max_features='auto'` has been deprecated in 1.1 and will be removed in 1.3. To keep the past behaviour, explicitly set `max_features=1.0` or remove this parameter as it is also the default value for RandomForestRegressors and ExtraTreesRegressors.\n",
            "  warn(\n"
          ]
        },
        {
          "output_type": "stream",
          "name": "stdout",
          "text": [
            "[CV] END max_features=auto, min_samples_leaf=3, n_estimators=300; total time=   6.5s\n"
          ]
        },
        {
          "output_type": "stream",
          "name": "stderr",
          "text": [
            "/usr/local/lib/python3.10/dist-packages/sklearn/ensemble/_forest.py:413: FutureWarning: `max_features='auto'` has been deprecated in 1.1 and will be removed in 1.3. To keep the past behaviour, explicitly set `max_features=1.0` or remove this parameter as it is also the default value for RandomForestRegressors and ExtraTreesRegressors.\n",
            "  warn(\n"
          ]
        },
        {
          "output_type": "stream",
          "name": "stdout",
          "text": [
            "[CV] END max_features=auto, min_samples_leaf=3, n_estimators=300; total time=   6.7s\n"
          ]
        },
        {
          "output_type": "stream",
          "name": "stderr",
          "text": [
            "/usr/local/lib/python3.10/dist-packages/sklearn/ensemble/_forest.py:413: FutureWarning: `max_features='auto'` has been deprecated in 1.1 and will be removed in 1.3. To keep the past behaviour, explicitly set `max_features=1.0` or remove this parameter as it is also the default value for RandomForestRegressors and ExtraTreesRegressors.\n",
            "  warn(\n"
          ]
        },
        {
          "output_type": "stream",
          "name": "stdout",
          "text": [
            "[CV] END max_features=auto, min_samples_leaf=3, n_estimators=500; total time=  10.1s\n"
          ]
        },
        {
          "output_type": "stream",
          "name": "stderr",
          "text": [
            "/usr/local/lib/python3.10/dist-packages/sklearn/ensemble/_forest.py:413: FutureWarning: `max_features='auto'` has been deprecated in 1.1 and will be removed in 1.3. To keep the past behaviour, explicitly set `max_features=1.0` or remove this parameter as it is also the default value for RandomForestRegressors and ExtraTreesRegressors.\n",
            "  warn(\n"
          ]
        },
        {
          "output_type": "stream",
          "name": "stdout",
          "text": [
            "[CV] END max_features=auto, min_samples_leaf=3, n_estimators=500; total time=  11.3s\n"
          ]
        },
        {
          "output_type": "stream",
          "name": "stderr",
          "text": [
            "/usr/local/lib/python3.10/dist-packages/sklearn/ensemble/_forest.py:413: FutureWarning: `max_features='auto'` has been deprecated in 1.1 and will be removed in 1.3. To keep the past behaviour, explicitly set `max_features=1.0` or remove this parameter as it is also the default value for RandomForestRegressors and ExtraTreesRegressors.\n",
            "  warn(\n"
          ]
        },
        {
          "output_type": "stream",
          "name": "stdout",
          "text": [
            "[CV] END max_features=auto, min_samples_leaf=3, n_estimators=500; total time=  11.1s\n"
          ]
        },
        {
          "output_type": "stream",
          "name": "stderr",
          "text": [
            "/usr/local/lib/python3.10/dist-packages/sklearn/ensemble/_forest.py:413: FutureWarning: `max_features='auto'` has been deprecated in 1.1 and will be removed in 1.3. To keep the past behaviour, explicitly set `max_features=1.0` or remove this parameter as it is also the default value for RandomForestRegressors and ExtraTreesRegressors.\n",
            "  warn(\n"
          ]
        },
        {
          "output_type": "stream",
          "name": "stdout",
          "text": [
            "[CV] END max_features=auto, min_samples_leaf=3, n_estimators=500; total time=  11.2s\n"
          ]
        },
        {
          "output_type": "stream",
          "name": "stderr",
          "text": [
            "/usr/local/lib/python3.10/dist-packages/sklearn/ensemble/_forest.py:413: FutureWarning: `max_features='auto'` has been deprecated in 1.1 and will be removed in 1.3. To keep the past behaviour, explicitly set `max_features=1.0` or remove this parameter as it is also the default value for RandomForestRegressors and ExtraTreesRegressors.\n",
            "  warn(\n"
          ]
        },
        {
          "output_type": "stream",
          "name": "stdout",
          "text": [
            "[CV] END max_features=auto, min_samples_leaf=3, n_estimators=500; total time=  11.3s\n"
          ]
        },
        {
          "output_type": "stream",
          "name": "stderr",
          "text": [
            "/usr/local/lib/python3.10/dist-packages/sklearn/ensemble/_forest.py:413: FutureWarning: `max_features='auto'` has been deprecated in 1.1 and will be removed in 1.3. To keep the past behaviour, explicitly set `max_features=1.0` or remove this parameter as it is also the default value for RandomForestRegressors and ExtraTreesRegressors.\n",
            "  warn(\n"
          ]
        },
        {
          "output_type": "stream",
          "name": "stdout",
          "text": [
            "[CV] END max_features=auto, min_samples_leaf=3, n_estimators=700; total time=  15.1s\n"
          ]
        },
        {
          "output_type": "stream",
          "name": "stderr",
          "text": [
            "/usr/local/lib/python3.10/dist-packages/sklearn/ensemble/_forest.py:413: FutureWarning: `max_features='auto'` has been deprecated in 1.1 and will be removed in 1.3. To keep the past behaviour, explicitly set `max_features=1.0` or remove this parameter as it is also the default value for RandomForestRegressors and ExtraTreesRegressors.\n",
            "  warn(\n"
          ]
        },
        {
          "output_type": "stream",
          "name": "stdout",
          "text": [
            "[CV] END max_features=auto, min_samples_leaf=3, n_estimators=700; total time=  15.1s\n"
          ]
        },
        {
          "output_type": "stream",
          "name": "stderr",
          "text": [
            "/usr/local/lib/python3.10/dist-packages/sklearn/ensemble/_forest.py:413: FutureWarning: `max_features='auto'` has been deprecated in 1.1 and will be removed in 1.3. To keep the past behaviour, explicitly set `max_features=1.0` or remove this parameter as it is also the default value for RandomForestRegressors and ExtraTreesRegressors.\n",
            "  warn(\n"
          ]
        },
        {
          "output_type": "stream",
          "name": "stdout",
          "text": [
            "[CV] END max_features=auto, min_samples_leaf=3, n_estimators=700; total time=  14.8s\n"
          ]
        },
        {
          "output_type": "stream",
          "name": "stderr",
          "text": [
            "/usr/local/lib/python3.10/dist-packages/sklearn/ensemble/_forest.py:413: FutureWarning: `max_features='auto'` has been deprecated in 1.1 and will be removed in 1.3. To keep the past behaviour, explicitly set `max_features=1.0` or remove this parameter as it is also the default value for RandomForestRegressors and ExtraTreesRegressors.\n",
            "  warn(\n"
          ]
        },
        {
          "output_type": "stream",
          "name": "stdout",
          "text": [
            "[CV] END max_features=auto, min_samples_leaf=3, n_estimators=700; total time=  15.1s\n"
          ]
        },
        {
          "output_type": "stream",
          "name": "stderr",
          "text": [
            "/usr/local/lib/python3.10/dist-packages/sklearn/ensemble/_forest.py:413: FutureWarning: `max_features='auto'` has been deprecated in 1.1 and will be removed in 1.3. To keep the past behaviour, explicitly set `max_features=1.0` or remove this parameter as it is also the default value for RandomForestRegressors and ExtraTreesRegressors.\n",
            "  warn(\n"
          ]
        },
        {
          "output_type": "stream",
          "name": "stdout",
          "text": [
            "[CV] END max_features=auto, min_samples_leaf=3, n_estimators=700; total time=  15.2s\n"
          ]
        },
        {
          "output_type": "stream",
          "name": "stderr",
          "text": [
            "/usr/local/lib/python3.10/dist-packages/sklearn/ensemble/_forest.py:413: FutureWarning: `max_features='auto'` has been deprecated in 1.1 and will be removed in 1.3. To keep the past behaviour, explicitly set `max_features=1.0` or remove this parameter as it is also the default value for RandomForestRegressors and ExtraTreesRegressors.\n",
            "  warn(\n"
          ]
        },
        {
          "output_type": "stream",
          "name": "stdout",
          "text": [
            "[CV] END max_features=auto, min_samples_leaf=5, n_estimators=10; total time=   0.5s\n"
          ]
        },
        {
          "output_type": "stream",
          "name": "stderr",
          "text": [
            "/usr/local/lib/python3.10/dist-packages/sklearn/ensemble/_forest.py:413: FutureWarning: `max_features='auto'` has been deprecated in 1.1 and will be removed in 1.3. To keep the past behaviour, explicitly set `max_features=1.0` or remove this parameter as it is also the default value for RandomForestRegressors and ExtraTreesRegressors.\n",
            "  warn(\n"
          ]
        },
        {
          "output_type": "stream",
          "name": "stdout",
          "text": [
            "[CV] END max_features=auto, min_samples_leaf=5, n_estimators=10; total time=   0.4s\n"
          ]
        },
        {
          "output_type": "stream",
          "name": "stderr",
          "text": [
            "/usr/local/lib/python3.10/dist-packages/sklearn/ensemble/_forest.py:413: FutureWarning: `max_features='auto'` has been deprecated in 1.1 and will be removed in 1.3. To keep the past behaviour, explicitly set `max_features=1.0` or remove this parameter as it is also the default value for RandomForestRegressors and ExtraTreesRegressors.\n",
            "  warn(\n"
          ]
        },
        {
          "output_type": "stream",
          "name": "stdout",
          "text": [
            "[CV] END max_features=auto, min_samples_leaf=5, n_estimators=10; total time=   0.5s\n"
          ]
        },
        {
          "output_type": "stream",
          "name": "stderr",
          "text": [
            "/usr/local/lib/python3.10/dist-packages/sklearn/ensemble/_forest.py:413: FutureWarning: `max_features='auto'` has been deprecated in 1.1 and will be removed in 1.3. To keep the past behaviour, explicitly set `max_features=1.0` or remove this parameter as it is also the default value for RandomForestRegressors and ExtraTreesRegressors.\n",
            "  warn(\n"
          ]
        },
        {
          "output_type": "stream",
          "name": "stdout",
          "text": [
            "[CV] END max_features=auto, min_samples_leaf=5, n_estimators=10; total time=   0.5s\n"
          ]
        },
        {
          "output_type": "stream",
          "name": "stderr",
          "text": [
            "/usr/local/lib/python3.10/dist-packages/sklearn/ensemble/_forest.py:413: FutureWarning: `max_features='auto'` has been deprecated in 1.1 and will be removed in 1.3. To keep the past behaviour, explicitly set `max_features=1.0` or remove this parameter as it is also the default value for RandomForestRegressors and ExtraTreesRegressors.\n",
            "  warn(\n"
          ]
        },
        {
          "output_type": "stream",
          "name": "stdout",
          "text": [
            "[CV] END max_features=auto, min_samples_leaf=5, n_estimators=10; total time=   0.4s\n"
          ]
        },
        {
          "output_type": "stream",
          "name": "stderr",
          "text": [
            "/usr/local/lib/python3.10/dist-packages/sklearn/ensemble/_forest.py:413: FutureWarning: `max_features='auto'` has been deprecated in 1.1 and will be removed in 1.3. To keep the past behaviour, explicitly set `max_features=1.0` or remove this parameter as it is also the default value for RandomForestRegressors and ExtraTreesRegressors.\n",
            "  warn(\n"
          ]
        },
        {
          "output_type": "stream",
          "name": "stdout",
          "text": [
            "[CV] END max_features=auto, min_samples_leaf=5, n_estimators=50; total time=   1.0s\n"
          ]
        },
        {
          "output_type": "stream",
          "name": "stderr",
          "text": [
            "/usr/local/lib/python3.10/dist-packages/sklearn/ensemble/_forest.py:413: FutureWarning: `max_features='auto'` has been deprecated in 1.1 and will be removed in 1.3. To keep the past behaviour, explicitly set `max_features=1.0` or remove this parameter as it is also the default value for RandomForestRegressors and ExtraTreesRegressors.\n",
            "  warn(\n"
          ]
        },
        {
          "output_type": "stream",
          "name": "stdout",
          "text": [
            "[CV] END max_features=auto, min_samples_leaf=5, n_estimators=50; total time=   1.0s\n"
          ]
        },
        {
          "output_type": "stream",
          "name": "stderr",
          "text": [
            "/usr/local/lib/python3.10/dist-packages/sklearn/ensemble/_forest.py:413: FutureWarning: `max_features='auto'` has been deprecated in 1.1 and will be removed in 1.3. To keep the past behaviour, explicitly set `max_features=1.0` or remove this parameter as it is also the default value for RandomForestRegressors and ExtraTreesRegressors.\n",
            "  warn(\n"
          ]
        },
        {
          "output_type": "stream",
          "name": "stdout",
          "text": [
            "[CV] END max_features=auto, min_samples_leaf=5, n_estimators=50; total time=   0.9s\n"
          ]
        },
        {
          "output_type": "stream",
          "name": "stderr",
          "text": [
            "/usr/local/lib/python3.10/dist-packages/sklearn/ensemble/_forest.py:413: FutureWarning: `max_features='auto'` has been deprecated in 1.1 and will be removed in 1.3. To keep the past behaviour, explicitly set `max_features=1.0` or remove this parameter as it is also the default value for RandomForestRegressors and ExtraTreesRegressors.\n",
            "  warn(\n"
          ]
        },
        {
          "output_type": "stream",
          "name": "stdout",
          "text": [
            "[CV] END max_features=auto, min_samples_leaf=5, n_estimators=50; total time=   1.0s\n"
          ]
        },
        {
          "output_type": "stream",
          "name": "stderr",
          "text": [
            "/usr/local/lib/python3.10/dist-packages/sklearn/ensemble/_forest.py:413: FutureWarning: `max_features='auto'` has been deprecated in 1.1 and will be removed in 1.3. To keep the past behaviour, explicitly set `max_features=1.0` or remove this parameter as it is also the default value for RandomForestRegressors and ExtraTreesRegressors.\n",
            "  warn(\n"
          ]
        },
        {
          "output_type": "stream",
          "name": "stdout",
          "text": [
            "[CV] END max_features=auto, min_samples_leaf=5, n_estimators=50; total time=   1.0s\n"
          ]
        },
        {
          "output_type": "stream",
          "name": "stderr",
          "text": [
            "/usr/local/lib/python3.10/dist-packages/sklearn/ensemble/_forest.py:413: FutureWarning: `max_features='auto'` has been deprecated in 1.1 and will be removed in 1.3. To keep the past behaviour, explicitly set `max_features=1.0` or remove this parameter as it is also the default value for RandomForestRegressors and ExtraTreesRegressors.\n",
            "  warn(\n"
          ]
        },
        {
          "output_type": "stream",
          "name": "stdout",
          "text": [
            "[CV] END max_features=auto, min_samples_leaf=5, n_estimators=100; total time=   1.8s\n"
          ]
        },
        {
          "output_type": "stream",
          "name": "stderr",
          "text": [
            "/usr/local/lib/python3.10/dist-packages/sklearn/ensemble/_forest.py:413: FutureWarning: `max_features='auto'` has been deprecated in 1.1 and will be removed in 1.3. To keep the past behaviour, explicitly set `max_features=1.0` or remove this parameter as it is also the default value for RandomForestRegressors and ExtraTreesRegressors.\n",
            "  warn(\n"
          ]
        },
        {
          "output_type": "stream",
          "name": "stdout",
          "text": [
            "[CV] END max_features=auto, min_samples_leaf=5, n_estimators=100; total time=   1.9s\n"
          ]
        },
        {
          "output_type": "stream",
          "name": "stderr",
          "text": [
            "/usr/local/lib/python3.10/dist-packages/sklearn/ensemble/_forest.py:413: FutureWarning: `max_features='auto'` has been deprecated in 1.1 and will be removed in 1.3. To keep the past behaviour, explicitly set `max_features=1.0` or remove this parameter as it is also the default value for RandomForestRegressors and ExtraTreesRegressors.\n",
            "  warn(\n"
          ]
        },
        {
          "output_type": "stream",
          "name": "stdout",
          "text": [
            "[CV] END max_features=auto, min_samples_leaf=5, n_estimators=100; total time=   2.0s\n"
          ]
        },
        {
          "output_type": "stream",
          "name": "stderr",
          "text": [
            "/usr/local/lib/python3.10/dist-packages/sklearn/ensemble/_forest.py:413: FutureWarning: `max_features='auto'` has been deprecated in 1.1 and will be removed in 1.3. To keep the past behaviour, explicitly set `max_features=1.0` or remove this parameter as it is also the default value for RandomForestRegressors and ExtraTreesRegressors.\n",
            "  warn(\n"
          ]
        },
        {
          "output_type": "stream",
          "name": "stdout",
          "text": [
            "[CV] END max_features=auto, min_samples_leaf=5, n_estimators=100; total time=   3.0s\n"
          ]
        },
        {
          "output_type": "stream",
          "name": "stderr",
          "text": [
            "/usr/local/lib/python3.10/dist-packages/sklearn/ensemble/_forest.py:413: FutureWarning: `max_features='auto'` has been deprecated in 1.1 and will be removed in 1.3. To keep the past behaviour, explicitly set `max_features=1.0` or remove this parameter as it is also the default value for RandomForestRegressors and ExtraTreesRegressors.\n",
            "  warn(\n"
          ]
        },
        {
          "output_type": "stream",
          "name": "stdout",
          "text": [
            "[CV] END max_features=auto, min_samples_leaf=5, n_estimators=100; total time=   1.8s\n"
          ]
        },
        {
          "output_type": "stream",
          "name": "stderr",
          "text": [
            "/usr/local/lib/python3.10/dist-packages/sklearn/ensemble/_forest.py:413: FutureWarning: `max_features='auto'` has been deprecated in 1.1 and will be removed in 1.3. To keep the past behaviour, explicitly set `max_features=1.0` or remove this parameter as it is also the default value for RandomForestRegressors and ExtraTreesRegressors.\n",
            "  warn(\n"
          ]
        },
        {
          "output_type": "stream",
          "name": "stdout",
          "text": [
            "[CV] END max_features=auto, min_samples_leaf=5, n_estimators=300; total time=   5.0s\n"
          ]
        },
        {
          "output_type": "stream",
          "name": "stderr",
          "text": [
            "/usr/local/lib/python3.10/dist-packages/sklearn/ensemble/_forest.py:413: FutureWarning: `max_features='auto'` has been deprecated in 1.1 and will be removed in 1.3. To keep the past behaviour, explicitly set `max_features=1.0` or remove this parameter as it is also the default value for RandomForestRegressors and ExtraTreesRegressors.\n",
            "  warn(\n"
          ]
        },
        {
          "output_type": "stream",
          "name": "stdout",
          "text": [
            "[CV] END max_features=auto, min_samples_leaf=5, n_estimators=300; total time=   6.7s\n"
          ]
        },
        {
          "output_type": "stream",
          "name": "stderr",
          "text": [
            "/usr/local/lib/python3.10/dist-packages/sklearn/ensemble/_forest.py:413: FutureWarning: `max_features='auto'` has been deprecated in 1.1 and will be removed in 1.3. To keep the past behaviour, explicitly set `max_features=1.0` or remove this parameter as it is also the default value for RandomForestRegressors and ExtraTreesRegressors.\n",
            "  warn(\n"
          ]
        },
        {
          "output_type": "stream",
          "name": "stdout",
          "text": [
            "[CV] END max_features=auto, min_samples_leaf=5, n_estimators=300; total time=   5.0s\n"
          ]
        },
        {
          "output_type": "stream",
          "name": "stderr",
          "text": [
            "/usr/local/lib/python3.10/dist-packages/sklearn/ensemble/_forest.py:413: FutureWarning: `max_features='auto'` has been deprecated in 1.1 and will be removed in 1.3. To keep the past behaviour, explicitly set `max_features=1.0` or remove this parameter as it is also the default value for RandomForestRegressors and ExtraTreesRegressors.\n",
            "  warn(\n"
          ]
        },
        {
          "output_type": "stream",
          "name": "stdout",
          "text": [
            "[CV] END max_features=auto, min_samples_leaf=5, n_estimators=300; total time=   5.4s\n"
          ]
        },
        {
          "output_type": "stream",
          "name": "stderr",
          "text": [
            "/usr/local/lib/python3.10/dist-packages/sklearn/ensemble/_forest.py:413: FutureWarning: `max_features='auto'` has been deprecated in 1.1 and will be removed in 1.3. To keep the past behaviour, explicitly set `max_features=1.0` or remove this parameter as it is also the default value for RandomForestRegressors and ExtraTreesRegressors.\n",
            "  warn(\n"
          ]
        },
        {
          "output_type": "stream",
          "name": "stdout",
          "text": [
            "[CV] END max_features=auto, min_samples_leaf=5, n_estimators=300; total time=   6.0s\n"
          ]
        },
        {
          "output_type": "stream",
          "name": "stderr",
          "text": [
            "/usr/local/lib/python3.10/dist-packages/sklearn/ensemble/_forest.py:413: FutureWarning: `max_features='auto'` has been deprecated in 1.1 and will be removed in 1.3. To keep the past behaviour, explicitly set `max_features=1.0` or remove this parameter as it is also the default value for RandomForestRegressors and ExtraTreesRegressors.\n",
            "  warn(\n"
          ]
        },
        {
          "output_type": "stream",
          "name": "stdout",
          "text": [
            "[CV] END max_features=auto, min_samples_leaf=5, n_estimators=500; total time=   9.9s\n"
          ]
        },
        {
          "output_type": "stream",
          "name": "stderr",
          "text": [
            "/usr/local/lib/python3.10/dist-packages/sklearn/ensemble/_forest.py:413: FutureWarning: `max_features='auto'` has been deprecated in 1.1 and will be removed in 1.3. To keep the past behaviour, explicitly set `max_features=1.0` or remove this parameter as it is also the default value for RandomForestRegressors and ExtraTreesRegressors.\n",
            "  warn(\n"
          ]
        },
        {
          "output_type": "stream",
          "name": "stdout",
          "text": [
            "[CV] END max_features=auto, min_samples_leaf=5, n_estimators=500; total time=   8.4s\n"
          ]
        },
        {
          "output_type": "stream",
          "name": "stderr",
          "text": [
            "/usr/local/lib/python3.10/dist-packages/sklearn/ensemble/_forest.py:413: FutureWarning: `max_features='auto'` has been deprecated in 1.1 and will be removed in 1.3. To keep the past behaviour, explicitly set `max_features=1.0` or remove this parameter as it is also the default value for RandomForestRegressors and ExtraTreesRegressors.\n",
            "  warn(\n"
          ]
        },
        {
          "output_type": "stream",
          "name": "stdout",
          "text": [
            "[CV] END max_features=auto, min_samples_leaf=5, n_estimators=500; total time=   9.9s\n"
          ]
        },
        {
          "output_type": "stream",
          "name": "stderr",
          "text": [
            "/usr/local/lib/python3.10/dist-packages/sklearn/ensemble/_forest.py:413: FutureWarning: `max_features='auto'` has been deprecated in 1.1 and will be removed in 1.3. To keep the past behaviour, explicitly set `max_features=1.0` or remove this parameter as it is also the default value for RandomForestRegressors and ExtraTreesRegressors.\n",
            "  warn(\n"
          ]
        },
        {
          "output_type": "stream",
          "name": "stdout",
          "text": [
            "[CV] END max_features=auto, min_samples_leaf=5, n_estimators=500; total time=   9.9s\n"
          ]
        },
        {
          "output_type": "stream",
          "name": "stderr",
          "text": [
            "/usr/local/lib/python3.10/dist-packages/sklearn/ensemble/_forest.py:413: FutureWarning: `max_features='auto'` has been deprecated in 1.1 and will be removed in 1.3. To keep the past behaviour, explicitly set `max_features=1.0` or remove this parameter as it is also the default value for RandomForestRegressors and ExtraTreesRegressors.\n",
            "  warn(\n"
          ]
        },
        {
          "output_type": "stream",
          "name": "stdout",
          "text": [
            "[CV] END max_features=auto, min_samples_leaf=5, n_estimators=500; total time=   8.3s\n"
          ]
        },
        {
          "output_type": "stream",
          "name": "stderr",
          "text": [
            "/usr/local/lib/python3.10/dist-packages/sklearn/ensemble/_forest.py:413: FutureWarning: `max_features='auto'` has been deprecated in 1.1 and will be removed in 1.3. To keep the past behaviour, explicitly set `max_features=1.0` or remove this parameter as it is also the default value for RandomForestRegressors and ExtraTreesRegressors.\n",
            "  warn(\n"
          ]
        },
        {
          "output_type": "stream",
          "name": "stdout",
          "text": [
            "[CV] END max_features=auto, min_samples_leaf=5, n_estimators=700; total time=  12.9s\n"
          ]
        },
        {
          "output_type": "stream",
          "name": "stderr",
          "text": [
            "/usr/local/lib/python3.10/dist-packages/sklearn/ensemble/_forest.py:413: FutureWarning: `max_features='auto'` has been deprecated in 1.1 and will be removed in 1.3. To keep the past behaviour, explicitly set `max_features=1.0` or remove this parameter as it is also the default value for RandomForestRegressors and ExtraTreesRegressors.\n",
            "  warn(\n"
          ]
        },
        {
          "output_type": "stream",
          "name": "stdout",
          "text": [
            "[CV] END max_features=auto, min_samples_leaf=5, n_estimators=700; total time=  13.2s\n"
          ]
        },
        {
          "output_type": "stream",
          "name": "stderr",
          "text": [
            "/usr/local/lib/python3.10/dist-packages/sklearn/ensemble/_forest.py:413: FutureWarning: `max_features='auto'` has been deprecated in 1.1 and will be removed in 1.3. To keep the past behaviour, explicitly set `max_features=1.0` or remove this parameter as it is also the default value for RandomForestRegressors and ExtraTreesRegressors.\n",
            "  warn(\n"
          ]
        },
        {
          "output_type": "stream",
          "name": "stdout",
          "text": [
            "[CV] END max_features=auto, min_samples_leaf=5, n_estimators=700; total time=  13.0s\n"
          ]
        },
        {
          "output_type": "stream",
          "name": "stderr",
          "text": [
            "/usr/local/lib/python3.10/dist-packages/sklearn/ensemble/_forest.py:413: FutureWarning: `max_features='auto'` has been deprecated in 1.1 and will be removed in 1.3. To keep the past behaviour, explicitly set `max_features=1.0` or remove this parameter as it is also the default value for RandomForestRegressors and ExtraTreesRegressors.\n",
            "  warn(\n"
          ]
        },
        {
          "output_type": "stream",
          "name": "stdout",
          "text": [
            "[CV] END max_features=auto, min_samples_leaf=5, n_estimators=700; total time=  13.1s\n"
          ]
        },
        {
          "output_type": "stream",
          "name": "stderr",
          "text": [
            "/usr/local/lib/python3.10/dist-packages/sklearn/ensemble/_forest.py:413: FutureWarning: `max_features='auto'` has been deprecated in 1.1 and will be removed in 1.3. To keep the past behaviour, explicitly set `max_features=1.0` or remove this parameter as it is also the default value for RandomForestRegressors and ExtraTreesRegressors.\n",
            "  warn(\n"
          ]
        },
        {
          "output_type": "stream",
          "name": "stdout",
          "text": [
            "[CV] END max_features=auto, min_samples_leaf=5, n_estimators=700; total time=  12.9s\n"
          ]
        },
        {
          "output_type": "stream",
          "name": "stderr",
          "text": [
            "/usr/local/lib/python3.10/dist-packages/sklearn/ensemble/_forest.py:413: FutureWarning: `max_features='auto'` has been deprecated in 1.1 and will be removed in 1.3. To keep the past behaviour, explicitly set `max_features=1.0` or remove this parameter as it is also the default value for RandomForestRegressors and ExtraTreesRegressors.\n",
            "  warn(\n"
          ]
        },
        {
          "output_type": "stream",
          "name": "stdout",
          "text": [
            "[CV] END max_features=auto, min_samples_leaf=10, n_estimators=10; total time=   0.4s\n"
          ]
        },
        {
          "output_type": "stream",
          "name": "stderr",
          "text": [
            "/usr/local/lib/python3.10/dist-packages/sklearn/ensemble/_forest.py:413: FutureWarning: `max_features='auto'` has been deprecated in 1.1 and will be removed in 1.3. To keep the past behaviour, explicitly set `max_features=1.0` or remove this parameter as it is also the default value for RandomForestRegressors and ExtraTreesRegressors.\n",
            "  warn(\n"
          ]
        },
        {
          "output_type": "stream",
          "name": "stdout",
          "text": [
            "[CV] END max_features=auto, min_samples_leaf=10, n_estimators=10; total time=   0.6s\n"
          ]
        },
        {
          "output_type": "stream",
          "name": "stderr",
          "text": [
            "/usr/local/lib/python3.10/dist-packages/sklearn/ensemble/_forest.py:413: FutureWarning: `max_features='auto'` has been deprecated in 1.1 and will be removed in 1.3. To keep the past behaviour, explicitly set `max_features=1.0` or remove this parameter as it is also the default value for RandomForestRegressors and ExtraTreesRegressors.\n",
            "  warn(\n"
          ]
        },
        {
          "output_type": "stream",
          "name": "stdout",
          "text": [
            "[CV] END max_features=auto, min_samples_leaf=10, n_estimators=10; total time=   0.5s\n"
          ]
        },
        {
          "output_type": "stream",
          "name": "stderr",
          "text": [
            "/usr/local/lib/python3.10/dist-packages/sklearn/ensemble/_forest.py:413: FutureWarning: `max_features='auto'` has been deprecated in 1.1 and will be removed in 1.3. To keep the past behaviour, explicitly set `max_features=1.0` or remove this parameter as it is also the default value for RandomForestRegressors and ExtraTreesRegressors.\n",
            "  warn(\n"
          ]
        },
        {
          "output_type": "stream",
          "name": "stdout",
          "text": [
            "[CV] END max_features=auto, min_samples_leaf=10, n_estimators=10; total time=   0.4s\n"
          ]
        },
        {
          "output_type": "stream",
          "name": "stderr",
          "text": [
            "/usr/local/lib/python3.10/dist-packages/sklearn/ensemble/_forest.py:413: FutureWarning: `max_features='auto'` has been deprecated in 1.1 and will be removed in 1.3. To keep the past behaviour, explicitly set `max_features=1.0` or remove this parameter as it is also the default value for RandomForestRegressors and ExtraTreesRegressors.\n",
            "  warn(\n"
          ]
        },
        {
          "output_type": "stream",
          "name": "stdout",
          "text": [
            "[CV] END max_features=auto, min_samples_leaf=10, n_estimators=10; total time=   0.4s\n"
          ]
        },
        {
          "output_type": "stream",
          "name": "stderr",
          "text": [
            "/usr/local/lib/python3.10/dist-packages/sklearn/ensemble/_forest.py:413: FutureWarning: `max_features='auto'` has been deprecated in 1.1 and will be removed in 1.3. To keep the past behaviour, explicitly set `max_features=1.0` or remove this parameter as it is also the default value for RandomForestRegressors and ExtraTreesRegressors.\n",
            "  warn(\n"
          ]
        },
        {
          "output_type": "stream",
          "name": "stdout",
          "text": [
            "[CV] END max_features=auto, min_samples_leaf=10, n_estimators=50; total time=   0.8s\n"
          ]
        },
        {
          "output_type": "stream",
          "name": "stderr",
          "text": [
            "/usr/local/lib/python3.10/dist-packages/sklearn/ensemble/_forest.py:413: FutureWarning: `max_features='auto'` has been deprecated in 1.1 and will be removed in 1.3. To keep the past behaviour, explicitly set `max_features=1.0` or remove this parameter as it is also the default value for RandomForestRegressors and ExtraTreesRegressors.\n",
            "  warn(\n"
          ]
        },
        {
          "output_type": "stream",
          "name": "stdout",
          "text": [
            "[CV] END max_features=auto, min_samples_leaf=10, n_estimators=50; total time=   0.9s\n"
          ]
        },
        {
          "output_type": "stream",
          "name": "stderr",
          "text": [
            "/usr/local/lib/python3.10/dist-packages/sklearn/ensemble/_forest.py:413: FutureWarning: `max_features='auto'` has been deprecated in 1.1 and will be removed in 1.3. To keep the past behaviour, explicitly set `max_features=1.0` or remove this parameter as it is also the default value for RandomForestRegressors and ExtraTreesRegressors.\n",
            "  warn(\n"
          ]
        },
        {
          "output_type": "stream",
          "name": "stdout",
          "text": [
            "[CV] END max_features=auto, min_samples_leaf=10, n_estimators=50; total time=   0.8s\n"
          ]
        },
        {
          "output_type": "stream",
          "name": "stderr",
          "text": [
            "/usr/local/lib/python3.10/dist-packages/sklearn/ensemble/_forest.py:413: FutureWarning: `max_features='auto'` has been deprecated in 1.1 and will be removed in 1.3. To keep the past behaviour, explicitly set `max_features=1.0` or remove this parameter as it is also the default value for RandomForestRegressors and ExtraTreesRegressors.\n",
            "  warn(\n"
          ]
        },
        {
          "output_type": "stream",
          "name": "stdout",
          "text": [
            "[CV] END max_features=auto, min_samples_leaf=10, n_estimators=50; total time=   0.8s\n"
          ]
        },
        {
          "output_type": "stream",
          "name": "stderr",
          "text": [
            "/usr/local/lib/python3.10/dist-packages/sklearn/ensemble/_forest.py:413: FutureWarning: `max_features='auto'` has been deprecated in 1.1 and will be removed in 1.3. To keep the past behaviour, explicitly set `max_features=1.0` or remove this parameter as it is also the default value for RandomForestRegressors and ExtraTreesRegressors.\n",
            "  warn(\n"
          ]
        },
        {
          "output_type": "stream",
          "name": "stdout",
          "text": [
            "[CV] END max_features=auto, min_samples_leaf=10, n_estimators=50; total time=   0.8s\n"
          ]
        },
        {
          "output_type": "stream",
          "name": "stderr",
          "text": [
            "/usr/local/lib/python3.10/dist-packages/sklearn/ensemble/_forest.py:413: FutureWarning: `max_features='auto'` has been deprecated in 1.1 and will be removed in 1.3. To keep the past behaviour, explicitly set `max_features=1.0` or remove this parameter as it is also the default value for RandomForestRegressors and ExtraTreesRegressors.\n",
            "  warn(\n"
          ]
        },
        {
          "output_type": "stream",
          "name": "stdout",
          "text": [
            "[CV] END max_features=auto, min_samples_leaf=10, n_estimators=100; total time=   1.5s\n"
          ]
        },
        {
          "output_type": "stream",
          "name": "stderr",
          "text": [
            "/usr/local/lib/python3.10/dist-packages/sklearn/ensemble/_forest.py:413: FutureWarning: `max_features='auto'` has been deprecated in 1.1 and will be removed in 1.3. To keep the past behaviour, explicitly set `max_features=1.0` or remove this parameter as it is also the default value for RandomForestRegressors and ExtraTreesRegressors.\n",
            "  warn(\n"
          ]
        },
        {
          "output_type": "stream",
          "name": "stdout",
          "text": [
            "[CV] END max_features=auto, min_samples_leaf=10, n_estimators=100; total time=   1.6s\n"
          ]
        },
        {
          "output_type": "stream",
          "name": "stderr",
          "text": [
            "/usr/local/lib/python3.10/dist-packages/sklearn/ensemble/_forest.py:413: FutureWarning: `max_features='auto'` has been deprecated in 1.1 and will be removed in 1.3. To keep the past behaviour, explicitly set `max_features=1.0` or remove this parameter as it is also the default value for RandomForestRegressors and ExtraTreesRegressors.\n",
            "  warn(\n"
          ]
        },
        {
          "output_type": "stream",
          "name": "stdout",
          "text": [
            "[CV] END max_features=auto, min_samples_leaf=10, n_estimators=100; total time=   1.5s\n"
          ]
        },
        {
          "output_type": "stream",
          "name": "stderr",
          "text": [
            "/usr/local/lib/python3.10/dist-packages/sklearn/ensemble/_forest.py:413: FutureWarning: `max_features='auto'` has been deprecated in 1.1 and will be removed in 1.3. To keep the past behaviour, explicitly set `max_features=1.0` or remove this parameter as it is also the default value for RandomForestRegressors and ExtraTreesRegressors.\n",
            "  warn(\n"
          ]
        },
        {
          "output_type": "stream",
          "name": "stdout",
          "text": [
            "[CV] END max_features=auto, min_samples_leaf=10, n_estimators=100; total time=   1.7s\n"
          ]
        },
        {
          "output_type": "stream",
          "name": "stderr",
          "text": [
            "/usr/local/lib/python3.10/dist-packages/sklearn/ensemble/_forest.py:413: FutureWarning: `max_features='auto'` has been deprecated in 1.1 and will be removed in 1.3. To keep the past behaviour, explicitly set `max_features=1.0` or remove this parameter as it is also the default value for RandomForestRegressors and ExtraTreesRegressors.\n",
            "  warn(\n"
          ]
        },
        {
          "output_type": "stream",
          "name": "stdout",
          "text": [
            "[CV] END max_features=auto, min_samples_leaf=10, n_estimators=100; total time=   2.8s\n"
          ]
        },
        {
          "output_type": "stream",
          "name": "stderr",
          "text": [
            "/usr/local/lib/python3.10/dist-packages/sklearn/ensemble/_forest.py:413: FutureWarning: `max_features='auto'` has been deprecated in 1.1 and will be removed in 1.3. To keep the past behaviour, explicitly set `max_features=1.0` or remove this parameter as it is also the default value for RandomForestRegressors and ExtraTreesRegressors.\n",
            "  warn(\n"
          ]
        },
        {
          "output_type": "stream",
          "name": "stdout",
          "text": [
            "[CV] END max_features=auto, min_samples_leaf=10, n_estimators=300; total time=   4.2s\n"
          ]
        },
        {
          "output_type": "stream",
          "name": "stderr",
          "text": [
            "/usr/local/lib/python3.10/dist-packages/sklearn/ensemble/_forest.py:413: FutureWarning: `max_features='auto'` has been deprecated in 1.1 and will be removed in 1.3. To keep the past behaviour, explicitly set `max_features=1.0` or remove this parameter as it is also the default value for RandomForestRegressors and ExtraTreesRegressors.\n",
            "  warn(\n"
          ]
        },
        {
          "output_type": "stream",
          "name": "stdout",
          "text": [
            "[CV] END max_features=auto, min_samples_leaf=10, n_estimators=300; total time=   4.3s\n"
          ]
        },
        {
          "output_type": "stream",
          "name": "stderr",
          "text": [
            "/usr/local/lib/python3.10/dist-packages/sklearn/ensemble/_forest.py:413: FutureWarning: `max_features='auto'` has been deprecated in 1.1 and will be removed in 1.3. To keep the past behaviour, explicitly set `max_features=1.0` or remove this parameter as it is also the default value for RandomForestRegressors and ExtraTreesRegressors.\n",
            "  warn(\n"
          ]
        },
        {
          "output_type": "stream",
          "name": "stdout",
          "text": [
            "[CV] END max_features=auto, min_samples_leaf=10, n_estimators=300; total time=   6.0s\n"
          ]
        },
        {
          "output_type": "stream",
          "name": "stderr",
          "text": [
            "/usr/local/lib/python3.10/dist-packages/sklearn/ensemble/_forest.py:413: FutureWarning: `max_features='auto'` has been deprecated in 1.1 and will be removed in 1.3. To keep the past behaviour, explicitly set `max_features=1.0` or remove this parameter as it is also the default value for RandomForestRegressors and ExtraTreesRegressors.\n",
            "  warn(\n"
          ]
        },
        {
          "output_type": "stream",
          "name": "stdout",
          "text": [
            "[CV] END max_features=auto, min_samples_leaf=10, n_estimators=300; total time=   4.3s\n"
          ]
        },
        {
          "output_type": "stream",
          "name": "stderr",
          "text": [
            "/usr/local/lib/python3.10/dist-packages/sklearn/ensemble/_forest.py:413: FutureWarning: `max_features='auto'` has been deprecated in 1.1 and will be removed in 1.3. To keep the past behaviour, explicitly set `max_features=1.0` or remove this parameter as it is also the default value for RandomForestRegressors and ExtraTreesRegressors.\n",
            "  warn(\n"
          ]
        },
        {
          "output_type": "stream",
          "name": "stdout",
          "text": [
            "[CV] END max_features=auto, min_samples_leaf=10, n_estimators=300; total time=   4.2s\n"
          ]
        },
        {
          "output_type": "stream",
          "name": "stderr",
          "text": [
            "/usr/local/lib/python3.10/dist-packages/sklearn/ensemble/_forest.py:413: FutureWarning: `max_features='auto'` has been deprecated in 1.1 and will be removed in 1.3. To keep the past behaviour, explicitly set `max_features=1.0` or remove this parameter as it is also the default value for RandomForestRegressors and ExtraTreesRegressors.\n",
            "  warn(\n"
          ]
        },
        {
          "output_type": "stream",
          "name": "stdout",
          "text": [
            "[CV] END max_features=auto, min_samples_leaf=10, n_estimators=500; total time=   8.6s\n"
          ]
        },
        {
          "output_type": "stream",
          "name": "stderr",
          "text": [
            "/usr/local/lib/python3.10/dist-packages/sklearn/ensemble/_forest.py:413: FutureWarning: `max_features='auto'` has been deprecated in 1.1 and will be removed in 1.3. To keep the past behaviour, explicitly set `max_features=1.0` or remove this parameter as it is also the default value for RandomForestRegressors and ExtraTreesRegressors.\n",
            "  warn(\n"
          ]
        },
        {
          "output_type": "stream",
          "name": "stdout",
          "text": [
            "[CV] END max_features=auto, min_samples_leaf=10, n_estimators=500; total time=   8.7s\n"
          ]
        },
        {
          "output_type": "stream",
          "name": "stderr",
          "text": [
            "/usr/local/lib/python3.10/dist-packages/sklearn/ensemble/_forest.py:413: FutureWarning: `max_features='auto'` has been deprecated in 1.1 and will be removed in 1.3. To keep the past behaviour, explicitly set `max_features=1.0` or remove this parameter as it is also the default value for RandomForestRegressors and ExtraTreesRegressors.\n",
            "  warn(\n"
          ]
        },
        {
          "output_type": "stream",
          "name": "stdout",
          "text": [
            "[CV] END max_features=auto, min_samples_leaf=10, n_estimators=500; total time=   7.1s\n"
          ]
        },
        {
          "output_type": "stream",
          "name": "stderr",
          "text": [
            "/usr/local/lib/python3.10/dist-packages/sklearn/ensemble/_forest.py:413: FutureWarning: `max_features='auto'` has been deprecated in 1.1 and will be removed in 1.3. To keep the past behaviour, explicitly set `max_features=1.0` or remove this parameter as it is also the default value for RandomForestRegressors and ExtraTreesRegressors.\n",
            "  warn(\n"
          ]
        },
        {
          "output_type": "stream",
          "name": "stdout",
          "text": [
            "[CV] END max_features=auto, min_samples_leaf=10, n_estimators=500; total time=   8.5s\n"
          ]
        },
        {
          "output_type": "stream",
          "name": "stderr",
          "text": [
            "/usr/local/lib/python3.10/dist-packages/sklearn/ensemble/_forest.py:413: FutureWarning: `max_features='auto'` has been deprecated in 1.1 and will be removed in 1.3. To keep the past behaviour, explicitly set `max_features=1.0` or remove this parameter as it is also the default value for RandomForestRegressors and ExtraTreesRegressors.\n",
            "  warn(\n"
          ]
        },
        {
          "output_type": "stream",
          "name": "stdout",
          "text": [
            "[CV] END max_features=auto, min_samples_leaf=10, n_estimators=500; total time=   6.8s\n"
          ]
        },
        {
          "output_type": "stream",
          "name": "stderr",
          "text": [
            "/usr/local/lib/python3.10/dist-packages/sklearn/ensemble/_forest.py:413: FutureWarning: `max_features='auto'` has been deprecated in 1.1 and will be removed in 1.3. To keep the past behaviour, explicitly set `max_features=1.0` or remove this parameter as it is also the default value for RandomForestRegressors and ExtraTreesRegressors.\n",
            "  warn(\n"
          ]
        },
        {
          "output_type": "stream",
          "name": "stdout",
          "text": [
            "[CV] END max_features=auto, min_samples_leaf=10, n_estimators=700; total time=  11.4s\n"
          ]
        },
        {
          "output_type": "stream",
          "name": "stderr",
          "text": [
            "/usr/local/lib/python3.10/dist-packages/sklearn/ensemble/_forest.py:413: FutureWarning: `max_features='auto'` has been deprecated in 1.1 and will be removed in 1.3. To keep the past behaviour, explicitly set `max_features=1.0` or remove this parameter as it is also the default value for RandomForestRegressors and ExtraTreesRegressors.\n",
            "  warn(\n"
          ]
        },
        {
          "output_type": "stream",
          "name": "stdout",
          "text": [
            "[CV] END max_features=auto, min_samples_leaf=10, n_estimators=700; total time=  11.6s\n"
          ]
        },
        {
          "output_type": "stream",
          "name": "stderr",
          "text": [
            "/usr/local/lib/python3.10/dist-packages/sklearn/ensemble/_forest.py:413: FutureWarning: `max_features='auto'` has been deprecated in 1.1 and will be removed in 1.3. To keep the past behaviour, explicitly set `max_features=1.0` or remove this parameter as it is also the default value for RandomForestRegressors and ExtraTreesRegressors.\n",
            "  warn(\n"
          ]
        },
        {
          "output_type": "stream",
          "name": "stdout",
          "text": [
            "[CV] END max_features=auto, min_samples_leaf=10, n_estimators=700; total time=  11.3s\n"
          ]
        },
        {
          "output_type": "stream",
          "name": "stderr",
          "text": [
            "/usr/local/lib/python3.10/dist-packages/sklearn/ensemble/_forest.py:413: FutureWarning: `max_features='auto'` has been deprecated in 1.1 and will be removed in 1.3. To keep the past behaviour, explicitly set `max_features=1.0` or remove this parameter as it is also the default value for RandomForestRegressors and ExtraTreesRegressors.\n",
            "  warn(\n"
          ]
        },
        {
          "output_type": "stream",
          "name": "stdout",
          "text": [
            "[CV] END max_features=auto, min_samples_leaf=10, n_estimators=700; total time=  16.8s\n"
          ]
        },
        {
          "output_type": "stream",
          "name": "stderr",
          "text": [
            "/usr/local/lib/python3.10/dist-packages/sklearn/ensemble/_forest.py:413: FutureWarning: `max_features='auto'` has been deprecated in 1.1 and will be removed in 1.3. To keep the past behaviour, explicitly set `max_features=1.0` or remove this parameter as it is also the default value for RandomForestRegressors and ExtraTreesRegressors.\n",
            "  warn(\n"
          ]
        },
        {
          "output_type": "stream",
          "name": "stdout",
          "text": [
            "[CV] END max_features=auto, min_samples_leaf=10, n_estimators=700; total time=  12.0s\n",
            "[CV] END max_features=sqrt, min_samples_leaf=1, n_estimators=10; total time=   0.3s\n",
            "[CV] END max_features=sqrt, min_samples_leaf=1, n_estimators=10; total time=   0.3s\n",
            "[CV] END max_features=sqrt, min_samples_leaf=1, n_estimators=10; total time=   0.4s\n",
            "[CV] END max_features=sqrt, min_samples_leaf=1, n_estimators=10; total time=   0.4s\n",
            "[CV] END max_features=sqrt, min_samples_leaf=1, n_estimators=10; total time=   0.3s\n",
            "[CV] END max_features=sqrt, min_samples_leaf=1, n_estimators=50; total time=   0.8s\n",
            "[CV] END max_features=sqrt, min_samples_leaf=1, n_estimators=50; total time=   0.7s\n",
            "[CV] END max_features=sqrt, min_samples_leaf=1, n_estimators=50; total time=   0.7s\n",
            "[CV] END max_features=sqrt, min_samples_leaf=1, n_estimators=50; total time=   1.1s\n",
            "[CV] END max_features=sqrt, min_samples_leaf=1, n_estimators=50; total time=   1.2s\n",
            "[CV] END max_features=sqrt, min_samples_leaf=1, n_estimators=100; total time=   1.4s\n",
            "[CV] END max_features=sqrt, min_samples_leaf=1, n_estimators=100; total time=   0.8s\n",
            "[CV] END max_features=sqrt, min_samples_leaf=1, n_estimators=100; total time=   0.8s\n",
            "[CV] END max_features=sqrt, min_samples_leaf=1, n_estimators=100; total time=   1.0s\n",
            "[CV] END max_features=sqrt, min_samples_leaf=1, n_estimators=100; total time=   1.0s\n",
            "[CV] END max_features=sqrt, min_samples_leaf=1, n_estimators=300; total time=   2.0s\n",
            "[CV] END max_features=sqrt, min_samples_leaf=1, n_estimators=300; total time=   1.9s\n",
            "[CV] END max_features=sqrt, min_samples_leaf=1, n_estimators=300; total time=   2.0s\n",
            "[CV] END max_features=sqrt, min_samples_leaf=1, n_estimators=300; total time=   3.2s\n",
            "[CV] END max_features=sqrt, min_samples_leaf=1, n_estimators=300; total time=   1.9s\n",
            "[CV] END max_features=sqrt, min_samples_leaf=1, n_estimators=500; total time=   3.1s\n",
            "[CV] END max_features=sqrt, min_samples_leaf=1, n_estimators=500; total time=   3.0s\n",
            "[CV] END max_features=sqrt, min_samples_leaf=1, n_estimators=500; total time=   4.4s\n",
            "[CV] END max_features=sqrt, min_samples_leaf=1, n_estimators=500; total time=   3.1s\n",
            "[CV] END max_features=sqrt, min_samples_leaf=1, n_estimators=500; total time=   3.0s\n",
            "[CV] END max_features=sqrt, min_samples_leaf=1, n_estimators=700; total time=   4.4s\n",
            "[CV] END max_features=sqrt, min_samples_leaf=1, n_estimators=700; total time=   5.4s\n",
            "[CV] END max_features=sqrt, min_samples_leaf=1, n_estimators=700; total time=   4.2s\n",
            "[CV] END max_features=sqrt, min_samples_leaf=1, n_estimators=700; total time=   5.1s\n",
            "[CV] END max_features=sqrt, min_samples_leaf=1, n_estimators=700; total time=   4.6s\n",
            "[CV] END max_features=sqrt, min_samples_leaf=3, n_estimators=10; total time=   0.2s\n",
            "[CV] END max_features=sqrt, min_samples_leaf=3, n_estimators=10; total time=   0.2s\n",
            "[CV] END max_features=sqrt, min_samples_leaf=3, n_estimators=10; total time=   0.2s\n",
            "[CV] END max_features=sqrt, min_samples_leaf=3, n_estimators=10; total time=   0.2s\n",
            "[CV] END max_features=sqrt, min_samples_leaf=3, n_estimators=10; total time=   0.2s\n",
            "[CV] END max_features=sqrt, min_samples_leaf=3, n_estimators=50; total time=   0.3s\n",
            "[CV] END max_features=sqrt, min_samples_leaf=3, n_estimators=50; total time=   0.3s\n",
            "[CV] END max_features=sqrt, min_samples_leaf=3, n_estimators=50; total time=   0.3s\n",
            "[CV] END max_features=sqrt, min_samples_leaf=3, n_estimators=50; total time=   0.3s\n",
            "[CV] END max_features=sqrt, min_samples_leaf=3, n_estimators=50; total time=   0.3s\n",
            "[CV] END max_features=sqrt, min_samples_leaf=3, n_estimators=100; total time=   0.5s\n",
            "[CV] END max_features=sqrt, min_samples_leaf=3, n_estimators=100; total time=   0.5s\n",
            "[CV] END max_features=sqrt, min_samples_leaf=3, n_estimators=100; total time=   0.5s\n",
            "[CV] END max_features=sqrt, min_samples_leaf=3, n_estimators=100; total time=   0.5s\n",
            "[CV] END max_features=sqrt, min_samples_leaf=3, n_estimators=100; total time=   0.5s\n",
            "[CV] END max_features=sqrt, min_samples_leaf=3, n_estimators=300; total time=   1.2s\n",
            "[CV] END max_features=sqrt, min_samples_leaf=3, n_estimators=300; total time=   1.6s\n",
            "[CV] END max_features=sqrt, min_samples_leaf=3, n_estimators=300; total time=   2.1s\n",
            "[CV] END max_features=sqrt, min_samples_leaf=3, n_estimators=300; total time=   1.1s\n",
            "[CV] END max_features=sqrt, min_samples_leaf=3, n_estimators=300; total time=   1.1s\n",
            "[CV] END max_features=sqrt, min_samples_leaf=3, n_estimators=500; total time=   1.8s\n",
            "[CV] END max_features=sqrt, min_samples_leaf=3, n_estimators=500; total time=   1.8s\n",
            "[CV] END max_features=sqrt, min_samples_leaf=3, n_estimators=500; total time=   1.8s\n",
            "[CV] END max_features=sqrt, min_samples_leaf=3, n_estimators=500; total time=   1.8s\n",
            "[CV] END max_features=sqrt, min_samples_leaf=3, n_estimators=500; total time=   2.6s\n",
            "[CV] END max_features=sqrt, min_samples_leaf=3, n_estimators=700; total time=   3.0s\n",
            "[CV] END max_features=sqrt, min_samples_leaf=3, n_estimators=700; total time=   2.4s\n",
            "[CV] END max_features=sqrt, min_samples_leaf=3, n_estimators=700; total time=   2.4s\n",
            "[CV] END max_features=sqrt, min_samples_leaf=3, n_estimators=700; total time=   2.4s\n",
            "[CV] END max_features=sqrt, min_samples_leaf=3, n_estimators=700; total time=   3.3s\n",
            "[CV] END max_features=sqrt, min_samples_leaf=5, n_estimators=10; total time=   0.2s\n",
            "[CV] END max_features=sqrt, min_samples_leaf=5, n_estimators=10; total time=   0.2s\n",
            "[CV] END max_features=sqrt, min_samples_leaf=5, n_estimators=10; total time=   0.2s\n",
            "[CV] END max_features=sqrt, min_samples_leaf=5, n_estimators=10; total time=   0.2s\n",
            "[CV] END max_features=sqrt, min_samples_leaf=5, n_estimators=10; total time=   0.2s\n",
            "[CV] END max_features=sqrt, min_samples_leaf=5, n_estimators=50; total time=   0.3s\n",
            "[CV] END max_features=sqrt, min_samples_leaf=5, n_estimators=50; total time=   0.3s\n",
            "[CV] END max_features=sqrt, min_samples_leaf=5, n_estimators=50; total time=   0.3s\n",
            "[CV] END max_features=sqrt, min_samples_leaf=5, n_estimators=50; total time=   0.3s\n",
            "[CV] END max_features=sqrt, min_samples_leaf=5, n_estimators=50; total time=   0.3s\n",
            "[CV] END max_features=sqrt, min_samples_leaf=5, n_estimators=100; total time=   0.4s\n",
            "[CV] END max_features=sqrt, min_samples_leaf=5, n_estimators=100; total time=   0.4s\n",
            "[CV] END max_features=sqrt, min_samples_leaf=5, n_estimators=100; total time=   0.4s\n",
            "[CV] END max_features=sqrt, min_samples_leaf=5, n_estimators=100; total time=   0.4s\n",
            "[CV] END max_features=sqrt, min_samples_leaf=5, n_estimators=100; total time=   0.4s\n",
            "[CV] END max_features=sqrt, min_samples_leaf=5, n_estimators=300; total time=   1.0s\n",
            "[CV] END max_features=sqrt, min_samples_leaf=5, n_estimators=300; total time=   1.0s\n",
            "[CV] END max_features=sqrt, min_samples_leaf=5, n_estimators=300; total time=   1.1s\n",
            "[CV] END max_features=sqrt, min_samples_leaf=5, n_estimators=300; total time=   1.0s\n",
            "[CV] END max_features=sqrt, min_samples_leaf=5, n_estimators=300; total time=   1.0s\n",
            "[CV] END max_features=sqrt, min_samples_leaf=5, n_estimators=500; total time=   2.0s\n",
            "[CV] END max_features=sqrt, min_samples_leaf=5, n_estimators=500; total time=   2.6s\n",
            "[CV] END max_features=sqrt, min_samples_leaf=5, n_estimators=500; total time=   1.6s\n",
            "[CV] END max_features=sqrt, min_samples_leaf=5, n_estimators=500; total time=   1.9s\n",
            "[CV] END max_features=sqrt, min_samples_leaf=5, n_estimators=500; total time=   1.6s\n",
            "[CV] END max_features=sqrt, min_samples_leaf=5, n_estimators=700; total time=   2.2s\n",
            "[CV] END max_features=sqrt, min_samples_leaf=5, n_estimators=700; total time=   2.1s\n",
            "[CV] END max_features=sqrt, min_samples_leaf=5, n_estimators=700; total time=   3.7s\n",
            "[CV] END max_features=sqrt, min_samples_leaf=5, n_estimators=700; total time=   2.2s\n",
            "[CV] END max_features=sqrt, min_samples_leaf=5, n_estimators=700; total time=   2.2s\n",
            "[CV] END max_features=sqrt, min_samples_leaf=10, n_estimators=10; total time=   0.2s\n",
            "[CV] END max_features=sqrt, min_samples_leaf=10, n_estimators=10; total time=   0.2s\n",
            "[CV] END max_features=sqrt, min_samples_leaf=10, n_estimators=10; total time=   0.2s\n",
            "[CV] END max_features=sqrt, min_samples_leaf=10, n_estimators=10; total time=   0.2s\n",
            "[CV] END max_features=sqrt, min_samples_leaf=10, n_estimators=10; total time=   0.2s\n",
            "[CV] END max_features=sqrt, min_samples_leaf=10, n_estimators=50; total time=   0.3s\n",
            "[CV] END max_features=sqrt, min_samples_leaf=10, n_estimators=50; total time=   0.3s\n",
            "[CV] END max_features=sqrt, min_samples_leaf=10, n_estimators=50; total time=   0.3s\n",
            "[CV] END max_features=sqrt, min_samples_leaf=10, n_estimators=50; total time=   0.3s\n",
            "[CV] END max_features=sqrt, min_samples_leaf=10, n_estimators=50; total time=   0.3s\n",
            "[CV] END max_features=sqrt, min_samples_leaf=10, n_estimators=100; total time=   0.4s\n",
            "[CV] END max_features=sqrt, min_samples_leaf=10, n_estimators=100; total time=   0.4s\n",
            "[CV] END max_features=sqrt, min_samples_leaf=10, n_estimators=100; total time=   0.4s\n",
            "[CV] END max_features=sqrt, min_samples_leaf=10, n_estimators=100; total time=   0.4s\n",
            "[CV] END max_features=sqrt, min_samples_leaf=10, n_estimators=100; total time=   0.4s\n",
            "[CV] END max_features=sqrt, min_samples_leaf=10, n_estimators=300; total time=   1.0s\n",
            "[CV] END max_features=sqrt, min_samples_leaf=10, n_estimators=300; total time=   1.6s\n",
            "[CV] END max_features=sqrt, min_samples_leaf=10, n_estimators=300; total time=   1.5s\n",
            "[CV] END max_features=sqrt, min_samples_leaf=10, n_estimators=300; total time=   1.0s\n",
            "[CV] END max_features=sqrt, min_samples_leaf=10, n_estimators=300; total time=   0.9s\n",
            "[CV] END max_features=sqrt, min_samples_leaf=10, n_estimators=500; total time=   1.4s\n",
            "[CV] END max_features=sqrt, min_samples_leaf=10, n_estimators=500; total time=   1.4s\n",
            "[CV] END max_features=sqrt, min_samples_leaf=10, n_estimators=500; total time=   1.5s\n",
            "[CV] END max_features=sqrt, min_samples_leaf=10, n_estimators=500; total time=   1.4s\n",
            "[CV] END max_features=sqrt, min_samples_leaf=10, n_estimators=500; total time=   1.4s\n",
            "[CV] END max_features=sqrt, min_samples_leaf=10, n_estimators=700; total time=   3.5s\n",
            "[CV] END max_features=sqrt, min_samples_leaf=10, n_estimators=700; total time=   2.0s\n",
            "[CV] END max_features=sqrt, min_samples_leaf=10, n_estimators=700; total time=   2.0s\n",
            "[CV] END max_features=sqrt, min_samples_leaf=10, n_estimators=700; total time=   1.9s\n",
            "[CV] END max_features=sqrt, min_samples_leaf=10, n_estimators=700; total time=   1.9s\n"
          ]
        },
        {
          "output_type": "execute_result",
          "data": {
            "text/plain": [
              "GridSearchCV(cv=5, estimator=RandomForestRegressor(n_jobs=-1, random_state=0),\n",
              "             param_grid={'max_features': ['auto', 'sqrt'],\n",
              "                         'min_samples_leaf': [1, 3, 5, 10],\n",
              "                         'n_estimators': [10, 50, 100, 300, 500, 700]},\n",
              "             verbose=2)"
            ],
            "text/html": [
              "<style>#sk-container-id-1 {color: black;background-color: white;}#sk-container-id-1 pre{padding: 0;}#sk-container-id-1 div.sk-toggleable {background-color: white;}#sk-container-id-1 label.sk-toggleable__label {cursor: pointer;display: block;width: 100%;margin-bottom: 0;padding: 0.3em;box-sizing: border-box;text-align: center;}#sk-container-id-1 label.sk-toggleable__label-arrow:before {content: \"▸\";float: left;margin-right: 0.25em;color: #696969;}#sk-container-id-1 label.sk-toggleable__label-arrow:hover:before {color: black;}#sk-container-id-1 div.sk-estimator:hover label.sk-toggleable__label-arrow:before {color: black;}#sk-container-id-1 div.sk-toggleable__content {max-height: 0;max-width: 0;overflow: hidden;text-align: left;background-color: #f0f8ff;}#sk-container-id-1 div.sk-toggleable__content pre {margin: 0.2em;color: black;border-radius: 0.25em;background-color: #f0f8ff;}#sk-container-id-1 input.sk-toggleable__control:checked~div.sk-toggleable__content {max-height: 200px;max-width: 100%;overflow: auto;}#sk-container-id-1 input.sk-toggleable__control:checked~label.sk-toggleable__label-arrow:before {content: \"▾\";}#sk-container-id-1 div.sk-estimator input.sk-toggleable__control:checked~label.sk-toggleable__label {background-color: #d4ebff;}#sk-container-id-1 div.sk-label input.sk-toggleable__control:checked~label.sk-toggleable__label {background-color: #d4ebff;}#sk-container-id-1 input.sk-hidden--visually {border: 0;clip: rect(1px 1px 1px 1px);clip: rect(1px, 1px, 1px, 1px);height: 1px;margin: -1px;overflow: hidden;padding: 0;position: absolute;width: 1px;}#sk-container-id-1 div.sk-estimator {font-family: monospace;background-color: #f0f8ff;border: 1px dotted black;border-radius: 0.25em;box-sizing: border-box;margin-bottom: 0.5em;}#sk-container-id-1 div.sk-estimator:hover {background-color: #d4ebff;}#sk-container-id-1 div.sk-parallel-item::after {content: \"\";width: 100%;border-bottom: 1px solid gray;flex-grow: 1;}#sk-container-id-1 div.sk-label:hover label.sk-toggleable__label {background-color: #d4ebff;}#sk-container-id-1 div.sk-serial::before {content: \"\";position: absolute;border-left: 1px solid gray;box-sizing: border-box;top: 0;bottom: 0;left: 50%;z-index: 0;}#sk-container-id-1 div.sk-serial {display: flex;flex-direction: column;align-items: center;background-color: white;padding-right: 0.2em;padding-left: 0.2em;position: relative;}#sk-container-id-1 div.sk-item {position: relative;z-index: 1;}#sk-container-id-1 div.sk-parallel {display: flex;align-items: stretch;justify-content: center;background-color: white;position: relative;}#sk-container-id-1 div.sk-item::before, #sk-container-id-1 div.sk-parallel-item::before {content: \"\";position: absolute;border-left: 1px solid gray;box-sizing: border-box;top: 0;bottom: 0;left: 50%;z-index: -1;}#sk-container-id-1 div.sk-parallel-item {display: flex;flex-direction: column;z-index: 1;position: relative;background-color: white;}#sk-container-id-1 div.sk-parallel-item:first-child::after {align-self: flex-end;width: 50%;}#sk-container-id-1 div.sk-parallel-item:last-child::after {align-self: flex-start;width: 50%;}#sk-container-id-1 div.sk-parallel-item:only-child::after {width: 0;}#sk-container-id-1 div.sk-dashed-wrapped {border: 1px dashed gray;margin: 0 0.4em 0.5em 0.4em;box-sizing: border-box;padding-bottom: 0.4em;background-color: white;}#sk-container-id-1 div.sk-label label {font-family: monospace;font-weight: bold;display: inline-block;line-height: 1.2em;}#sk-container-id-1 div.sk-label-container {text-align: center;}#sk-container-id-1 div.sk-container {/* jupyter's `normalize.less` sets `[hidden] { display: none; }` but bootstrap.min.css set `[hidden] { display: none !important; }` so we also need the `!important` here to be able to override the default hidden behavior on the sphinx rendered scikit-learn.org. See: https://github.com/scikit-learn/scikit-learn/issues/21755 */display: inline-block !important;position: relative;}#sk-container-id-1 div.sk-text-repr-fallback {display: none;}</style><div id=\"sk-container-id-1\" class=\"sk-top-container\"><div class=\"sk-text-repr-fallback\"><pre>GridSearchCV(cv=5, estimator=RandomForestRegressor(n_jobs=-1, random_state=0),\n",
              "             param_grid={&#x27;max_features&#x27;: [&#x27;auto&#x27;, &#x27;sqrt&#x27;],\n",
              "                         &#x27;min_samples_leaf&#x27;: [1, 3, 5, 10],\n",
              "                         &#x27;n_estimators&#x27;: [10, 50, 100, 300, 500, 700]},\n",
              "             verbose=2)</pre><b>In a Jupyter environment, please rerun this cell to show the HTML representation or trust the notebook. <br />On GitHub, the HTML representation is unable to render, please try loading this page with nbviewer.org.</b></div><div class=\"sk-container\" hidden><div class=\"sk-item sk-dashed-wrapped\"><div class=\"sk-label-container\"><div class=\"sk-label sk-toggleable\"><input class=\"sk-toggleable__control sk-hidden--visually\" id=\"sk-estimator-id-1\" type=\"checkbox\" ><label for=\"sk-estimator-id-1\" class=\"sk-toggleable__label sk-toggleable__label-arrow\">GridSearchCV</label><div class=\"sk-toggleable__content\"><pre>GridSearchCV(cv=5, estimator=RandomForestRegressor(n_jobs=-1, random_state=0),\n",
              "             param_grid={&#x27;max_features&#x27;: [&#x27;auto&#x27;, &#x27;sqrt&#x27;],\n",
              "                         &#x27;min_samples_leaf&#x27;: [1, 3, 5, 10],\n",
              "                         &#x27;n_estimators&#x27;: [10, 50, 100, 300, 500, 700]},\n",
              "             verbose=2)</pre></div></div></div><div class=\"sk-parallel\"><div class=\"sk-parallel-item\"><div class=\"sk-item\"><div class=\"sk-label-container\"><div class=\"sk-label sk-toggleable\"><input class=\"sk-toggleable__control sk-hidden--visually\" id=\"sk-estimator-id-2\" type=\"checkbox\" ><label for=\"sk-estimator-id-2\" class=\"sk-toggleable__label sk-toggleable__label-arrow\">estimator: RandomForestRegressor</label><div class=\"sk-toggleable__content\"><pre>RandomForestRegressor(n_jobs=-1, random_state=0)</pre></div></div></div><div class=\"sk-serial\"><div class=\"sk-item\"><div class=\"sk-estimator sk-toggleable\"><input class=\"sk-toggleable__control sk-hidden--visually\" id=\"sk-estimator-id-3\" type=\"checkbox\" ><label for=\"sk-estimator-id-3\" class=\"sk-toggleable__label sk-toggleable__label-arrow\">RandomForestRegressor</label><div class=\"sk-toggleable__content\"><pre>RandomForestRegressor(n_jobs=-1, random_state=0)</pre></div></div></div></div></div></div></div></div></div></div>"
            ]
          },
          "metadata": {},
          "execution_count": 80
        }
      ]
    },
    {
      "cell_type": "code",
      "source": [
        "RandomForestmodel_search.best_params_"
      ],
      "metadata": {
        "colab": {
          "base_uri": "https://localhost:8080/"
        },
        "id": "c9-i54gYYLXM",
        "outputId": "2ea31574-dbbe-4e98-b556-168c2cee9f9a"
      },
      "execution_count": null,
      "outputs": [
        {
          "output_type": "execute_result",
          "data": {
            "text/plain": [
              "{'max_features': 'sqrt', 'min_samples_leaf': 1, 'n_estimators': 700}"
            ]
          },
          "metadata": {},
          "execution_count": 81
        }
      ]
    },
    {
      "cell_type": "code",
      "source": [
        "from sklearn.metrics import mean_squared_error"
      ],
      "metadata": {
        "id": "-AJNMyVrYMXY"
      },
      "execution_count": null,
      "outputs": []
    },
    {
      "cell_type": "code",
      "source": [
        "\n",
        "preds= RandomForestmodel_search.predict(x)\n",
        "print(f'Square Root of Mean Squared Error: {math.sqrt(mean_squared_error(y,preds))}')"
      ],
      "metadata": {
        "colab": {
          "base_uri": "https://localhost:8080/"
        },
        "id": "08TmnFVoYPCK",
        "outputId": "fe092817-e1c9-4f6e-aaaa-230fad38d135"
      },
      "execution_count": null,
      "outputs": [
        {
          "output_type": "stream",
          "name": "stdout",
          "text": [
            "Square Root of Mean Squared Error: 0.20052589792752473\n"
          ]
        }
      ]
    },
    {
      "cell_type": "code",
      "source": [
        "def evaluate(model, test_data, test_targets):\n",
        "    predictions = model.predict(test_data)\n",
        "    errors = abs(predictions - test_targets)\n",
        "    mae = 100 * np.mean(errors / test_targets)\n",
        "    accuracy = 100 - mae\n",
        "    print('Model Performance')\n",
        "    print('Average Error: {:0.4f}'.format(np.mean(errors)))\n",
        "    print('Accuracy = {:0.2f}%.'.format(accuracy))\n",
        "\n",
        "    return accuracy"
      ],
      "metadata": {
        "id": "r8i-syWoY_po"
      },
      "execution_count": null,
      "outputs": []
    },
    {
      "cell_type": "code",
      "source": [
        "best_random = RandomForestmodel_search.best_estimator_\n",
        "random_accuracy = evaluate(best_random, x, y)"
      ],
      "metadata": {
        "colab": {
          "base_uri": "https://localhost:8080/"
        },
        "id": "PmFs3wyqZA3C",
        "outputId": "7256874b-9032-47dc-f05a-958d3f1d8790"
      },
      "execution_count": null,
      "outputs": [
        {
          "output_type": "stream",
          "name": "stdout",
          "text": [
            "Model Performance\n",
            "Average Error: 0.1410\n",
            "Accuracy = 99.03%.\n"
          ]
        }
      ]
    },
    {
      "cell_type": "code",
      "source": [],
      "metadata": {
        "id": "TKOYyZ1_Zlfr"
      },
      "execution_count": null,
      "outputs": []
    },
    {
      "cell_type": "code",
      "source": [
        "dfTest1 = pd.read_csv('/content/Test2_Building_Energy_Benchmarking.csv', sep=';',index_col=0)"
      ],
      "metadata": {
        "id": "9jjTeHetZmg9"
      },
      "execution_count": null,
      "outputs": []
    },
    {
      "cell_type": "code",
      "source": [
        "dfTest1.head()"
      ],
      "metadata": {
        "colab": {
          "base_uri": "https://localhost:8080/",
          "height": 469
        },
        "id": "UbMOF73sZ4Qt",
        "outputId": "1ca7d0ce-e255-43b5-df0f-a3ca4ed047e2"
      },
      "execution_count": null,
      "outputs": [
        {
          "output_type": "execute_result",
          "data": {
            "text/plain": [
              "               DataYear    BuildingType          PrimaryPropertyType  \\\n",
              "OSEBuildingID                                                          \n",
              "66                 2016  NonResidential                        Hotel   \n",
              "117                2016  NonResidential                        Hotel   \n",
              "377                2016  NonResidential                 Large Office   \n",
              "414                2016  NonResidential                 Large Office   \n",
              "522                2016  NonResidential  Small- and Mid-Sized Office   \n",
              "\n",
              "                                  PropertyName                Address  \\\n",
              "OSEBuildingID                                                           \n",
              "66                             Moore Hotel INC           1926 2nd Ave   \n",
              "117                             UNIVERSITY INN  4140 ROOSEVELT WAY NE   \n",
              "377                         Fifth and Wall LLC        521 Wall Street   \n",
              "414            Onni 1411 Fourth Development LP           1411 4TH AVE   \n",
              "522                     The Waterside Building          651 N 34th St   \n",
              "\n",
              "                  City State  ZipCode  TaxParcelIdentificationNumber  \\\n",
              "OSEBuildingID                                                          \n",
              "66             Seattle    WA    98101                     1977201035   \n",
              "117            Seattle    WA    98105                     1142001871   \n",
              "377            Seattle    WA    98121                      697000064   \n",
              "414            Seattle    WA    98101                     1975700345   \n",
              "522            Seattle    WA    98103                     1973200353   \n",
              "\n",
              "               CouncilDistrictCode  ... Electricity(kWh)  Electricity(kBtu)  \\\n",
              "OSEBuildingID                       ...                                       \n",
              "66                               7  ...     3.791211e+05            1293561   \n",
              "117                              4  ...     6.237707e+05            2128306   \n",
              "377                              7  ...     1.515135e+06            5169641   \n",
              "414                              7  ...     7.610041e+05            2596546   \n",
              "522                              6  ...     1.586582e+06            5413417   \n",
              "\n",
              "               NaturalGas(therms)  NaturalGas(kBtu)  DefaultData  Comments  \\\n",
              "OSEBuildingID                                                                \n",
              "66                   41077.160160           4107716        False       NaN   \n",
              "117                  33206.691410           3320669        False       NaN   \n",
              "377                   1881.909668            188191        False       NaN   \n",
              "414                      0.000000                 0        False       NaN   \n",
              "522                      0.000000                 0        False       NaN   \n",
              "\n",
              "               ComplianceStatus  Outlier  TotalGHGEmissions  \\\n",
              "OSEBuildingID                                                 \n",
              "66                    Compliant      NaN             227.18   \n",
              "117                   Compliant      NaN             191.20   \n",
              "377                   Compliant      NaN              46.03   \n",
              "414                   Compliant      NaN             238.09   \n",
              "522                   Compliant      NaN              37.74   \n",
              "\n",
              "              GHGEmissionsIntensity  \n",
              "OSEBuildingID                        \n",
              "66                             1.85  \n",
              "117                            3.82  \n",
              "377                            0.24  \n",
              "414                            1.58  \n",
              "522                            0.39  \n",
              "\n",
              "[5 rows x 45 columns]"
            ],
            "text/html": [
              "\n",
              "  <div id=\"df-0b089289-649d-403d-bdba-d842e763ccf8\">\n",
              "    <div class=\"colab-df-container\">\n",
              "      <div>\n",
              "<style scoped>\n",
              "    .dataframe tbody tr th:only-of-type {\n",
              "        vertical-align: middle;\n",
              "    }\n",
              "\n",
              "    .dataframe tbody tr th {\n",
              "        vertical-align: top;\n",
              "    }\n",
              "\n",
              "    .dataframe thead th {\n",
              "        text-align: right;\n",
              "    }\n",
              "</style>\n",
              "<table border=\"1\" class=\"dataframe\">\n",
              "  <thead>\n",
              "    <tr style=\"text-align: right;\">\n",
              "      <th></th>\n",
              "      <th>DataYear</th>\n",
              "      <th>BuildingType</th>\n",
              "      <th>PrimaryPropertyType</th>\n",
              "      <th>PropertyName</th>\n",
              "      <th>Address</th>\n",
              "      <th>City</th>\n",
              "      <th>State</th>\n",
              "      <th>ZipCode</th>\n",
              "      <th>TaxParcelIdentificationNumber</th>\n",
              "      <th>CouncilDistrictCode</th>\n",
              "      <th>...</th>\n",
              "      <th>Electricity(kWh)</th>\n",
              "      <th>Electricity(kBtu)</th>\n",
              "      <th>NaturalGas(therms)</th>\n",
              "      <th>NaturalGas(kBtu)</th>\n",
              "      <th>DefaultData</th>\n",
              "      <th>Comments</th>\n",
              "      <th>ComplianceStatus</th>\n",
              "      <th>Outlier</th>\n",
              "      <th>TotalGHGEmissions</th>\n",
              "      <th>GHGEmissionsIntensity</th>\n",
              "    </tr>\n",
              "    <tr>\n",
              "      <th>OSEBuildingID</th>\n",
              "      <th></th>\n",
              "      <th></th>\n",
              "      <th></th>\n",
              "      <th></th>\n",
              "      <th></th>\n",
              "      <th></th>\n",
              "      <th></th>\n",
              "      <th></th>\n",
              "      <th></th>\n",
              "      <th></th>\n",
              "      <th></th>\n",
              "      <th></th>\n",
              "      <th></th>\n",
              "      <th></th>\n",
              "      <th></th>\n",
              "      <th></th>\n",
              "      <th></th>\n",
              "      <th></th>\n",
              "      <th></th>\n",
              "      <th></th>\n",
              "      <th></th>\n",
              "    </tr>\n",
              "  </thead>\n",
              "  <tbody>\n",
              "    <tr>\n",
              "      <th>66</th>\n",
              "      <td>2016</td>\n",
              "      <td>NonResidential</td>\n",
              "      <td>Hotel</td>\n",
              "      <td>Moore Hotel INC</td>\n",
              "      <td>1926 2nd Ave</td>\n",
              "      <td>Seattle</td>\n",
              "      <td>WA</td>\n",
              "      <td>98101</td>\n",
              "      <td>1977201035</td>\n",
              "      <td>7</td>\n",
              "      <td>...</td>\n",
              "      <td>3.791211e+05</td>\n",
              "      <td>1293561</td>\n",
              "      <td>41077.160160</td>\n",
              "      <td>4107716</td>\n",
              "      <td>False</td>\n",
              "      <td>NaN</td>\n",
              "      <td>Compliant</td>\n",
              "      <td>NaN</td>\n",
              "      <td>227.18</td>\n",
              "      <td>1.85</td>\n",
              "    </tr>\n",
              "    <tr>\n",
              "      <th>117</th>\n",
              "      <td>2016</td>\n",
              "      <td>NonResidential</td>\n",
              "      <td>Hotel</td>\n",
              "      <td>UNIVERSITY INN</td>\n",
              "      <td>4140 ROOSEVELT WAY NE</td>\n",
              "      <td>Seattle</td>\n",
              "      <td>WA</td>\n",
              "      <td>98105</td>\n",
              "      <td>1142001871</td>\n",
              "      <td>4</td>\n",
              "      <td>...</td>\n",
              "      <td>6.237707e+05</td>\n",
              "      <td>2128306</td>\n",
              "      <td>33206.691410</td>\n",
              "      <td>3320669</td>\n",
              "      <td>False</td>\n",
              "      <td>NaN</td>\n",
              "      <td>Compliant</td>\n",
              "      <td>NaN</td>\n",
              "      <td>191.20</td>\n",
              "      <td>3.82</td>\n",
              "    </tr>\n",
              "    <tr>\n",
              "      <th>377</th>\n",
              "      <td>2016</td>\n",
              "      <td>NonResidential</td>\n",
              "      <td>Large Office</td>\n",
              "      <td>Fifth and Wall LLC</td>\n",
              "      <td>521 Wall Street</td>\n",
              "      <td>Seattle</td>\n",
              "      <td>WA</td>\n",
              "      <td>98121</td>\n",
              "      <td>697000064</td>\n",
              "      <td>7</td>\n",
              "      <td>...</td>\n",
              "      <td>1.515135e+06</td>\n",
              "      <td>5169641</td>\n",
              "      <td>1881.909668</td>\n",
              "      <td>188191</td>\n",
              "      <td>False</td>\n",
              "      <td>NaN</td>\n",
              "      <td>Compliant</td>\n",
              "      <td>NaN</td>\n",
              "      <td>46.03</td>\n",
              "      <td>0.24</td>\n",
              "    </tr>\n",
              "    <tr>\n",
              "      <th>414</th>\n",
              "      <td>2016</td>\n",
              "      <td>NonResidential</td>\n",
              "      <td>Large Office</td>\n",
              "      <td>Onni 1411 Fourth Development LP</td>\n",
              "      <td>1411 4TH AVE</td>\n",
              "      <td>Seattle</td>\n",
              "      <td>WA</td>\n",
              "      <td>98101</td>\n",
              "      <td>1975700345</td>\n",
              "      <td>7</td>\n",
              "      <td>...</td>\n",
              "      <td>7.610041e+05</td>\n",
              "      <td>2596546</td>\n",
              "      <td>0.000000</td>\n",
              "      <td>0</td>\n",
              "      <td>False</td>\n",
              "      <td>NaN</td>\n",
              "      <td>Compliant</td>\n",
              "      <td>NaN</td>\n",
              "      <td>238.09</td>\n",
              "      <td>1.58</td>\n",
              "    </tr>\n",
              "    <tr>\n",
              "      <th>522</th>\n",
              "      <td>2016</td>\n",
              "      <td>NonResidential</td>\n",
              "      <td>Small- and Mid-Sized Office</td>\n",
              "      <td>The Waterside Building</td>\n",
              "      <td>651 N 34th St</td>\n",
              "      <td>Seattle</td>\n",
              "      <td>WA</td>\n",
              "      <td>98103</td>\n",
              "      <td>1973200353</td>\n",
              "      <td>6</td>\n",
              "      <td>...</td>\n",
              "      <td>1.586582e+06</td>\n",
              "      <td>5413417</td>\n",
              "      <td>0.000000</td>\n",
              "      <td>0</td>\n",
              "      <td>False</td>\n",
              "      <td>NaN</td>\n",
              "      <td>Compliant</td>\n",
              "      <td>NaN</td>\n",
              "      <td>37.74</td>\n",
              "      <td>0.39</td>\n",
              "    </tr>\n",
              "  </tbody>\n",
              "</table>\n",
              "<p>5 rows × 45 columns</p>\n",
              "</div>\n",
              "      <button class=\"colab-df-convert\" onclick=\"convertToInteractive('df-0b089289-649d-403d-bdba-d842e763ccf8')\"\n",
              "              title=\"Convert this dataframe to an interactive table.\"\n",
              "              style=\"display:none;\">\n",
              "        \n",
              "  <svg xmlns=\"http://www.w3.org/2000/svg\" height=\"24px\"viewBox=\"0 0 24 24\"\n",
              "       width=\"24px\">\n",
              "    <path d=\"M0 0h24v24H0V0z\" fill=\"none\"/>\n",
              "    <path d=\"M18.56 5.44l.94 2.06.94-2.06 2.06-.94-2.06-.94-.94-2.06-.94 2.06-2.06.94zm-11 1L8.5 8.5l.94-2.06 2.06-.94-2.06-.94L8.5 2.5l-.94 2.06-2.06.94zm10 10l.94 2.06.94-2.06 2.06-.94-2.06-.94-.94-2.06-.94 2.06-2.06.94z\"/><path d=\"M17.41 7.96l-1.37-1.37c-.4-.4-.92-.59-1.43-.59-.52 0-1.04.2-1.43.59L10.3 9.45l-7.72 7.72c-.78.78-.78 2.05 0 2.83L4 21.41c.39.39.9.59 1.41.59.51 0 1.02-.2 1.41-.59l7.78-7.78 2.81-2.81c.8-.78.8-2.07 0-2.86zM5.41 20L4 18.59l7.72-7.72 1.47 1.35L5.41 20z\"/>\n",
              "  </svg>\n",
              "      </button>\n",
              "      \n",
              "  <style>\n",
              "    .colab-df-container {\n",
              "      display:flex;\n",
              "      flex-wrap:wrap;\n",
              "      gap: 12px;\n",
              "    }\n",
              "\n",
              "    .colab-df-convert {\n",
              "      background-color: #E8F0FE;\n",
              "      border: none;\n",
              "      border-radius: 50%;\n",
              "      cursor: pointer;\n",
              "      display: none;\n",
              "      fill: #1967D2;\n",
              "      height: 32px;\n",
              "      padding: 0 0 0 0;\n",
              "      width: 32px;\n",
              "    }\n",
              "\n",
              "    .colab-df-convert:hover {\n",
              "      background-color: #E2EBFA;\n",
              "      box-shadow: 0px 1px 2px rgba(60, 64, 67, 0.3), 0px 1px 3px 1px rgba(60, 64, 67, 0.15);\n",
              "      fill: #174EA6;\n",
              "    }\n",
              "\n",
              "    [theme=dark] .colab-df-convert {\n",
              "      background-color: #3B4455;\n",
              "      fill: #D2E3FC;\n",
              "    }\n",
              "\n",
              "    [theme=dark] .colab-df-convert:hover {\n",
              "      background-color: #434B5C;\n",
              "      box-shadow: 0px 1px 3px 1px rgba(0, 0, 0, 0.15);\n",
              "      filter: drop-shadow(0px 1px 2px rgba(0, 0, 0, 0.3));\n",
              "      fill: #FFFFFF;\n",
              "    }\n",
              "  </style>\n",
              "\n",
              "      <script>\n",
              "        const buttonEl =\n",
              "          document.querySelector('#df-0b089289-649d-403d-bdba-d842e763ccf8 button.colab-df-convert');\n",
              "        buttonEl.style.display =\n",
              "          google.colab.kernel.accessAllowed ? 'block' : 'none';\n",
              "\n",
              "        async function convertToInteractive(key) {\n",
              "          const element = document.querySelector('#df-0b089289-649d-403d-bdba-d842e763ccf8');\n",
              "          const dataTable =\n",
              "            await google.colab.kernel.invokeFunction('convertToInteractive',\n",
              "                                                     [key], {});\n",
              "          if (!dataTable) return;\n",
              "\n",
              "          const docLinkHtml = 'Like what you see? Visit the ' +\n",
              "            '<a target=\"_blank\" href=https://colab.research.google.com/notebooks/data_table.ipynb>data table notebook</a>'\n",
              "            + ' to learn more about interactive tables.';\n",
              "          element.innerHTML = '';\n",
              "          dataTable['output_type'] = 'display_data';\n",
              "          await google.colab.output.renderOutput(dataTable, element);\n",
              "          const docLink = document.createElement('div');\n",
              "          docLink.innerHTML = docLinkHtml;\n",
              "          element.appendChild(docLink);\n",
              "        }\n",
              "      </script>\n",
              "    </div>\n",
              "  </div>\n",
              "  "
            ]
          },
          "metadata": {},
          "execution_count": 119
        }
      ]
    },
    {
      "cell_type": "code",
      "source": [
        "dfTest1.drop(['Comments'], axis='columns', inplace=True)"
      ],
      "metadata": {
        "id": "4ff0KuV8aEE5"
      },
      "execution_count": null,
      "outputs": []
    },
    {
      "cell_type": "code",
      "source": [
        "for key in list(dfTest1.keys()):\n",
        "    if dfTest1[key].nunique()<20:\n",
        "        print(key,'------->', dfTest1[key].unique())\n",
        "    else:\n",
        "        print(key, '------->',dfTest1[key].nunique())"
      ],
      "metadata": {
        "colab": {
          "base_uri": "https://localhost:8080/"
        },
        "id": "LExqdAvMaN2x",
        "outputId": "5efa84ca-3d6f-4b6e-93cd-04f599dfc078"
      },
      "execution_count": null,
      "outputs": [
        {
          "output_type": "stream",
          "name": "stdout",
          "text": [
            "DataYear -------> [2016]\n",
            "BuildingType -------> ['NonResidential' 'Multifamily MR (5-9)' 'Nonresidential COS' 'Campus']\n",
            "PrimaryPropertyType -------> ['Hotel' 'Large Office' 'Small- and Mid-Sized Office' 'Retail Store'\n",
            " 'Mid-Rise Multifamily' 'Senior Care Community' 'Mixed Use Property'\n",
            " 'Other']\n",
            "PropertyName -------> ['Moore Hotel INC' 'UNIVERSITY INN' 'Fifth and Wall LLC'\n",
            " 'Onni 1411 Fourth Development LP' 'The Waterside Building' 'Darigold HQ'\n",
            " '#8944 West Seattle' 'Washington Shoe Building'\n",
            " 'Georgetown Center Bldg B' 'Gethsemane Condo Association'\n",
            " 'Queen Anne Healthcare' 'System Operations Center' 'Economy Market'\n",
            " 'ATWATER']\n",
            "Address -------> ['1926 2nd Ave' '4140 ROOSEVELT WAY NE' '521 Wall Street' '1411 4TH AVE'\n",
            " '651 N 34th St' '1130 Rainier Ave S' '7345 Delridge Way SW'\n",
            " '400 Occidental Ave. South' '800 S Michigan St' '911 / 919 Stewart St'\n",
            " '2717 Dexter Ave N' '614 NW 46th St' '1433 First Avenue' '1503 3RD AVE W']\n",
            "City -------> ['Seattle']\n",
            "State -------> ['WA']\n",
            "ZipCode -------> [98101 98105 98121 98103 98144 98106 98104 98108 98109 98107 98119]\n",
            "TaxParcelIdentificationNumber -------> [1977201035 1142001871  697000064 1975700345 1973200353 7132300370\n",
            " 7985400295 5247800735 2738100620 2748000000 1929300390 1982201065\n",
            " 1976200105 4232903455]\n",
            "CouncilDistrictCode -------> [7 4 6 3 1 2]\n",
            "Neighborhood -------> ['DOWNTOWN' 'NORTHEAST' 'LAKE UNION' 'CENTRAL' 'DELRIDGE'\n",
            " 'GREATER DUWAMISH' 'MAGNOLIA / QUEEN ANNE' 'Ballard']\n",
            "Latitude -------> [47.61155 47.65772 47.61734 47.60923 47.64849 47.59367 47.53655 47.5992\n",
            " 47.54862 47.61562 47.6441  47.66256 47.60805 47.63286]\n",
            "Longitude -------> [-122.34114 -122.31756 -122.34434 -122.33625 -122.35041 -122.30957\n",
            " -122.36377 -122.33223 -122.32272 -122.3339  -122.34795 -122.36483\n",
            " -122.33978 -122.36141]\n",
            "YearBuilt -------> [1908 1962 1947 1929 2001 1914 2005 1900 1958 2012 1970 1993 1956]\n",
            "NumberofBuildings -------> [1 2 0]\n",
            "NumberofFloors -------> [ 7  4  3 15  2  1  6]\n",
            "PropertyGFATotal -------> [122810  50017 192630 151039  96041  62220  94713  95760  74178  67403\n",
            "  46539  27744  49280  36771]\n",
            "PropertyGFAParking -------> [    0 48512 33709 15840]\n",
            "PropertyGFABuilding(s) -------> [122810  50017 144118 151039  62332  62220  94713  79920  74178  67403\n",
            "  46539  27744  49280  36771]\n",
            "ListOfAllPropertyUseTypes -------> ['Hotel, Other - Entertainment/Public Assembly, Retail Store'\n",
            " 'Hotel, Swimming Pool' 'Office, Parking' 'Office'\n",
            " 'Office, Other - Services, Parking' 'Retail Store'\n",
            " 'Multifamily Housing, Office, Other, Other - Lodging/Residential, Worship Facility'\n",
            " 'Senior Care Community' 'Data Center, Office, Other'\n",
            " 'Food Sales, Office, Restaurant, Retail Store, Self-Storage Facility, Social/Meeting Hall'\n",
            " 'Other']\n",
            "LargestPropertyUseType -------> ['Hotel' 'Office' 'Retail Store' 'Multifamily Housing'\n",
            " 'Senior Care Community' 'Other']\n",
            "LargestPropertyUseTypeGFA -------> [ 88360  50017 146157 125473  62232  60676 109758  95760  74178  36729\n",
            "  46539  18380  15614  34856]\n",
            "SecondLargestPropertyUseType -------> ['Other - Entertainment/Public Assembly' 'Swimming Pool' 'Parking' nan\n",
            " 'Worship Facility' 'Other' 'Restaurant']\n",
            "SecondLargestPropertyUseTypeGFA -------> [26450.     0. 48199.    nan 33709. 13780. 12690.  6060.  9240.]\n",
            "ThirdLargestPropertyUseType -------> ['Retail Store' nan 'Other - Services' 'Other - Lodging/Residential'\n",
            " 'Data Center' 'Social/Meeting Hall']\n",
            "ThirdLargestPropertyUseTypeGFA -------> [ 8000.    nan  1324. 11810.  3304.  8199.]\n",
            "YearsENERGYSTARCertified -------> [  nan 2007.]\n",
            "ENERGYSTARScore -------> [99. 53. 94. 84. 70. 32. 79. 83. nan 73.]\n",
            "SiteEUI(kBtu/sf) -------> [ 44.         108.9000015   36.70000076  43.40000153  87.\n",
            "  87.80000305  49.40000153  56.29999924  72.80000305  79.59999847\n",
            " 116.         193.         110.3000031  156.3000031 ]\n",
            "SiteEUIWN(kBtu/sf) -------> [ 49.59999847 110.5         38.09999847   0.          87.\n",
            "  87.80000305  53.          58.29999924  75.69999695  86.40000153\n",
            " 120.0999985  193.         111.         154.8999939 ]\n",
            "SourceEUI(kBtu/sf) -------> [ 68.19999695 203.3000031  112.4000015   92.30000305 273.1000061\n",
            " 275.2999878  131.5        159.3999939  169.3000031  140.3999939\n",
            " 225.3999939  606.2000122  290.8999939  490.7000122 ]\n",
            "SourceEUIWN(kBtu/sf) -------> [ 74.09999847 205.8000031  117.           0.         273.1000061\n",
            " 275.2999878  135.3000031  163.8000031  171.6999969  147.5\n",
            " 232.6999969  606.2000122  293.         486.5       ]\n",
            "SiteEnergyUse(kBtu) -------> [5401277.5 5448975.  5357833.  5446624.  5413418.  5444253.5 5417598.\n",
            " 5392617.5 5402181.  5364026.  5400049.5 5355753.  5437110.5 5447076.5]\n",
            "SiteEnergyUseWN(kBtu) -------> [6088417.5 5528580.5 5569686.        0.  5413418.  5444253.5 5820712.5\n",
            " 5587502.5 5617868.  5821140.5 5589312.5 5355753.  5469793.5 5400237.5]\n",
            "SteamUse(kBtu) -------> [      0.   2850077.75]\n",
            "Electricity(kWh) -------> [ 379121.0938  623770.6875 1515135.25    761004.125  1586581.875\n",
            " 1591859.875  1225938.125  1346383.125   966097.375   537281.375\n",
            "  676012.875  1569681.25   1209992.875  1596446.625 ]\n",
            "Electricity(kBtu) -------> [1293561 2128306 5169641 2596546 5413417 5431426 4182901 4593859 3296324\n",
            " 1833204 2306556 5355752 4128496 5447076]\n",
            "NaturalGas(therms) -------> [41077.16016   33206.69141    1881.909668      0.          128.2700043\n",
            " 12346.9668     7987.580078  21058.56055   35308.21875   30934.93164\n",
            " 13086.14063  ]\n",
            "NaturalGas(kBtu) -------> [4107716 3320669  188191       0   12827 1234697  798758 2105856 3530822\n",
            " 3093493 1308614]\n",
            "DefaultData -------> [False]\n",
            "ComplianceStatus -------> ['Compliant']\n",
            "Outlier -------> [nan]\n",
            "TotalGHGEmissions -------> [227.18 191.2   46.03 238.09  37.74  38.55  94.74  74.45 134.82 200.3\n",
            " 180.38  37.34  98.28  37.97]\n",
            "GHGEmissionsIntensity -------> [1.85 3.82 0.24 1.58 0.39 0.62 1.   0.78 1.82 2.97 3.88 1.35 1.99 1.03]\n"
          ]
        }
      ]
    },
    {
      "cell_type": "code",
      "source": [
        "dfTest1['Neighborhood'].replace('Delridge', 'DELRIDGE', inplace=True)\n",
        "dfTest1['Neighborhood'].replace('DELRIDGE NEIGHBORHOODS', 'DELRIDGE', inplace=True)\n",
        "dfTest1['Neighborhood'].replace('North', 'NORTH', inplace=True)\n",
        "dfTest1['Neighborhood'].replace('Northwest', 'NORTHWEST', inplace=True)\n",
        "dfTest1['Neighborhood'].replace('Central', 'CENTRAL', inplace=True)\n",
        "dfTest1['Neighborhood'].replace('Ballard', 'BALLARD', inplace=True)"
      ],
      "metadata": {
        "id": "Y340fNw6ad9Z"
      },
      "execution_count": null,
      "outputs": []
    },
    {
      "cell_type": "code",
      "source": [
        "dfTest1['City'].replace('Seattle', 'SEATTLE', inplace=True)\n",
        "dfTest1['ComplianceStatus'].replace('Not Compliant', 'Non-Compliant', inplace=True)\n",
        "dfTest1['ComplianceStatus'].replace('Error - Correct Default Data', 'Missing Data', inplace=True)\n",
        "dfTest1['NumberofBuildings'].replace(0, 1, inplace=True)"
      ],
      "metadata": {
        "id": "T0pOHUJ7atMF"
      },
      "execution_count": null,
      "outputs": []
    },
    {
      "cell_type": "code",
      "source": [
        "dfTest1[['ThirdLargestPropertyUseType', 'SecondLargestPropertyUseType']] = dfTest1[['ThirdLargestPropertyUseType', 'SecondLargestPropertyUseType']].fillna('No Use')\n",
        "dfTest1[['ThirdLargestPropertyUseTypeGFA', 'SecondLargestPropertyUseTypeGFA']] = dfTest1[['ThirdLargestPropertyUseTypeGFA', 'SecondLargestPropertyUseTypeGFA']].fillna(0, )\n",
        "dfTest1['LargestPropertyUseType'] = dfTest1['LargestPropertyUseType'].fillna('No information')"
      ],
      "metadata": {
        "id": "SSok-whja4b8"
      },
      "execution_count": null,
      "outputs": []
    },
    {
      "cell_type": "code",
      "source": [
        "dfTest1['Outlier'].replace(np.nan,'normal',inplace=True)"
      ],
      "metadata": {
        "id": "LzCi0hmxbBm9"
      },
      "execution_count": null,
      "outputs": []
    },
    {
      "cell_type": "code",
      "source": [
        "index_to_drop = dfTest1[dfTest1['SiteEnergyUseWN(kBtu)']<1].index\n",
        "print(index_to_drop)\n",
        "print(f'there are {len(index_to_drop)} samples with 0 energy consumption reported -> Drop')"
      ],
      "metadata": {
        "colab": {
          "base_uri": "https://localhost:8080/"
        },
        "id": "tYNATCqEdjc6",
        "outputId": "1e270f4a-d39e-4266-ae5f-0ba48a80c91c"
      },
      "execution_count": null,
      "outputs": [
        {
          "output_type": "stream",
          "name": "stdout",
          "text": [
            "Int64Index([414], dtype='int64', name='OSEBuildingID')\n",
            "there are 1 samples with 0 energy consumption reported -> Drop\n"
          ]
        }
      ]
    },
    {
      "cell_type": "code",
      "source": [
        "\n",
        "\n",
        "dfTest1.drop(index_to_drop, inplace=True, axis=0)"
      ],
      "metadata": {
        "id": "5KEFZasidl0w"
      },
      "execution_count": null,
      "outputs": []
    },
    {
      "cell_type": "code",
      "source": [
        "print('# samples before:',len(dfTest1))\n",
        "dfTest1.dropna(how = 'all', axis=0, inplace=True)\n",
        "print('# samples after:',len(dfTest1))"
      ],
      "metadata": {
        "colab": {
          "base_uri": "https://localhost:8080/"
        },
        "id": "2gF5GG0Ydpuk",
        "outputId": "6c241612-ddf4-4d27-e67e-2b2e92965c87"
      },
      "execution_count": null,
      "outputs": [
        {
          "output_type": "stream",
          "name": "stdout",
          "text": [
            "# samples before: 13\n",
            "# samples after: 13\n"
          ]
        }
      ]
    },
    {
      "cell_type": "code",
      "source": [
        "numeric_data = dfTest1.drop(['ENERGYSTARScore'], axis=1).select_dtypes(['int64', 'float64']).copy()\n",
        "numeric_data.shape\n"
      ],
      "metadata": {
        "colab": {
          "base_uri": "https://localhost:8080/"
        },
        "id": "A74gS62pdsyW",
        "outputId": "d71838ef-7655-4505-e4ce-cf037e34fa45"
      },
      "execution_count": null,
      "outputs": [
        {
          "output_type": "execute_result",
          "data": {
            "text/plain": [
              "(13, 29)"
            ]
          },
          "metadata": {},
          "execution_count": 130
        }
      ]
    },
    {
      "cell_type": "code",
      "source": [
        "columns_to_drop = ['SiteEUI(kBtu/sf)',\n",
        "                    'SiteEUIWN(kBtu/sf)',\n",
        "                    'SourceEUI(kBtu/sf)',\n",
        "                    'SourceEUIWN(kBtu/sf)',\n",
        "                    'SiteEnergyUse(kBtu)',\n",
        "                    'SteamUse(kBtu)',\n",
        "                    'Electricity(kWh)',\n",
        "                    'Electricity(kBtu)',\n",
        "                    'NaturalGas(therms)',\n",
        "                    'NaturalGas(kBtu)',\n",
        "                    'OtherFuelUse(kBtu)',\n",
        "                    'GHGEmissionsIntensity'\n",
        "                   ]\n"
      ],
      "metadata": {
        "id": "rj7M3hXsdvku"
      },
      "execution_count": null,
      "outputs": []
    },
    {
      "cell_type": "code",
      "source": [
        "for column in columns_to_drop:\n",
        "    try:\n",
        "        dfTest1.drop(column,axis='columns',inplace=True)\n",
        "    except:\n",
        "        print(f'column {column} not present')"
      ],
      "metadata": {
        "colab": {
          "base_uri": "https://localhost:8080/"
        },
        "id": "swOkDa_lgEA3",
        "outputId": "64f5aa31-9e4d-45bf-fd51-46f5769393b3"
      },
      "execution_count": null,
      "outputs": [
        {
          "output_type": "stream",
          "name": "stdout",
          "text": [
            "column OtherFuelUse(kBtu) not present\n"
          ]
        }
      ]
    },
    {
      "cell_type": "code",
      "source": [
        "# Fill with most representative value\n",
        "dfTest1.NumberofBuildings.replace(np.nan,1,inplace=True)"
      ],
      "metadata": {
        "id": "5YRD55cYdyfR"
      },
      "execution_count": null,
      "outputs": []
    },
    {
      "cell_type": "code",
      "source": [
        "\n",
        "# Fill with most representative value\n",
        "dfTest1.NumberofFloors.replace(np.nan,3,inplace=True)"
      ],
      "metadata": {
        "id": "3yRK7m6Ed0sd"
      },
      "execution_count": null,
      "outputs": []
    },
    {
      "cell_type": "code",
      "source": [
        "dfTest1.drop(['YearsENERGYSTARCertified','PropertyName','TaxParcelIdentificationNumber'], axis='columns',inplace=True)\n"
      ],
      "metadata": {
        "id": "98yMYwkcd3KB"
      },
      "execution_count": null,
      "outputs": []
    },
    {
      "cell_type": "code",
      "source": [
        "dfTest1.drop(['DefaultData','ListOfAllPropertyUseTypes'],axis='columns',inplace=True)\n"
      ],
      "metadata": {
        "id": "R-2z7YCVd4I1"
      },
      "execution_count": null,
      "outputs": []
    },
    {
      "cell_type": "code",
      "source": [
        "dfTest1.drop(['State', 'City'], axis='columns',inplace=True)"
      ],
      "metadata": {
        "id": "qShbyLwyd6sE"
      },
      "execution_count": null,
      "outputs": []
    },
    {
      "cell_type": "code",
      "source": [
        "dfTest1.drop(['ZipCode', 'Address'], axis='columns',inplace=True)"
      ],
      "metadata": {
        "id": "dFHwImGvd-es"
      },
      "execution_count": null,
      "outputs": []
    },
    {
      "cell_type": "code",
      "source": [
        "dfTest1[dfTest1['LargestPropertyUseTypeGFA'].isna()]\n"
      ],
      "metadata": {
        "colab": {
          "base_uri": "https://localhost:8080/",
          "height": 174
        },
        "id": "5R5dD-SReAvt",
        "outputId": "4b23158c-e299-4a0d-d347-f914bdda3314"
      },
      "execution_count": null,
      "outputs": [
        {
          "output_type": "execute_result",
          "data": {
            "text/plain": [
              "Empty DataFrame\n",
              "Columns: [DataYear, BuildingType, PrimaryPropertyType, CouncilDistrictCode, Neighborhood, Latitude, Longitude, YearBuilt, NumberofBuildings, NumberofFloors, PropertyGFATotal, PropertyGFAParking, PropertyGFABuilding(s), LargestPropertyUseType, LargestPropertyUseTypeGFA, SecondLargestPropertyUseType, SecondLargestPropertyUseTypeGFA, ThirdLargestPropertyUseType, ThirdLargestPropertyUseTypeGFA, ENERGYSTARScore, SiteEnergyUseWN(kBtu), ComplianceStatus, Outlier, TotalGHGEmissions]\n",
              "Index: []\n",
              "\n",
              "[0 rows x 24 columns]"
            ],
            "text/html": [
              "\n",
              "  <div id=\"df-cbd18ef4-a006-4810-b0ed-f867cd05634a\">\n",
              "    <div class=\"colab-df-container\">\n",
              "      <div>\n",
              "<style scoped>\n",
              "    .dataframe tbody tr th:only-of-type {\n",
              "        vertical-align: middle;\n",
              "    }\n",
              "\n",
              "    .dataframe tbody tr th {\n",
              "        vertical-align: top;\n",
              "    }\n",
              "\n",
              "    .dataframe thead th {\n",
              "        text-align: right;\n",
              "    }\n",
              "</style>\n",
              "<table border=\"1\" class=\"dataframe\">\n",
              "  <thead>\n",
              "    <tr style=\"text-align: right;\">\n",
              "      <th></th>\n",
              "      <th>DataYear</th>\n",
              "      <th>BuildingType</th>\n",
              "      <th>PrimaryPropertyType</th>\n",
              "      <th>CouncilDistrictCode</th>\n",
              "      <th>Neighborhood</th>\n",
              "      <th>Latitude</th>\n",
              "      <th>Longitude</th>\n",
              "      <th>YearBuilt</th>\n",
              "      <th>NumberofBuildings</th>\n",
              "      <th>NumberofFloors</th>\n",
              "      <th>...</th>\n",
              "      <th>LargestPropertyUseTypeGFA</th>\n",
              "      <th>SecondLargestPropertyUseType</th>\n",
              "      <th>SecondLargestPropertyUseTypeGFA</th>\n",
              "      <th>ThirdLargestPropertyUseType</th>\n",
              "      <th>ThirdLargestPropertyUseTypeGFA</th>\n",
              "      <th>ENERGYSTARScore</th>\n",
              "      <th>SiteEnergyUseWN(kBtu)</th>\n",
              "      <th>ComplianceStatus</th>\n",
              "      <th>Outlier</th>\n",
              "      <th>TotalGHGEmissions</th>\n",
              "    </tr>\n",
              "    <tr>\n",
              "      <th>OSEBuildingID</th>\n",
              "      <th></th>\n",
              "      <th></th>\n",
              "      <th></th>\n",
              "      <th></th>\n",
              "      <th></th>\n",
              "      <th></th>\n",
              "      <th></th>\n",
              "      <th></th>\n",
              "      <th></th>\n",
              "      <th></th>\n",
              "      <th></th>\n",
              "      <th></th>\n",
              "      <th></th>\n",
              "      <th></th>\n",
              "      <th></th>\n",
              "      <th></th>\n",
              "      <th></th>\n",
              "      <th></th>\n",
              "      <th></th>\n",
              "      <th></th>\n",
              "      <th></th>\n",
              "    </tr>\n",
              "  </thead>\n",
              "  <tbody>\n",
              "  </tbody>\n",
              "</table>\n",
              "<p>0 rows × 24 columns</p>\n",
              "</div>\n",
              "      <button class=\"colab-df-convert\" onclick=\"convertToInteractive('df-cbd18ef4-a006-4810-b0ed-f867cd05634a')\"\n",
              "              title=\"Convert this dataframe to an interactive table.\"\n",
              "              style=\"display:none;\">\n",
              "        \n",
              "  <svg xmlns=\"http://www.w3.org/2000/svg\" height=\"24px\"viewBox=\"0 0 24 24\"\n",
              "       width=\"24px\">\n",
              "    <path d=\"M0 0h24v24H0V0z\" fill=\"none\"/>\n",
              "    <path d=\"M18.56 5.44l.94 2.06.94-2.06 2.06-.94-2.06-.94-.94-2.06-.94 2.06-2.06.94zm-11 1L8.5 8.5l.94-2.06 2.06-.94-2.06-.94L8.5 2.5l-.94 2.06-2.06.94zm10 10l.94 2.06.94-2.06 2.06-.94-2.06-.94-.94-2.06-.94 2.06-2.06.94z\"/><path d=\"M17.41 7.96l-1.37-1.37c-.4-.4-.92-.59-1.43-.59-.52 0-1.04.2-1.43.59L10.3 9.45l-7.72 7.72c-.78.78-.78 2.05 0 2.83L4 21.41c.39.39.9.59 1.41.59.51 0 1.02-.2 1.41-.59l7.78-7.78 2.81-2.81c.8-.78.8-2.07 0-2.86zM5.41 20L4 18.59l7.72-7.72 1.47 1.35L5.41 20z\"/>\n",
              "  </svg>\n",
              "      </button>\n",
              "      \n",
              "  <style>\n",
              "    .colab-df-container {\n",
              "      display:flex;\n",
              "      flex-wrap:wrap;\n",
              "      gap: 12px;\n",
              "    }\n",
              "\n",
              "    .colab-df-convert {\n",
              "      background-color: #E8F0FE;\n",
              "      border: none;\n",
              "      border-radius: 50%;\n",
              "      cursor: pointer;\n",
              "      display: none;\n",
              "      fill: #1967D2;\n",
              "      height: 32px;\n",
              "      padding: 0 0 0 0;\n",
              "      width: 32px;\n",
              "    }\n",
              "\n",
              "    .colab-df-convert:hover {\n",
              "      background-color: #E2EBFA;\n",
              "      box-shadow: 0px 1px 2px rgba(60, 64, 67, 0.3), 0px 1px 3px 1px rgba(60, 64, 67, 0.15);\n",
              "      fill: #174EA6;\n",
              "    }\n",
              "\n",
              "    [theme=dark] .colab-df-convert {\n",
              "      background-color: #3B4455;\n",
              "      fill: #D2E3FC;\n",
              "    }\n",
              "\n",
              "    [theme=dark] .colab-df-convert:hover {\n",
              "      background-color: #434B5C;\n",
              "      box-shadow: 0px 1px 3px 1px rgba(0, 0, 0, 0.15);\n",
              "      filter: drop-shadow(0px 1px 2px rgba(0, 0, 0, 0.3));\n",
              "      fill: #FFFFFF;\n",
              "    }\n",
              "  </style>\n",
              "\n",
              "      <script>\n",
              "        const buttonEl =\n",
              "          document.querySelector('#df-cbd18ef4-a006-4810-b0ed-f867cd05634a button.colab-df-convert');\n",
              "        buttonEl.style.display =\n",
              "          google.colab.kernel.accessAllowed ? 'block' : 'none';\n",
              "\n",
              "        async function convertToInteractive(key) {\n",
              "          const element = document.querySelector('#df-cbd18ef4-a006-4810-b0ed-f867cd05634a');\n",
              "          const dataTable =\n",
              "            await google.colab.kernel.invokeFunction('convertToInteractive',\n",
              "                                                     [key], {});\n",
              "          if (!dataTable) return;\n",
              "\n",
              "          const docLinkHtml = 'Like what you see? Visit the ' +\n",
              "            '<a target=\"_blank\" href=https://colab.research.google.com/notebooks/data_table.ipynb>data table notebook</a>'\n",
              "            + ' to learn more about interactive tables.';\n",
              "          element.innerHTML = '';\n",
              "          dataTable['output_type'] = 'display_data';\n",
              "          await google.colab.output.renderOutput(dataTable, element);\n",
              "          const docLink = document.createElement('div');\n",
              "          docLink.innerHTML = docLinkHtml;\n",
              "          element.appendChild(docLink);\n",
              "        }\n",
              "      </script>\n",
              "    </div>\n",
              "  </div>\n",
              "  "
            ]
          },
          "metadata": {},
          "execution_count": 139
        }
      ]
    },
    {
      "cell_type": "code",
      "source": [
        "index_to_drop = dfTest1.drop(['ENERGYSTARScore'], axis=1)[dfTest1.drop(['ENERGYSTARScore'],axis=1).isna().any(axis=1)].index\n"
      ],
      "metadata": {
        "id": "SxMELpndeGJ9"
      },
      "execution_count": null,
      "outputs": []
    },
    {
      "cell_type": "code",
      "source": [
        "dfTest1.drop(index_to_drop, axis=0, inplace=True)"
      ],
      "metadata": {
        "id": "52DYK2GmeIuX"
      },
      "execution_count": null,
      "outputs": []
    },
    {
      "cell_type": "code",
      "source": [
        "dfTest1['logX']=np.log(dfTest1['SiteEnergyUseWN(kBtu)'])"
      ],
      "metadata": {
        "id": "IGN3cEnceKhm"
      },
      "execution_count": null,
      "outputs": []
    },
    {
      "cell_type": "code",
      "source": [
        "yTest = dfTest1.logX\n"
      ],
      "metadata": {
        "id": "bDj5jWEieNwD"
      },
      "execution_count": null,
      "outputs": []
    },
    {
      "cell_type": "code",
      "source": [
        "# Drop additional columns not relevant for prediction task\n",
        "xTest=dfTest1.drop(['DataYear', 'ENERGYSTARScore', 'SiteEnergyUseWN(kBtu)', 'Outlier', 'TotalGHGEmissions', 'logX'], axis='columns')\n",
        "xTest.info()"
      ],
      "metadata": {
        "colab": {
          "base_uri": "https://localhost:8080/"
        },
        "id": "8uIrQCW8eQip",
        "outputId": "31e633b5-830d-41f7-dc81-358a87ae052d"
      },
      "execution_count": null,
      "outputs": [
        {
          "output_type": "stream",
          "name": "stdout",
          "text": [
            "<class 'pandas.core.frame.DataFrame'>\n",
            "Int64Index: 13 entries, 66 to 27456\n",
            "Data columns (total 19 columns):\n",
            " #   Column                           Non-Null Count  Dtype  \n",
            "---  ------                           --------------  -----  \n",
            " 0   BuildingType                     13 non-null     object \n",
            " 1   PrimaryPropertyType              13 non-null     object \n",
            " 2   CouncilDistrictCode              13 non-null     int64  \n",
            " 3   Neighborhood                     13 non-null     object \n",
            " 4   Latitude                         13 non-null     float64\n",
            " 5   Longitude                        13 non-null     float64\n",
            " 6   YearBuilt                        13 non-null     int64  \n",
            " 7   NumberofBuildings                13 non-null     int64  \n",
            " 8   NumberofFloors                   13 non-null     int64  \n",
            " 9   PropertyGFATotal                 13 non-null     int64  \n",
            " 10  PropertyGFAParking               13 non-null     int64  \n",
            " 11  PropertyGFABuilding(s)           13 non-null     int64  \n",
            " 12  LargestPropertyUseType           13 non-null     object \n",
            " 13  LargestPropertyUseTypeGFA        13 non-null     int64  \n",
            " 14  SecondLargestPropertyUseType     13 non-null     object \n",
            " 15  SecondLargestPropertyUseTypeGFA  13 non-null     float64\n",
            " 16  ThirdLargestPropertyUseType      13 non-null     object \n",
            " 17  ThirdLargestPropertyUseTypeGFA   13 non-null     float64\n",
            " 18  ComplianceStatus                 13 non-null     object \n",
            "dtypes: float64(4), int64(8), object(7)\n",
            "memory usage: 2.0+ KB\n"
          ]
        }
      ]
    },
    {
      "cell_type": "code",
      "source": [
        "to_categorical = xTest.select_dtypes(['object']).keys()\n",
        "list(to_categorical)"
      ],
      "metadata": {
        "colab": {
          "base_uri": "https://localhost:8080/"
        },
        "id": "zAxyoUzeeUEV",
        "outputId": "48a19ee0-a6dd-4e27-8f0f-eaf7a2a02e6d"
      },
      "execution_count": null,
      "outputs": [
        {
          "output_type": "execute_result",
          "data": {
            "text/plain": [
              "['BuildingType',\n",
              " 'PrimaryPropertyType',\n",
              " 'Neighborhood',\n",
              " 'LargestPropertyUseType',\n",
              " 'SecondLargestPropertyUseType',\n",
              " 'ThirdLargestPropertyUseType',\n",
              " 'ComplianceStatus']"
            ]
          },
          "metadata": {},
          "execution_count": 145
        }
      ]
    },
    {
      "cell_type": "code",
      "source": [
        "xTest= pd.get_dummies(data=xTest, columns=list(to_categorical))\n",
        "\n",
        "scaler = StandardScaler(copy=False)"
      ],
      "metadata": {
        "id": "ZQwHZVdzeYU6"
      },
      "execution_count": null,
      "outputs": []
    },
    {
      "cell_type": "code",
      "source": [
        "# Normalize numerical features using sklearn scaler\n",
        "numeric_columns = xTest.select_dtypes(['float64', 'int64']).columns\n",
        "xTest[numeric_columns] = scaler.fit_transform(xTest[numeric_columns],yTest)\n",
        "\n"
      ],
      "metadata": {
        "id": "GGi6D4z_bIiV"
      },
      "execution_count": null,
      "outputs": []
    },
    {
      "cell_type": "code",
      "source": [
        "predsTest= RandomForestmodel_search.predict(xTest)\n",
        "print(f'Square Root of Mean Squared Error: {math.sqrt(mean_squared_error(yTest,predsTest))}')"
      ],
      "metadata": {
        "colab": {
          "base_uri": "https://localhost:8080/",
          "height": 450
        },
        "id": "BdDkIQDMegOM",
        "outputId": "278cd6b3-c71d-4b0e-8a93-d825f9bc0904"
      },
      "execution_count": null,
      "outputs": [
        {
          "output_type": "error",
          "ename": "ValueError",
          "evalue": "ignored",
          "traceback": [
            "\u001b[0;31m---------------------------------------------------------------------------\u001b[0m",
            "\u001b[0;31mValueError\u001b[0m                                Traceback (most recent call last)",
            "\u001b[0;32m<ipython-input-148-98d133da3cb7>\u001b[0m in \u001b[0;36m<cell line: 1>\u001b[0;34m()\u001b[0m\n\u001b[0;32m----> 1\u001b[0;31m \u001b[0mpredsTest\u001b[0m\u001b[0;34m=\u001b[0m \u001b[0mRandomForestmodel_search\u001b[0m\u001b[0;34m.\u001b[0m\u001b[0mpredict\u001b[0m\u001b[0;34m(\u001b[0m\u001b[0mxTest\u001b[0m\u001b[0;34m)\u001b[0m\u001b[0;34m\u001b[0m\u001b[0;34m\u001b[0m\u001b[0m\n\u001b[0m\u001b[1;32m      2\u001b[0m \u001b[0mprint\u001b[0m\u001b[0;34m(\u001b[0m\u001b[0;34mf'Square Root of Mean Squared Error: {math.sqrt(mean_squared_error(yTest,predsTest))}'\u001b[0m\u001b[0;34m)\u001b[0m\u001b[0;34m\u001b[0m\u001b[0;34m\u001b[0m\u001b[0m\n",
            "\u001b[0;32m/usr/local/lib/python3.10/dist-packages/sklearn/model_selection/_search.py\u001b[0m in \u001b[0;36mpredict\u001b[0;34m(self, X)\u001b[0m\n\u001b[1;32m    497\u001b[0m         \"\"\"\n\u001b[1;32m    498\u001b[0m         \u001b[0mcheck_is_fitted\u001b[0m\u001b[0;34m(\u001b[0m\u001b[0mself\u001b[0m\u001b[0;34m)\u001b[0m\u001b[0;34m\u001b[0m\u001b[0;34m\u001b[0m\u001b[0m\n\u001b[0;32m--> 499\u001b[0;31m         \u001b[0;32mreturn\u001b[0m \u001b[0mself\u001b[0m\u001b[0;34m.\u001b[0m\u001b[0mbest_estimator_\u001b[0m\u001b[0;34m.\u001b[0m\u001b[0mpredict\u001b[0m\u001b[0;34m(\u001b[0m\u001b[0mX\u001b[0m\u001b[0;34m)\u001b[0m\u001b[0;34m\u001b[0m\u001b[0;34m\u001b[0m\u001b[0m\n\u001b[0m\u001b[1;32m    500\u001b[0m \u001b[0;34m\u001b[0m\u001b[0m\n\u001b[1;32m    501\u001b[0m     \u001b[0;34m@\u001b[0m\u001b[0mavailable_if\u001b[0m\u001b[0;34m(\u001b[0m\u001b[0m_estimator_has\u001b[0m\u001b[0;34m(\u001b[0m\u001b[0;34m\"predict_proba\"\u001b[0m\u001b[0;34m)\u001b[0m\u001b[0;34m)\u001b[0m\u001b[0;34m\u001b[0m\u001b[0;34m\u001b[0m\u001b[0m\n",
            "\u001b[0;32m/usr/local/lib/python3.10/dist-packages/sklearn/ensemble/_forest.py\u001b[0m in \u001b[0;36mpredict\u001b[0;34m(self, X)\u001b[0m\n\u001b[1;32m    979\u001b[0m         \u001b[0mcheck_is_fitted\u001b[0m\u001b[0;34m(\u001b[0m\u001b[0mself\u001b[0m\u001b[0;34m)\u001b[0m\u001b[0;34m\u001b[0m\u001b[0;34m\u001b[0m\u001b[0m\n\u001b[1;32m    980\u001b[0m         \u001b[0;31m# Check data\u001b[0m\u001b[0;34m\u001b[0m\u001b[0;34m\u001b[0m\u001b[0m\n\u001b[0;32m--> 981\u001b[0;31m         \u001b[0mX\u001b[0m \u001b[0;34m=\u001b[0m \u001b[0mself\u001b[0m\u001b[0;34m.\u001b[0m\u001b[0m_validate_X_predict\u001b[0m\u001b[0;34m(\u001b[0m\u001b[0mX\u001b[0m\u001b[0;34m)\u001b[0m\u001b[0;34m\u001b[0m\u001b[0;34m\u001b[0m\u001b[0m\n\u001b[0m\u001b[1;32m    982\u001b[0m \u001b[0;34m\u001b[0m\u001b[0m\n\u001b[1;32m    983\u001b[0m         \u001b[0;31m# Assign chunk of trees to jobs\u001b[0m\u001b[0;34m\u001b[0m\u001b[0;34m\u001b[0m\u001b[0m\n",
            "\u001b[0;32m/usr/local/lib/python3.10/dist-packages/sklearn/ensemble/_forest.py\u001b[0m in \u001b[0;36m_validate_X_predict\u001b[0;34m(self, X)\u001b[0m\n\u001b[1;32m    600\u001b[0m         Validate X whenever one tries to predict, apply, predict_proba.\"\"\"\n\u001b[1;32m    601\u001b[0m         \u001b[0mcheck_is_fitted\u001b[0m\u001b[0;34m(\u001b[0m\u001b[0mself\u001b[0m\u001b[0;34m)\u001b[0m\u001b[0;34m\u001b[0m\u001b[0;34m\u001b[0m\u001b[0m\n\u001b[0;32m--> 602\u001b[0;31m         \u001b[0mX\u001b[0m \u001b[0;34m=\u001b[0m \u001b[0mself\u001b[0m\u001b[0;34m.\u001b[0m\u001b[0m_validate_data\u001b[0m\u001b[0;34m(\u001b[0m\u001b[0mX\u001b[0m\u001b[0;34m,\u001b[0m \u001b[0mdtype\u001b[0m\u001b[0;34m=\u001b[0m\u001b[0mDTYPE\u001b[0m\u001b[0;34m,\u001b[0m \u001b[0maccept_sparse\u001b[0m\u001b[0;34m=\u001b[0m\u001b[0;34m\"csr\"\u001b[0m\u001b[0;34m,\u001b[0m \u001b[0mreset\u001b[0m\u001b[0;34m=\u001b[0m\u001b[0;32mFalse\u001b[0m\u001b[0;34m)\u001b[0m\u001b[0;34m\u001b[0m\u001b[0;34m\u001b[0m\u001b[0m\n\u001b[0m\u001b[1;32m    603\u001b[0m         \u001b[0;32mif\u001b[0m \u001b[0missparse\u001b[0m\u001b[0;34m(\u001b[0m\u001b[0mX\u001b[0m\u001b[0;34m)\u001b[0m \u001b[0;32mand\u001b[0m \u001b[0;34m(\u001b[0m\u001b[0mX\u001b[0m\u001b[0;34m.\u001b[0m\u001b[0mindices\u001b[0m\u001b[0;34m.\u001b[0m\u001b[0mdtype\u001b[0m \u001b[0;34m!=\u001b[0m \u001b[0mnp\u001b[0m\u001b[0;34m.\u001b[0m\u001b[0mintc\u001b[0m \u001b[0;32mor\u001b[0m \u001b[0mX\u001b[0m\u001b[0;34m.\u001b[0m\u001b[0mindptr\u001b[0m\u001b[0;34m.\u001b[0m\u001b[0mdtype\u001b[0m \u001b[0;34m!=\u001b[0m \u001b[0mnp\u001b[0m\u001b[0;34m.\u001b[0m\u001b[0mintc\u001b[0m\u001b[0;34m)\u001b[0m\u001b[0;34m:\u001b[0m\u001b[0;34m\u001b[0m\u001b[0;34m\u001b[0m\u001b[0m\n\u001b[1;32m    604\u001b[0m             \u001b[0;32mraise\u001b[0m \u001b[0mValueError\u001b[0m\u001b[0;34m(\u001b[0m\u001b[0;34m\"No support for np.int64 index based sparse matrices\"\u001b[0m\u001b[0;34m)\u001b[0m\u001b[0;34m\u001b[0m\u001b[0;34m\u001b[0m\u001b[0m\n",
            "\u001b[0;32m/usr/local/lib/python3.10/dist-packages/sklearn/base.py\u001b[0m in \u001b[0;36m_validate_data\u001b[0;34m(self, X, y, reset, validate_separately, **check_params)\u001b[0m\n\u001b[1;32m    546\u001b[0m             \u001b[0mvalidated\u001b[0m\u001b[0;34m.\u001b[0m\u001b[0;34m\u001b[0m\u001b[0;34m\u001b[0m\u001b[0m\n\u001b[1;32m    547\u001b[0m         \"\"\"\n\u001b[0;32m--> 548\u001b[0;31m         \u001b[0mself\u001b[0m\u001b[0;34m.\u001b[0m\u001b[0m_check_feature_names\u001b[0m\u001b[0;34m(\u001b[0m\u001b[0mX\u001b[0m\u001b[0;34m,\u001b[0m \u001b[0mreset\u001b[0m\u001b[0;34m=\u001b[0m\u001b[0mreset\u001b[0m\u001b[0;34m)\u001b[0m\u001b[0;34m\u001b[0m\u001b[0;34m\u001b[0m\u001b[0m\n\u001b[0m\u001b[1;32m    549\u001b[0m \u001b[0;34m\u001b[0m\u001b[0m\n\u001b[1;32m    550\u001b[0m         \u001b[0;32mif\u001b[0m \u001b[0my\u001b[0m \u001b[0;32mis\u001b[0m \u001b[0;32mNone\u001b[0m \u001b[0;32mand\u001b[0m \u001b[0mself\u001b[0m\u001b[0;34m.\u001b[0m\u001b[0m_get_tags\u001b[0m\u001b[0;34m(\u001b[0m\u001b[0;34m)\u001b[0m\u001b[0;34m[\u001b[0m\u001b[0;34m\"requires_y\"\u001b[0m\u001b[0;34m]\u001b[0m\u001b[0;34m:\u001b[0m\u001b[0;34m\u001b[0m\u001b[0;34m\u001b[0m\u001b[0m\n",
            "\u001b[0;32m/usr/local/lib/python3.10/dist-packages/sklearn/base.py\u001b[0m in \u001b[0;36m_check_feature_names\u001b[0;34m(self, X, reset)\u001b[0m\n\u001b[1;32m    479\u001b[0m                 )\n\u001b[1;32m    480\u001b[0m \u001b[0;34m\u001b[0m\u001b[0m\n\u001b[0;32m--> 481\u001b[0;31m             \u001b[0;32mraise\u001b[0m \u001b[0mValueError\u001b[0m\u001b[0;34m(\u001b[0m\u001b[0mmessage\u001b[0m\u001b[0;34m)\u001b[0m\u001b[0;34m\u001b[0m\u001b[0;34m\u001b[0m\u001b[0m\n\u001b[0m\u001b[1;32m    482\u001b[0m \u001b[0;34m\u001b[0m\u001b[0m\n\u001b[1;32m    483\u001b[0m     def _validate_data(\n",
            "\u001b[0;31mValueError\u001b[0m: The feature names should match those that were passed during fit.\nFeature names seen at fit time, yet now missing:\n- BuildingType_Multifamily HR (10+)\n- BuildingType_Multifamily LR (1-4)\n- BuildingType_Nonresidential WA\n- BuildingType_SPS-District K-12\n- ComplianceStatus_Missing Data\n- ...\n"
          ]
        }
      ]
    }
  ]
}